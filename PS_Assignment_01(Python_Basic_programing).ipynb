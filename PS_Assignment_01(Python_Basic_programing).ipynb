{
  "nbformat": 4,
  "nbformat_minor": 0,
  "metadata": {
    "colab": {
      "provenance": []
    },
    "kernelspec": {
      "name": "python3",
      "display_name": "Python 3"
    },
    "language_info": {
      "name": "python"
    }
  },
  "cells": [
    {
      "cell_type": "markdown",
      "source": [
        "### Python (Basic programing) Assignment No. 01\n",
        "\n",
        "1 Batch - Full Stack Data Science Bootcamp 2.0\n",
        "\n",
        "2 Name - **Prerit Sharma**\n",
        "\n",
        "3 Email ID - **praritsharma7@gmail.com**"
      ],
      "metadata": {
        "id": "ay7zOZuajNKm"
      }
    },
    {
      "cell_type": "markdown",
      "source": [
        "\n",
        "\n",
        "---\n",
        "\n"
      ],
      "metadata": {
        "id": "yzL7SUovjhLZ"
      }
    },
    {
      "cell_type": "markdown",
      "source": [
        "###Q 1. Write a Python program to print &quot;Hello Python&quot;?"
      ],
      "metadata": {
        "id": "H2Ydkj7fkder"
      }
    },
    {
      "cell_type": "markdown",
      "source": [
        "###Ans.\n"
      ],
      "metadata": {
        "id": "3e74KhYJkkxU"
      }
    },
    {
      "cell_type": "code",
      "source": [
        "print(\"Hello Python\")"
      ],
      "metadata": {
        "colab": {
          "base_uri": "https://localhost:8080/"
        },
        "id": "Fgp-KuSFkoCV",
        "outputId": "b2265dd2-c6a0-49d9-fc57-f08f25548486"
      },
      "execution_count": null,
      "outputs": [
        {
          "output_type": "stream",
          "name": "stdout",
          "text": [
            "Hello Python\n"
          ]
        }
      ]
    },
    {
      "cell_type": "markdown",
      "source": [
        "\n",
        "\n",
        "---\n",
        "\n"
      ],
      "metadata": {
        "id": "fU9ggurOkzAj"
      }
    },
    {
      "cell_type": "markdown",
      "source": [
        "###Q 2. Write a Python program to do arithmetical operations addition and division.?"
      ],
      "metadata": {
        "id": "1P3iRuIEk8fQ"
      }
    },
    {
      "cell_type": "markdown",
      "source": [
        "###Ans.\n"
      ],
      "metadata": {
        "id": "EzX4gwHuk-74"
      }
    },
    {
      "cell_type": "code",
      "source": [
        "a=8\n",
        "b=2"
      ],
      "metadata": {
        "id": "bLxuhTbOlA7A"
      },
      "execution_count": null,
      "outputs": []
    },
    {
      "cell_type": "code",
      "source": [
        "print(a+b)"
      ],
      "metadata": {
        "colab": {
          "base_uri": "https://localhost:8080/"
        },
        "id": "nxcYEicXlHFI",
        "outputId": "5520152d-8430-40f4-bb7e-7df732a97be0"
      },
      "execution_count": null,
      "outputs": [
        {
          "output_type": "stream",
          "name": "stdout",
          "text": [
            "10\n"
          ]
        }
      ]
    },
    {
      "cell_type": "code",
      "source": [
        "print(a/b)"
      ],
      "metadata": {
        "colab": {
          "base_uri": "https://localhost:8080/"
        },
        "id": "rm5wE17alRC-",
        "outputId": "5663b573-7c8c-4186-83c9-f9cf8fa02171"
      },
      "execution_count": null,
      "outputs": [
        {
          "output_type": "stream",
          "name": "stdout",
          "text": [
            "4.0\n"
          ]
        }
      ]
    },
    {
      "cell_type": "markdown",
      "source": [
        "\n",
        "\n",
        "---\n",
        "\n"
      ],
      "metadata": {
        "id": "X0u-pUpulWyE"
      }
    },
    {
      "cell_type": "markdown",
      "source": [
        "###Q 3. Write a Python program to find the area of a triangle?"
      ],
      "metadata": {
        "id": "ghtSDtPulX1P"
      }
    },
    {
      "cell_type": "markdown",
      "source": [
        "###Ans."
      ],
      "metadata": {
        "id": "3-ATJp9Jlah9"
      }
    },
    {
      "cell_type": "code",
      "source": [
        "a=float(input('enter first side:'))\n",
        "b=float(input('enter second side:'))\n",
        "c=float(input('enter third side:'))\n",
        "s=(a+b+c)/2\n",
        "area=(s*(s-a)*(s-b)*(s-c))**0.5\n",
        "print('The area of Triangle is % 0.2f'% area)"
      ],
      "metadata": {
        "colab": {
          "base_uri": "https://localhost:8080/"
        },
        "id": "7Ha8Q_Zdlcbk",
        "outputId": "ad698684-cf7f-4f91-f42d-6b1c458d0f57"
      },
      "execution_count": null,
      "outputs": [
        {
          "output_type": "stream",
          "name": "stdout",
          "text": [
            "enter first side:3\n",
            "enter second side:4\n",
            "enter third side:2\n",
            "The area of Triangle is  2.90\n"
          ]
        }
      ]
    },
    {
      "cell_type": "markdown",
      "source": [
        "\n",
        "\n",
        "---\n",
        "\n"
      ],
      "metadata": {
        "id": "RYZ1u_zJnj6h"
      }
    },
    {
      "cell_type": "markdown",
      "source": [
        "###Q 4. Write a Python program to swap two variables?"
      ],
      "metadata": {
        "id": "XRWaTDJLnlEB"
      }
    },
    {
      "cell_type": "markdown",
      "source": [
        "###Ans.\n"
      ],
      "metadata": {
        "id": "TxElrz0HntyA"
      }
    },
    {
      "cell_type": "code",
      "source": [
        "a=69\n",
        "b=37\n",
        "print(\"initial value of a=\",a)\n",
        "print(\"initial value of b\",b)\n",
        "temp=a\n",
        "a=b\n",
        "b=temp\n",
        "print(\"\\n after Swaping value of a=\",a)\n",
        "print(\"\\n after Swaping value of b=\",b)\n"
      ],
      "metadata": {
        "colab": {
          "base_uri": "https://localhost:8080/"
        },
        "id": "VGbxh3ognwNQ",
        "outputId": "4d42b7ac-12ce-4929-ab98-a9049a939104"
      },
      "execution_count": null,
      "outputs": [
        {
          "output_type": "stream",
          "name": "stdout",
          "text": [
            "initial value of a= 69\n",
            "initial value of b 37\n",
            "\n",
            " after Swaping value of a= 37\n",
            "\n",
            " after Swaping value of b= 69\n"
          ]
        }
      ]
    },
    {
      "cell_type": "markdown",
      "source": [
        "\n",
        "\n",
        "---\n",
        "\n"
      ],
      "metadata": {
        "id": "heHZSaIhpGTJ"
      }
    },
    {
      "cell_type": "markdown",
      "source": [
        "###Q 5. Write a Python program to generate a random number?\n"
      ],
      "metadata": {
        "id": "c1UmrzEXpHLJ"
      }
    },
    {
      "cell_type": "markdown",
      "source": [
        "###Ans."
      ],
      "metadata": {
        "id": "Aiq_TMMWpLgB"
      }
    },
    {
      "cell_type": "code",
      "source": [
        "import random\n",
        "n = random.randint(1,30)\n",
        "print(n)"
      ],
      "metadata": {
        "colab": {
          "base_uri": "https://localhost:8080/"
        },
        "id": "W2Xu-0chpK3B",
        "outputId": "4401efef-936a-4d5a-da23-29dd29e06469"
      },
      "execution_count": null,
      "outputs": [
        {
          "output_type": "stream",
          "name": "stdout",
          "text": [
            "25\n"
          ]
        }
      ]
    },
    {
      "cell_type": "markdown",
      "source": [
        "------------------------------------------------------------End------------------------------------------------------------------------------\n"
      ],
      "metadata": {
        "id": "lkT9yrTvnvQf"
      }
    }
  ]
}