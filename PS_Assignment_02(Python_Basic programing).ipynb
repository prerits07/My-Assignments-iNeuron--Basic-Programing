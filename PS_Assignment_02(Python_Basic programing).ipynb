{
  "nbformat": 4,
  "nbformat_minor": 0,
  "metadata": {
    "colab": {
      "provenance": []
    },
    "kernelspec": {
      "name": "python3",
      "display_name": "Python 3"
    },
    "language_info": {
      "name": "python"
    }
  },
  "cells": [
    {
      "cell_type": "markdown",
      "source": [
        "### Python (Advance) Assignment No. 02\n",
        "\n",
        "1 Batch - Full Stack Data Science Bootcamp 2.0\n",
        "\n",
        "2 Name - **Prerit Sharma**\n",
        "\n",
        "3 Email ID - **praritsharma7@gmail.com**"
      ],
      "metadata": {
        "id": "7Xu5HdtF7SHx"
      }
    },
    {
      "cell_type": "markdown",
      "source": [
        "###Q 1. Write a Python program to convert kilometers to miles?"
      ],
      "metadata": {
        "id": "9sUbQSu_7KXF"
      }
    },
    {
      "cell_type": "markdown",
      "source": [
        "###Ans."
      ],
      "metadata": {
        "id": "A1AF5u5P7LLh"
      }
    },
    {
      "cell_type": "code",
      "source": [
        "#convert kilometers to miles\n",
        "\n",
        "kilometers = float(input(\"Enter value in kilometers: \"))\n",
        "conversion_factor = 0.621\n",
        "miles = kilometers*conversion_factor\n",
        "print(\"%0.2f kilometers is equal to %0.2f miles\" %(kilometers, miles))"
      ],
      "metadata": {
        "colab": {
          "base_uri": "https://localhost:8080/"
        },
        "id": "tVM12qBJBY1r",
        "outputId": "bfa82cb4-d081-45f9-924c-53229055e3e8"
      },
      "execution_count": null,
      "outputs": [
        {
          "output_type": "stream",
          "name": "stdout",
          "text": [
            "Enter value in kilometers: 7\n",
            "7.00 kilometers is equal to 4.35 miles\n"
          ]
        }
      ]
    },
    {
      "cell_type": "markdown",
      "source": [
        "\n",
        "\n",
        "---\n",
        "\n"
      ],
      "metadata": {
        "id": "KHNuzrVBBb76"
      }
    },
    {
      "cell_type": "markdown",
      "source": [
        "###Q 2. Write a Python program to convert Celsius to Fahrenheit?"
      ],
      "metadata": {
        "id": "3i46VmY4Bcni"
      }
    },
    {
      "cell_type": "markdown",
      "source": [
        "###Ans."
      ],
      "metadata": {
        "id": "C7IoYPHIBisK"
      }
    },
    {
      "cell_type": "code",
      "source": [
        "#Convert Celsius to Fahrenheit\n",
        "celsius = float(input(\"Enter temperature in celcius:\"))\n",
        "fahr = (celsius*9/5)+32\n",
        "print(\"Temperature in Fahrenheit is: \", fahr)"
      ],
      "metadata": {
        "colab": {
          "base_uri": "https://localhost:8080/"
        },
        "id": "hSbBuNunBkpa",
        "outputId": "c7129ffd-b0c6-4177-ebf0-0352dc5f94aa"
      },
      "execution_count": null,
      "outputs": [
        {
          "output_type": "stream",
          "name": "stdout",
          "text": [
            "Enter temperature in celcius:39\n",
            "Temperature in Fahrenheit is:  102.2\n"
          ]
        }
      ]
    },
    {
      "cell_type": "markdown",
      "source": [
        "\n",
        "\n",
        "---\n",
        "\n"
      ],
      "metadata": {
        "id": "RH_dJrtfEIZn"
      }
    },
    {
      "cell_type": "markdown",
      "source": [
        "###Q3. Write a Python program to display calendar?"
      ],
      "metadata": {
        "id": "PjFlbajpEI9C"
      }
    },
    {
      "cell_type": "markdown",
      "source": [
        "###Ans.\n"
      ],
      "metadata": {
        "id": "lX1psL1qEMoP"
      }
    },
    {
      "cell_type": "code",
      "source": [
        "import calendar\n",
        "def showcalender():\n",
        "  year=int(input(\"enter calender year:\"))\n",
        "  print(calendar.calendar(year))\n",
        "\n",
        "showcalender()"
      ],
      "metadata": {
        "colab": {
          "base_uri": "https://localhost:8080/"
        },
        "id": "e7s9hOJnEQIo",
        "outputId": "ea1cd6b4-2558-4387-af76-104422b50d75"
      },
      "execution_count": null,
      "outputs": [
        {
          "output_type": "stream",
          "name": "stdout",
          "text": [
            "enter calender year:2023\n",
            "                                  2023\n",
            "\n",
            "      January                   February                   March\n",
            "Mo Tu We Th Fr Sa Su      Mo Tu We Th Fr Sa Su      Mo Tu We Th Fr Sa Su\n",
            "                   1             1  2  3  4  5             1  2  3  4  5\n",
            " 2  3  4  5  6  7  8       6  7  8  9 10 11 12       6  7  8  9 10 11 12\n",
            " 9 10 11 12 13 14 15      13 14 15 16 17 18 19      13 14 15 16 17 18 19\n",
            "16 17 18 19 20 21 22      20 21 22 23 24 25 26      20 21 22 23 24 25 26\n",
            "23 24 25 26 27 28 29      27 28                     27 28 29 30 31\n",
            "30 31\n",
            "\n",
            "       April                      May                       June\n",
            "Mo Tu We Th Fr Sa Su      Mo Tu We Th Fr Sa Su      Mo Tu We Th Fr Sa Su\n",
            "                1  2       1  2  3  4  5  6  7                1  2  3  4\n",
            " 3  4  5  6  7  8  9       8  9 10 11 12 13 14       5  6  7  8  9 10 11\n",
            "10 11 12 13 14 15 16      15 16 17 18 19 20 21      12 13 14 15 16 17 18\n",
            "17 18 19 20 21 22 23      22 23 24 25 26 27 28      19 20 21 22 23 24 25\n",
            "24 25 26 27 28 29 30      29 30 31                  26 27 28 29 30\n",
            "\n",
            "        July                     August                  September\n",
            "Mo Tu We Th Fr Sa Su      Mo Tu We Th Fr Sa Su      Mo Tu We Th Fr Sa Su\n",
            "                1  2          1  2  3  4  5  6                   1  2  3\n",
            " 3  4  5  6  7  8  9       7  8  9 10 11 12 13       4  5  6  7  8  9 10\n",
            "10 11 12 13 14 15 16      14 15 16 17 18 19 20      11 12 13 14 15 16 17\n",
            "17 18 19 20 21 22 23      21 22 23 24 25 26 27      18 19 20 21 22 23 24\n",
            "24 25 26 27 28 29 30      28 29 30 31               25 26 27 28 29 30\n",
            "31\n",
            "\n",
            "      October                   November                  December\n",
            "Mo Tu We Th Fr Sa Su      Mo Tu We Th Fr Sa Su      Mo Tu We Th Fr Sa Su\n",
            "                   1             1  2  3  4  5                   1  2  3\n",
            " 2  3  4  5  6  7  8       6  7  8  9 10 11 12       4  5  6  7  8  9 10\n",
            " 9 10 11 12 13 14 15      13 14 15 16 17 18 19      11 12 13 14 15 16 17\n",
            "16 17 18 19 20 21 22      20 21 22 23 24 25 26      18 19 20 21 22 23 24\n",
            "23 24 25 26 27 28 29      27 28 29 30               25 26 27 28 29 30 31\n",
            "30 31\n",
            "\n"
          ]
        }
      ]
    },
    {
      "cell_type": "markdown",
      "source": [
        "\n",
        "\n",
        "---\n",
        "\n",
        "\n"
      ],
      "metadata": {
        "id": "6vvYi__mEPRH"
      }
    },
    {
      "cell_type": "markdown",
      "source": [
        "###Q 4. Write a Python program to solve quadratic equation?"
      ],
      "metadata": {
        "id": "-zFdDTjuETjv"
      }
    },
    {
      "cell_type": "markdown",
      "source": [
        "###Ans."
      ],
      "metadata": {
        "id": "NlMOYFljEWqB"
      }
    },
    {
      "cell_type": "code",
      "source": [
        "import cmath\n",
        "import math\n",
        "\n",
        "def quadarticEquationRoots(a,b,c):\n",
        "\n",
        "    discriminant = b*b-4*a*c\n",
        "\n",
        "    if discriminant == 0:\n",
        "        ans1 = -b/2*a\n",
        "        ans2 = -b/2*a\n",
        "        print(\"Roots are Real\",ans1,ans2)\n",
        "    elif discriminant > 0:\n",
        "        ans1 = (-b-math.sqrt(discriminant))/(2 * a)\n",
        "        ans2 = (-b+math.sqrt(discriminant))/(2 * a)\n",
        "        print(\"Roots are Real and different\",ans1,ans2)\n",
        "    else:\n",
        "        ans1 = (-b-cmath.sqrt(discriminant))/(2 * a)\n",
        "        ans2 = (-b+cmath.sqrt(discriminant))/(2 * a)\n",
        "        print(\"Roots are Imaginary\",ans1,ans2)\n"
      ],
      "metadata": {
        "id": "MaWz87AXEYQv"
      },
      "execution_count": 9,
      "outputs": []
    },
    {
      "cell_type": "code",
      "source": [
        "quadarticEquationRoots(3,5,2)"
      ],
      "metadata": {
        "colab": {
          "base_uri": "https://localhost:8080/"
        },
        "id": "Oglp5KzXkc9N",
        "outputId": "313317b5-d01b-4c37-fee9-2c79f642c24f"
      },
      "execution_count": 10,
      "outputs": [
        {
          "output_type": "stream",
          "name": "stdout",
          "text": [
            "Roots are Real and different -1.0 -0.6666666666666666\n"
          ]
        }
      ]
    },
    {
      "cell_type": "markdown",
      "source": [
        "\n",
        "\n",
        "---\n",
        "\n"
      ],
      "metadata": {
        "id": "nm8VdWVjEYdZ"
      }
    },
    {
      "cell_type": "markdown",
      "source": [
        "###Q 5. Write a Python program to swap two variables without temp variable?"
      ],
      "metadata": {
        "id": "8jryQLDHEZIP"
      }
    },
    {
      "cell_type": "markdown",
      "source": [
        "###Ans."
      ],
      "metadata": {
        "id": "1l5I6BnzEdnw"
      }
    },
    {
      "cell_type": "code",
      "source": [
        "a=10\n",
        "b=20\n",
        "\n",
        "print('Before Swapping')\n",
        "print(\"Value of a:\",a,\"Value of b:\",b)\n",
        "\n",
        "a,b=b,a\n",
        "\n",
        "print('After Swapping')\n",
        "print(\"Value of a:\",a,\"Value of b:\",b)"
      ],
      "metadata": {
        "id": "gkPnME_nEfIY",
        "colab": {
          "base_uri": "https://localhost:8080/"
        },
        "outputId": "7cfca06d-2414-4884-a353-3f21bae507bd"
      },
      "execution_count": 11,
      "outputs": [
        {
          "output_type": "stream",
          "name": "stdout",
          "text": [
            "Before Swapping\n",
            "Value of a: 10 Value of b: 20\n",
            "After Swapping\n",
            "Value of a: 20 Value of b: 10\n"
          ]
        }
      ]
    },
    {
      "cell_type": "markdown",
      "source": [
        "----------------------------------------------------------------End--------------------------------------------------------------------------------------"
      ],
      "metadata": {
        "id": "xP17AhEpEf6o"
      }
    }
  ]
}