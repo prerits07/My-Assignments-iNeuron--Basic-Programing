{
  "nbformat": 4,
  "nbformat_minor": 0,
  "metadata": {
    "colab": {
      "provenance": []
    },
    "kernelspec": {
      "name": "python3",
      "display_name": "Python 3"
    },
    "language_info": {
      "name": "python"
    }
  },
  "cells": [
    {
      "cell_type": "markdown",
      "source": [
        "### Python (Advance) Assignment No. 03\n",
        "\n",
        "1 Batch - Full Stack Data Science Bootcamp 2.0\n",
        "\n",
        "2 Name - **Prerit Sharma**\n",
        "\n",
        "3 Email ID - **praritsharma7@gmail.com**"
      ],
      "metadata": {
        "id": "b7KVDEyVmxh_"
      }
    },
    {
      "cell_type": "markdown",
      "source": [
        "\n",
        "\n",
        "---\n",
        "\n"
      ],
      "metadata": {
        "id": "3EBvuSlTm0Aj"
      }
    },
    {
      "cell_type": "markdown",
      "source": [
        "###Q 1. What is the concept of an abstract superclass?"
      ],
      "metadata": {
        "id": "fnF4QiIZm09X"
      }
    },
    {
      "cell_type": "markdown",
      "source": [
        "###Ans.\n",
        "An abstract class/superclass can be considered as a blueprint for other classes. It allows US to create a set of methods that must be created within any child classes built from the abstract class. A class which contains one or more abstract methods is called an abstract class Whereas an abstract method is a method that has a declaration but does not have an implementation"
      ],
      "metadata": {
        "id": "hs5X-1PhnJYX"
      }
    },
    {
      "cell_type": "code",
      "source": [
        "from abc import ABC, abstractmethod\n",
        "class Polygon(ABC): # Abstract Class\n",
        "    @abstractmethod\n",
        "    def noofsides(self): # Abstract Method\n",
        "        pass\n",
        "class Triangle(Polygon):\n",
        "    def noofsides(self):  # overriding abstract method in child class Triangle\n",
        "        print(\"I have 3 sides\")\n",
        "class Pentagon(Polygon):\n",
        "    def noofsides(self): # overriding abstract method in child class Pentagon\n",
        "        print(\"I have 5 sides\")"
      ],
      "metadata": {
        "id": "3la2wwvNoOyV"
      },
      "execution_count": null,
      "outputs": []
    },
    {
      "cell_type": "markdown",
      "source": [
        "\n",
        "\n",
        "---\n",
        "\n"
      ],
      "metadata": {
        "id": "-qsvg5Hb6nW-"
      }
    },
    {
      "cell_type": "markdown",
      "source": [
        "###Q 2. What happens when a class statement&#39;s top level contains a basic assignment statement?"
      ],
      "metadata": {
        "id": "7S46KTNQ6oap"
      }
    },
    {
      "cell_type": "markdown",
      "source": [
        "###Ans.\n",
        "When a Class statement's top level contains a basic assignment statement, it is usually treated as a class attribute or class level variable where as assignment statements inside methods are treated as instance attributes or local attributes.\n",
        "\n",
        "When an instance of a class is created, a single copy of class attributes is maintained and shared to all instances of class where as each instance object maintains its own copy of instance variables."
      ],
      "metadata": {
        "id": "a91G4dDL6wJU"
      }
    },
    {
      "cell_type": "code",
      "source": [
        "class Human:\n",
        " Species = 'Homesapiens' #class attributes\n",
        " def __int__(Self,name,gender):\n",
        "     Self .name=name  #instance attributes\n",
        "     Self.gender=gender"
      ],
      "metadata": {
        "id": "ZVq3wOmu6yVp"
      },
      "execution_count": null,
      "outputs": []
    },
    {
      "cell_type": "markdown",
      "source": [
        "\n",
        "\n",
        "---\n",
        "\n"
      ],
      "metadata": {
        "id": "VXwgfqCU6ymC"
      }
    },
    {
      "cell_type": "markdown",
      "source": [
        "###Q 3. Why does a class need to manually call a superclass&#39;s __init__ method?\n",
        "\n",
        "\n"
      ],
      "metadata": {
        "id": "mRnzezMj6znx"
      }
    },
    {
      "cell_type": "markdown",
      "source": [
        "###Ans.\n",
        "\n",
        "\n",
        "If a child class has __init__ method, then it will not inherit the __init__ method of the parent class. In other words the __init__ method of the child class overrides the __init__ method of the parent class. So, we have to manually call a parent superclass's __init__ using super() method"
      ],
      "metadata": {
        "id": "EWAg8aOZ66C7"
      }
    },
    {
      "cell_type": "code",
      "source": [
        "class Human:\n",
        "    def __init__(self,name,age):\n",
        "        self.name = name\n",
        "        self.age = age\n",
        "class Employee(Human):\n",
        "    def __init__(self,name,age,salary):\n",
        "        super().__init__(name,age)\n",
        "        self.salary = salary\n",
        "emp_1 = Employee('Prerit',16,30000)\n",
        "print(emp_1.__dict__)"
      ],
      "metadata": {
        "id": "6I2Yxqfp68QM",
        "colab": {
          "base_uri": "https://localhost:8080/"
        },
        "outputId": "8c1bf224-fbbb-4fba-a4f3-d6a8759e7c05"
      },
      "execution_count": 39,
      "outputs": [
        {
          "output_type": "stream",
          "name": "stdout",
          "text": [
            "{'name': 'Prerit', 'age': 16, 'salary': 30000}\n"
          ]
        }
      ]
    },
    {
      "cell_type": "markdown",
      "source": [
        "\n",
        "---\n",
        "\n"
      ],
      "metadata": {
        "id": "BDR_A5hr68gg"
      }
    },
    {
      "cell_type": "markdown",
      "source": [
        "###Q 4. How can you augment, instead of completely replacing, an inherited method?"
      ],
      "metadata": {
        "id": "9dI5R9lJ69yc"
      }
    },
    {
      "cell_type": "markdown",
      "source": [
        "###Ans.\n",
        "super() method can be used to augment, instead of completely replacing, an inherited method.\n",
        "\n"
      ],
      "metadata": {
        "id": "vXoP8vwW7Cak"
      }
    },
    {
      "cell_type": "code",
      "source": [
        "class Human:\n",
        "  def __init__(self,name,gender):\n",
        "     self.name = name\n",
        "     self.gender = gender\n",
        "class Employee(Human):\n",
        "  def __init__(self,name,gender,salary):\n",
        "     super(). __init__ (name,gender)\n",
        "     self.salary = salary\n",
        "emp_1=Employee('Prerit','male',200000)\n",
        "print(emp_1.__dict__)"
      ],
      "metadata": {
        "id": "wcZzYEW27Hbg",
        "colab": {
          "base_uri": "https://localhost:8080/"
        },
        "outputId": "d63689c8-5ddf-40c3-a5f8-d84bdec752de"
      },
      "execution_count": 47,
      "outputs": [
        {
          "output_type": "stream",
          "name": "stdout",
          "text": [
            "{'name': 'Prerit', 'gender': 'male', 'salary': 200000}\n"
          ]
        }
      ]
    },
    {
      "cell_type": "markdown",
      "source": [
        "\n",
        "\n",
        "---\n",
        "\n"
      ],
      "metadata": {
        "id": "9ORONyKI7Gl3"
      }
    },
    {
      "cell_type": "markdown",
      "source": [
        "###Q 5. How is the local scope of a class different from that of a function?"
      ],
      "metadata": {
        "id": "hlAyTI_Q7Jmk"
      }
    },
    {
      "cell_type": "markdown",
      "source": [
        "###Ans.\n",
        "A Variable which is defined inside a function is local to that function. It is accesible from the point at which it is defined until the end of the function, and exists for as long as the function is existing.\n",
        "\n",
        "Similary a variable inside of a class also has a local variable scope. Variables which are defined in the class body (but outside all methods) are called as class level variables or class attributes. They can be referenced by their bare names within the same scope, but they can also be accessed from outside this scope if we use the attribute access operator (.) on a class or an instance of the class."
      ],
      "metadata": {
        "id": "dFj67ev57Nzf"
      }
    },
    {
      "cell_type": "code",
      "source": [
        "def hello(name):\n",
        "  name = name\n",
        "  print(f'you\\'re name is {name}')\n",
        "hello('Prerit')\n",
        "try:\n",
        "  name\n",
        "except NameError:\n",
        "   print('Name varible is not available out side hello fuction scope')\n",
        "\n",
        "class Person:\n",
        "  species = \"HomeSapiens\"\n",
        "  def __Init__(self):\n",
        "     pass\n",
        "print(Person.species) #Accessing species using class name\n",
        "Male = Person()\n",
        "print(Male.species) #Accessing species using instance of class\n"
      ],
      "metadata": {
        "id": "qawIeJIc7Pi3",
        "colab": {
          "base_uri": "https://localhost:8080/"
        },
        "outputId": "13221817-862c-4196-9f49-38d50751c877"
      },
      "execution_count": 51,
      "outputs": [
        {
          "output_type": "stream",
          "name": "stdout",
          "text": [
            "you're name is Prerit\n",
            "Name varible is not available out side hello fuction scope\n",
            "HomeSapiens\n",
            "HomeSapiens\n"
          ]
        }
      ]
    },
    {
      "cell_type": "markdown",
      "source": [
        "----------------------------------------------------------------------------------End----------------------------------------------------------------------------"
      ],
      "metadata": {
        "id": "KHXWc7We7PzS"
      }
    }
  ]
}