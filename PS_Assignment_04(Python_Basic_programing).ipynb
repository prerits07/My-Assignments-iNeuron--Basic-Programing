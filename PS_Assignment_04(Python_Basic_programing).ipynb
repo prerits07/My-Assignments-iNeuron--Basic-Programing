{
  "nbformat": 4,
  "nbformat_minor": 0,
  "metadata": {
    "colab": {
      "provenance": []
    },
    "kernelspec": {
      "name": "python3",
      "display_name": "Python 3"
    },
    "language_info": {
      "name": "python"
    }
  },
  "cells": [
    {
      "cell_type": "markdown",
      "source": [
        "### Python (Basic programing) Assignment No. 04\n",
        "\n",
        "1 Batch - Full Stack Data Science Bootcamp 2.0\n",
        "\n",
        "2 Name - **Prerit Sharma**\n",
        "\n",
        "3 Email ID - **praritsharma7@gmail.com**"
      ],
      "metadata": {
        "id": "Yb9fgfAm4QG5"
      }
    },
    {
      "cell_type": "markdown",
      "source": [
        "\n",
        "\n",
        "---\n",
        "\n"
      ],
      "metadata": {
        "id": "9zyZmdPk4Yfq"
      }
    },
    {
      "cell_type": "markdown",
      "source": [
        "###1. Write a Python Program to Find the Factorial of a Number?"
      ],
      "metadata": {
        "id": "deIATNeK4ZSB"
      }
    },
    {
      "cell_type": "markdown",
      "source": [
        "###Ans."
      ],
      "metadata": {
        "id": "81XjKpZj4ggy"
      }
    },
    {
      "cell_type": "code",
      "source": [
        "def factorial(n):\n",
        "  if n == 0 or n < 1:\n",
        "    return 1\n",
        "  else:\n",
        "      return n*factorial(n-1)\n",
        "\n",
        "n = int(input('Enter a number:'))\n",
        "print('Factorial number of' ,n,'is', factorial(n))"
      ],
      "metadata": {
        "colab": {
          "base_uri": "https://localhost:8080/"
        },
        "id": "OFsifejr4sZh",
        "outputId": "4779305e-abe4-45d8-f526-da56cc160873"
      },
      "execution_count": 2,
      "outputs": [
        {
          "output_type": "stream",
          "name": "stdout",
          "text": [
            "Enter a number:10\n",
            "Factorial number of 10 is 3628800\n"
          ]
        }
      ]
    },
    {
      "cell_type": "markdown",
      "source": [
        "\n",
        "\n",
        "---\n",
        "\n"
      ],
      "metadata": {
        "id": "UBDSKfkK5e5r"
      }
    },
    {
      "cell_type": "markdown",
      "source": [
        "###2. Write a Python Program to Display the multiplication Table?"
      ],
      "metadata": {
        "id": "ILxCx0mK5fx6"
      }
    },
    {
      "cell_type": "markdown",
      "source": [
        "###Ans.\n"
      ],
      "metadata": {
        "id": "ALSm1E1S5i1Z"
      }
    },
    {
      "cell_type": "code",
      "source": [
        "num = int(input('Display multiplication table of?'))\n",
        "def generatetable(num):\n",
        "    for i in range(1,11):\n",
        "        print(num,'x', i, '=',num*i)\n",
        "\n",
        "generatetable(num)"
      ],
      "metadata": {
        "colab": {
          "base_uri": "https://localhost:8080/"
        },
        "id": "yTUP3r8Q5kZJ",
        "outputId": "4af5940f-2109-4455-a8dc-ecf35005bdbc"
      },
      "execution_count": 3,
      "outputs": [
        {
          "output_type": "stream",
          "name": "stdout",
          "text": [
            "Display multiplication table of?10\n",
            "10 x 1 = 10\n",
            "10 x 2 = 20\n",
            "10 x 3 = 30\n",
            "10 x 4 = 40\n",
            "10 x 5 = 50\n",
            "10 x 6 = 60\n",
            "10 x 7 = 70\n",
            "10 x 8 = 80\n",
            "10 x 9 = 90\n",
            "10 x 10 = 100\n"
          ]
        }
      ]
    },
    {
      "cell_type": "markdown",
      "source": [
        "\n",
        "\n",
        "---\n",
        "\n"
      ],
      "metadata": {
        "id": "0ikqDc2u6Vg6"
      }
    },
    {
      "cell_type": "markdown",
      "source": [
        "###3. Write a Python Program to Print the Fibonacci sequence?"
      ],
      "metadata": {
        "id": "iBRy0eo96WgB"
      }
    },
    {
      "cell_type": "markdown",
      "source": [
        "###Ans."
      ],
      "metadata": {
        "id": "CKVtvn2S6aA6"
      }
    },
    {
      "cell_type": "code",
      "source": [
        "\n",
        "def genfib(n):\n",
        "    a = 1\n",
        "    b = 1\n",
        "    l = []\n",
        "    for i in range(n):\n",
        "        l.append(a)\n",
        "        a,b = b, a+b\n",
        "    return l\n",
        "\n",
        "genfib(10)"
      ],
      "metadata": {
        "colab": {
          "base_uri": "https://localhost:8080/"
        },
        "id": "VzjCvQ3z6bkB",
        "outputId": "7422b81f-a81a-4c0f-ee18-b72112a26572"
      },
      "execution_count": 11,
      "outputs": [
        {
          "output_type": "execute_result",
          "data": {
            "text/plain": [
              "[1, 1, 2, 3, 5, 8, 13, 21, 34, 55]"
            ]
          },
          "metadata": {},
          "execution_count": 11
        }
      ]
    },
    {
      "cell_type": "markdown",
      "source": [
        "\n",
        "\n",
        "---\n",
        "\n"
      ],
      "metadata": {
        "id": "Mwwcyoys7kX6"
      }
    },
    {
      "cell_type": "markdown",
      "source": [
        "###4. Write a Python Program to Check Armstrong Number?"
      ],
      "metadata": {
        "id": "7J_58ve57lGj"
      }
    },
    {
      "cell_type": "markdown",
      "source": [
        "###Ans.\n"
      ],
      "metadata": {
        "id": "DNXcYiIq7odD"
      }
    },
    {
      "cell_type": "code",
      "source": [
        "num = int(input(\"Enter a  number: \"))\n",
        "sum =0\n",
        "temp = num\n",
        "while temp > 0:\n",
        "  digit = temp % 10\n",
        "  sum += digit **3\n",
        "  temp //=10\n",
        "if num == sum:\n",
        "  print(\"num,is an Armstong number\")\n",
        "else:\n",
        "  print(num,\"is not an Armstrong number\")"
      ],
      "metadata": {
        "colab": {
          "base_uri": "https://localhost:8080/"
        },
        "id": "sRvYUb5K7qWC",
        "outputId": "39e3fa74-22fb-4abe-fc6d-6826b2a0fb6c"
      },
      "execution_count": 12,
      "outputs": [
        {
          "output_type": "stream",
          "name": "stdout",
          "text": [
            "Enter a  number: 101\n",
            "101 is not an Armstrong number\n"
          ]
        }
      ]
    },
    {
      "cell_type": "markdown",
      "source": [
        "\n",
        "\n",
        "---\n",
        "\n"
      ],
      "metadata": {
        "id": "3jIH3_fu8j5D"
      }
    },
    {
      "cell_type": "markdown",
      "source": [
        "###5. Write a Python Program to Find Armstrong Number in an Interval?"
      ],
      "metadata": {
        "id": "kXAA3eGF8lxi"
      }
    },
    {
      "cell_type": "markdown",
      "source": [
        "###Ans.\n"
      ],
      "metadata": {
        "id": "Mim6KwRO8ooi"
      }
    },
    {
      "cell_type": "code",
      "source": [
        "lower = int(input('Enter lower range:'))\n",
        "upper = int(input('Enter upper range:'))\n",
        "\n",
        "for num in range(lower,upper+1):\n",
        "    sum = 0\n",
        "    temp = num\n",
        "    while temp > 0:\n",
        "        digit = temp % 10\n",
        "        sum +=digit**3\n",
        "        temp //=10\n",
        "    if num == sum:\n",
        "        print(num)"
      ],
      "metadata": {
        "colab": {
          "base_uri": "https://localhost:8080/"
        },
        "id": "2a_26AbL9vGM",
        "outputId": "aeade105-f628-47e8-8565-9d75fef0c25d"
      },
      "execution_count": 20,
      "outputs": [
        {
          "output_type": "stream",
          "name": "stdout",
          "text": [
            "Enter lower range:100\n",
            "Enter upper range:10000\n",
            "153\n",
            "370\n",
            "371\n",
            "407\n"
          ]
        }
      ]
    },
    {
      "cell_type": "markdown",
      "source": [
        "\n",
        "\n",
        "---\n",
        "\n"
      ],
      "metadata": {
        "id": "AC3VnnkH9wLa"
      }
    },
    {
      "cell_type": "markdown",
      "source": [
        "###6. Write a Python Program to Find the Sum of Natural Numbers?\n"
      ],
      "metadata": {
        "id": "ntVYiw9q9-us"
      }
    },
    {
      "cell_type": "markdown",
      "source": [
        "###Ans.\n"
      ],
      "metadata": {
        "id": "200suJVx-DOT"
      }
    },
    {
      "cell_type": "code",
      "source": [
        "\n",
        "num = int(input(\"Enter a number: \"))\n",
        "\n",
        "if num < 0:\n",
        "  print(\"Enter a positive number\")\n",
        "else:\n",
        "    sum = 0\n",
        "    while(num > 0):\n",
        "      sum += num\n",
        "      num -= 1\n",
        "    print(\"The sum is\",sum)"
      ],
      "metadata": {
        "colab": {
          "base_uri": "https://localhost:8080/"
        },
        "id": "YIkoLYxb-Ekz",
        "outputId": "3ab8da07-7325-4576-f259-d1448db42822"
      },
      "execution_count": 23,
      "outputs": [
        {
          "output_type": "stream",
          "name": "stdout",
          "text": [
            "Enter a number: 120\n",
            "The sum is 7260\n"
          ]
        }
      ]
    },
    {
      "cell_type": "markdown",
      "source": [
        "--------------------------------------------------End-------------------------------------------------"
      ],
      "metadata": {
        "id": "zPVutNGA_9GU"
      }
    }
  ]
}