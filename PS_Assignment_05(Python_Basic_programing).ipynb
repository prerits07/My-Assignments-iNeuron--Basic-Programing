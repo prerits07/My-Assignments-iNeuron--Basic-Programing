{
  "nbformat": 4,
  "nbformat_minor": 0,
  "metadata": {
    "colab": {
      "provenance": []
    },
    "kernelspec": {
      "name": "python3",
      "display_name": "Python 3"
    },
    "language_info": {
      "name": "python"
    }
  },
  "cells": [
    {
      "cell_type": "markdown",
      "source": [
        "### Python (Basic programing) Assignment No. 05\n",
        "\n",
        "1 Batch - Full Stack Data Science Bootcamp 2.0\n",
        "\n",
        "2 Name - **Prerit Sharma**\n",
        "\n",
        "3 Email ID - **praritsharma7@gmail.com**"
      ],
      "metadata": {
        "id": "ZkBszawtOXMR"
      }
    },
    {
      "cell_type": "markdown",
      "source": [
        "\n",
        "\n",
        "---\n",
        "\n",
        "\n"
      ],
      "metadata": {
        "id": "hOU0I-2SOdf5"
      }
    },
    {
      "cell_type": "markdown",
      "source": [
        "###Q1. Write a Python Program to Find LCM?"
      ],
      "metadata": {
        "id": "KonfoC_5OfTf"
      }
    },
    {
      "cell_type": "markdown",
      "source": [
        "###Ans."
      ],
      "metadata": {
        "id": "KR6nbCaxOu7I"
      }
    },
    {
      "cell_type": "code",
      "source": [
        "def calculate_lcm(x, y):\n",
        "    if x > y:\n",
        "        greater = x\n",
        "    else:\n",
        "        greater = y\n",
        "    while(True):\n",
        "        if((greater % x == 0) and (greater % y == 0)):\n",
        "            lcm = greater\n",
        "            break\n",
        "        greater += 1\n",
        "    return lcm\n",
        "\n",
        "num1 = int(input(\"Enter first number: \"))\n",
        "num2 = int(input(\"Enter second number: \"))\n",
        "print(\"The L.C.M. of\",num1,\"and\", num2, \"is\",calculate_lcm(num1, num2))"
      ],
      "metadata": {
        "colab": {
          "base_uri": "https://localhost:8080/"
        },
        "id": "K8Ww8dYROwWh",
        "outputId": "87f15558-98d4-4298-b6a4-e35a0389be14"
      },
      "execution_count": null,
      "outputs": [
        {
          "output_type": "stream",
          "name": "stdout",
          "text": [
            "Enter first number: 8\n",
            "Enter second number: 6\n",
            "The L.C.M. of 8 and 6 is 24\n"
          ]
        }
      ]
    },
    {
      "cell_type": "markdown",
      "source": [
        "\n",
        "\n",
        "---\n",
        "\n"
      ],
      "metadata": {
        "id": "giqVsoflQw-g"
      }
    },
    {
      "cell_type": "markdown",
      "source": [
        "###Q2. Write a Python Program to Find HCF?"
      ],
      "metadata": {
        "id": "L6hEQg9QRSl6"
      }
    },
    {
      "cell_type": "markdown",
      "source": [
        "###Ans.\n"
      ],
      "metadata": {
        "id": "IpMZgQcyRX9x"
      }
    },
    {
      "cell_type": "code",
      "source": [
        "def compute_hcf(x,y):\n",
        "  if x > y:\n",
        "      smaller = y\n",
        "  else:\n",
        "      smaller = x\n",
        "  for i in range(1,smaller+1):\n",
        "    if((x % i == 0) and (y % i == 0)):\n",
        "      hcf = i\n",
        "  return hcf\n",
        "\n",
        "num1 = int(input(\"Enter first number: \"))\n",
        "num2 = int(input(\"Enter second number: \"))\n",
        "\n",
        "print(\"This H.C.F. is\",compute_hcf(num1, num2))"
      ],
      "metadata": {
        "colab": {
          "base_uri": "https://localhost:8080/"
        },
        "id": "XSHpycOURZ4X",
        "outputId": "64a8eb84-ed53-438f-d08e-a2092f448420"
      },
      "execution_count": null,
      "outputs": [
        {
          "output_type": "stream",
          "name": "stdout",
          "text": [
            "Enter first number: 56\n",
            "Enter second number: 68\n",
            "This H.C.F. is 4\n"
          ]
        }
      ]
    },
    {
      "cell_type": "markdown",
      "source": [
        "\n",
        "\n",
        "---\n",
        "\n"
      ],
      "metadata": {
        "id": "iiSpKZDsRZKo"
      }
    },
    {
      "cell_type": "markdown",
      "source": [
        "###Q3. Write a Python Program to Convert Decimal to Binary, Octal and Hexadecimal?"
      ],
      "metadata": {
        "id": "YLbhWp9eSv9L"
      }
    },
    {
      "cell_type": "markdown",
      "source": [
        "###Ans."
      ],
      "metadata": {
        "id": "qlKFhicfS1my"
      }
    },
    {
      "cell_type": "code",
      "source": [
        "def dectoother(num):\n",
        "  print('The decimal value of', num,'is:')\n",
        "  print(bin(num),'in binary.')\n",
        "  print(oct(num), 'in octal.')\n",
        "  print(hex(num),'in hexadecimal.')\n",
        "\n",
        "\n",
        "num = int(input('Enter a number: '))\n",
        "dectoother(num)"
      ],
      "metadata": {
        "colab": {
          "base_uri": "https://localhost:8080/"
        },
        "id": "BqS59fOkS3Nq",
        "outputId": "687e212d-8038-41a6-c66f-6e6834493fbf"
      },
      "execution_count": null,
      "outputs": [
        {
          "output_type": "stream",
          "name": "stdout",
          "text": [
            "Enter a number: 567\n",
            "The decimal value of 567 is:\n",
            "0b1000110111 in binary.\n",
            "0o1067 in octal.\n",
            "0x237 in hexadecimal.\n"
          ]
        }
      ]
    },
    {
      "cell_type": "markdown",
      "source": [
        "\n",
        "\n",
        "---\n",
        "\n"
      ],
      "metadata": {
        "id": "85FIKeM0USfY"
      }
    },
    {
      "cell_type": "markdown",
      "source": [
        "###Q4. Write a Python Program To Find ASCII value of a character?"
      ],
      "metadata": {
        "id": "7_BwguJzUT1S"
      }
    },
    {
      "cell_type": "markdown",
      "source": [
        "###Ans."
      ],
      "metadata": {
        "id": "rmlQvbBvUglp"
      }
    },
    {
      "cell_type": "code",
      "source": [
        "def charToAscii():\n",
        "  char = input('Enter a Character: ')\n",
        "  if len(char) > 1:\n",
        "    print('Please Enter a Single Character')\n",
        "  else:\n",
        "    print(f'Ascii Character of {char} is {ord(char)}')\n",
        "\n",
        "\n",
        "charToAscii()\n"
      ],
      "metadata": {
        "colab": {
          "base_uri": "https://localhost:8080/"
        },
        "id": "rTJin7dKUigD",
        "outputId": "5db09893-15ae-4a35-b50e-fcd31fffc2c9"
      },
      "execution_count": null,
      "outputs": [
        {
          "output_type": "stream",
          "name": "stdout",
          "text": [
            "Enter a Character: p\n",
            "Ascii Character of p is 112\n"
          ]
        }
      ]
    },
    {
      "cell_type": "markdown",
      "source": [
        "\n",
        "\n",
        "---\n",
        "\n"
      ],
      "metadata": {
        "id": "HqCUzt77Va4B"
      }
    },
    {
      "cell_type": "markdown",
      "source": [
        "###Q5. Write a Python Program to Make a Simple Calculator with 4 basic mathematical operations?"
      ],
      "metadata": {
        "id": "vtVMfa_QVdlc"
      }
    },
    {
      "cell_type": "markdown",
      "source": [
        "###Ans."
      ],
      "metadata": {
        "id": "uCgeun9fVijE"
      }
    },
    {
      "cell_type": "code",
      "source": [
        "import operator\n",
        "\n",
        "ops = { \"+\": operator.add, \"-\": operator.sub, \"*\":operator.mul, \"/\":operator.truediv }\n",
        "\n",
        "print('Select a Arithmetic Operation: \\\n",
        "        \\n1.Addition(+)\\\n",
        "        \\n2.Division(-)\\\n",
        "        \\n2.Multiplication(*)\\\n",
        "        \\n4.Division(/)\\\n",
        "        \\n3.Stop(0)\\n')\n",
        "\n",
        "while True:\n",
        "    operator = input('Enter a arithmetic operation -> ')\n",
        "    if operator == '0':\n",
        "        print(\"Program Stopped successfully\")\n",
        "        break\n",
        "    elif operator not in ['+','-','*','/']:\n",
        "        print(\"Please enter a valid operator\")\n",
        "    else:\n",
        "        num_1 = int(input('\\nEnter 1st Number: '))\n",
        "        num_2 = int(input('Enter 2nd Number: '))\n",
        "        print(f'{num_1}{operator}{num_2}={ops[operator](num_1,num_2)}\\n')"
      ],
      "metadata": {
        "id": "VNWLedQfVnnk",
        "colab": {
          "base_uri": "https://localhost:8080/"
        },
        "outputId": "1ed993ad-3500-40d1-9496-2487ed2aa7d8"
      },
      "execution_count": 1,
      "outputs": [
        {
          "output_type": "stream",
          "name": "stdout",
          "text": [
            "Select a Arithmetic Operation:         \n",
            "1.Addition(+)        \n",
            "2.Division(-)        \n",
            "2.Multiplication(*)        \n",
            "4.Division(/)        \n",
            "3.Stop(0)\n",
            "\n",
            "Enter a arithmetic operation -> +\n",
            "\n",
            "Enter 1st Number: 8\n",
            "Enter 2nd Number: 90\n",
            "8+90=98\n",
            "\n",
            "Enter a arithmetic operation -> -\n",
            "\n",
            "Enter 1st Number: 90\n",
            "Enter 2nd Number: 89\n",
            "90-89=1\n",
            "\n",
            "Enter a arithmetic operation -> *\n",
            "\n",
            "Enter 1st Number: 90\n",
            "Enter 2nd Number: 89\n",
            "90*89=8010\n",
            "\n",
            "Enter a arithmetic operation -> \n",
            "Please enter a valid operator\n",
            "Enter a arithmetic operation -> /\n",
            "\n",
            "Enter 1st Number: 90\n",
            "Enter 2nd Number: 86\n",
            "90/86=1.0465116279069768\n",
            "\n",
            "Enter a arithmetic operation -> 0\n",
            "Program Stopped successfully\n"
          ]
        }
      ]
    },
    {
      "cell_type": "markdown",
      "source": [
        "\n",
        "\n",
        "------------------------------------------------------------------------------------End--------------------------------------------------------------------------\n",
        "\n"
      ],
      "metadata": {
        "id": "uHQcNKqtUhyA"
      }
    }
  ]
}