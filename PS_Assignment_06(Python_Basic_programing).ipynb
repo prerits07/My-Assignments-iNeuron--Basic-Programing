{
  "nbformat": 4,
  "nbformat_minor": 0,
  "metadata": {
    "colab": {
      "provenance": []
    },
    "kernelspec": {
      "name": "python3",
      "display_name": "Python 3"
    },
    "language_info": {
      "name": "python"
    }
  },
  "cells": [
    {
      "cell_type": "markdown",
      "source": [
        "### Python (Basic programing) Assignment No. 06\n",
        "\n",
        "1 Batch - Full Stack Data Science Bootcamp 2.0\n",
        "\n",
        "2 Name - **Prerit Sharma**\n",
        "\n",
        "3 Email ID - **praritsharma7@gmail.com**"
      ],
      "metadata": {
        "id": "0yckXqCi2tHy"
      }
    },
    {
      "cell_type": "markdown",
      "source": [
        "\n",
        "\n",
        "---\n",
        "\n"
      ],
      "metadata": {
        "id": "LS6OWB0b23hV"
      }
    },
    {
      "cell_type": "markdown",
      "source": [
        "###Q1. Write a Python Program to Display Fibonacci Sequence Using Recursion?"
      ],
      "metadata": {
        "id": "xKpPCwDp24Cv"
      }
    },
    {
      "cell_type": "markdown",
      "source": [
        "###Ans.\n"
      ],
      "metadata": {
        "id": "1DcE7K_d28Dl"
      }
    },
    {
      "cell_type": "code",
      "source": [
        "def Fibonacci(n):\n",
        "  if n < 0:\n",
        "      print('Incorrect input')\n",
        "  elif n == 0:\n",
        "    return 0\n",
        "  elif n == 1 or n ==2:\n",
        "    return 1\n",
        "  else:\n",
        "      return Fibonacci(n-1) + Fibonacci(n-2)\n",
        "\n",
        "Fibonacci(10)"
      ],
      "metadata": {
        "id": "nzrYMqN53Ajk",
        "colab": {
          "base_uri": "https://localhost:8080/"
        },
        "outputId": "ff76f194-ec81-47e1-f158-fbf58e7d1790"
      },
      "execution_count": 1,
      "outputs": [
        {
          "output_type": "execute_result",
          "data": {
            "text/plain": [
              "55"
            ]
          },
          "metadata": {},
          "execution_count": 1
        }
      ]
    },
    {
      "cell_type": "markdown",
      "source": [
        "\n",
        "\n",
        "---\n",
        "\n"
      ],
      "metadata": {
        "id": "ecNoKqk03tIw"
      }
    },
    {
      "cell_type": "markdown",
      "source": [
        "###Q2. Write a Python Program to Find Factorial of Number Using Recursion?"
      ],
      "metadata": {
        "id": "BDOVZneu3umA"
      }
    },
    {
      "cell_type": "markdown",
      "source": [
        "###Ans."
      ],
      "metadata": {
        "id": "MWlHrj-E35t8"
      }
    },
    {
      "cell_type": "code",
      "source": [
        "def factorial(n):\n",
        "  if n ==1:\n",
        "    return n\n",
        "  else:\n",
        "      return n*factorial(n-1)\n",
        "num = 5\n",
        "if num < 0:\n",
        "  print('Sorry, factorial does not exist for negative number')\n",
        "elif num == 0:\n",
        "  print('The factorial of 0 is 1')\n",
        "else:\n",
        "  print('The factorial of',num,'is',factorial(num))"
      ],
      "metadata": {
        "colab": {
          "base_uri": "https://localhost:8080/"
        },
        "id": "f7jQ8sON39Bj",
        "outputId": "1ab71188-28ce-4f7b-a0ae-dee6e4a725f0"
      },
      "execution_count": 4,
      "outputs": [
        {
          "output_type": "stream",
          "name": "stdout",
          "text": [
            "The factorial of 5 is 120\n"
          ]
        }
      ]
    },
    {
      "cell_type": "markdown",
      "source": [
        "\n",
        "\n",
        "---\n",
        "\n"
      ],
      "metadata": {
        "id": "s4ux1BdE37nk"
      }
    },
    {
      "cell_type": "markdown",
      "source": [
        "###Q3. Write a Python Program to calculate your Body Mass Index?"
      ],
      "metadata": {
        "id": "lGuaksZS5We3"
      }
    },
    {
      "cell_type": "markdown",
      "source": [
        "###Ans."
      ],
      "metadata": {
        "id": "Xk7GcxkV5dKG"
      }
    },
    {
      "cell_type": "code",
      "source": [
        "def BMI():\n",
        "  weight = eval(input('Enter your Weight(kgs): '))\n",
        "  height = eval(input('Enter your Height(mts): '))\n",
        "  bmi = weight/(height**2)\n",
        "  print(\"The BMI is\",bmi,\"so\",end=' ')\n",
        "  if bmi < 19:\n",
        "      print(\"underweight\")\n",
        "  elif bmi >= 19 and bmi < 25:\n",
        "      print(\"Healthy\")\n",
        "  elif bmi >= 25 and bmi < 30:\n",
        "      print(\"Overweight\")\n",
        "  elif bmi >= 30:\n",
        "      print(\"Suffering from Obesity\")\n",
        "\n",
        "BMI()"
      ],
      "metadata": {
        "colab": {
          "base_uri": "https://localhost:8080/"
        },
        "id": "Jr3hogNE5fKY",
        "outputId": "c04c9f9f-2296-483e-ecad-37f1b64cb88b"
      },
      "execution_count": 5,
      "outputs": [
        {
          "output_type": "stream",
          "name": "stdout",
          "text": [
            "Enter your Weight(kgs): 50\n",
            "Enter your Height(mts): 6.6\n",
            "The BMI is 1.1478420569329661 so underweight\n"
          ]
        }
      ]
    },
    {
      "cell_type": "markdown",
      "source": [
        "\n",
        "\n",
        "---\n",
        "\n"
      ],
      "metadata": {
        "id": "7_NWGvDa7fwz"
      }
    },
    {
      "cell_type": "markdown",
      "source": [
        "###Q4. Write a Python Program to calculate the natural logarithm of any number?"
      ],
      "metadata": {
        "id": "2sPCuGFX7gmJ"
      }
    },
    {
      "cell_type": "markdown",
      "source": [
        "###Ans.\n"
      ],
      "metadata": {
        "id": "hGMbmIfw7nyg"
      }
    },
    {
      "cell_type": "code",
      "source": [
        "import math\n",
        "def genNatLog():\n",
        "  num = int(input(\"Enter a number: \"))\n",
        "  print(math.log(num))\n",
        "\n",
        "genNatLog()\n",
        ""
      ],
      "metadata": {
        "colab": {
          "base_uri": "https://localhost:8080/"
        },
        "id": "beWKhw2C7qp_",
        "outputId": "fea8f2c2-a9a5-478f-cac2-919fddc55d3d"
      },
      "execution_count": 6,
      "outputs": [
        {
          "output_type": "stream",
          "name": "stdout",
          "text": [
            "Enter a number: 4\n",
            "1.3862943611198906\n"
          ]
        }
      ]
    },
    {
      "cell_type": "markdown",
      "source": [
        "\n",
        "\n",
        "---\n",
        "\n"
      ],
      "metadata": {
        "id": "Mms2Ohj18Nwb"
      }
    },
    {
      "cell_type": "markdown",
      "source": [
        "###Q5. Write a Python Program for cube sum of first n natural numbers?"
      ],
      "metadata": {
        "id": "3vqlWErR8Qca"
      }
    },
    {
      "cell_type": "markdown",
      "source": [
        "###Ans."
      ],
      "metadata": {
        "id": "jre34Oc38ZKp"
      }
    },
    {
      "cell_type": "code",
      "source": [
        "def cubeSum(num):\n",
        "  s = 0\n",
        "  for i in range(num+1):\n",
        "      s = s+i**3\n",
        "  return s\n",
        "num = int(input(\"Enter the no of Natural Numbers: \"))\n",
        "print(\"Sum of cubes of fisrt {} natural numbers: \".format(num),cubeSum(num))"
      ],
      "metadata": {
        "colab": {
          "base_uri": "https://localhost:8080/"
        },
        "id": "1fg-rwWd8OtW",
        "outputId": "c49c7931-a8a3-4cc6-fe4a-a5a84d4fa7cf"
      },
      "execution_count": 7,
      "outputs": [
        {
          "output_type": "stream",
          "name": "stdout",
          "text": [
            "Enter the no of Natural Numbers: 8\n",
            "Sum of cubes of fisrt 8 natural numbers:  1296\n"
          ]
        }
      ]
    },
    {
      "cell_type": "markdown",
      "source": [
        "\n",
        "\n",
        "------------------------------------------------------------------End-------------------------------------------------------------------------------------------------\n"
      ],
      "metadata": {
        "id": "ImW_hrRg9c8M"
      }
    }
  ]
}