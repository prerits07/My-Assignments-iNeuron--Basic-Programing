{
  "nbformat": 4,
  "nbformat_minor": 0,
  "metadata": {
    "colab": {
      "provenance": []
    },
    "kernelspec": {
      "name": "python3",
      "display_name": "Python 3"
    },
    "language_info": {
      "name": "python"
    }
  },
  "cells": [
    {
      "cell_type": "markdown",
      "source": [
        "### Python (Basic programing) Assignment No. 07\n",
        "1 Batch - Full Stack Data Science Bootcamp 2.0\n",
        "\n",
        "2 Name - **Prerit Sharma**\n",
        "\n",
        "3 Email ID - **praritsharma7@gmail.com**"
      ],
      "metadata": {
        "id": "OOYgytYt_bUG"
      }
    },
    {
      "cell_type": "markdown",
      "source": [
        "---------------------------------------"
      ],
      "metadata": {
        "id": "4-XifQbO_svo"
      }
    },
    {
      "cell_type": "markdown",
      "source": [
        "###Q1. Write a Python Program to find sum of array?"
      ],
      "metadata": {
        "id": "CIc3H0qZ_uA8"
      }
    },
    {
      "cell_type": "markdown",
      "source": [
        "###Ans."
      ],
      "metadata": {
        "id": "lt-IgTgDAFH_"
      }
    },
    {
      "cell_type": "code",
      "execution_count": 4,
      "metadata": {
        "colab": {
          "base_uri": "https://localhost:8080/"
        },
        "id": "JzzQsvL__XKR",
        "outputId": "0d56db91-ba4b-4ddb-c0f3-877d79e16723"
      },
      "outputs": [
        {
          "output_type": "stream",
          "name": "stdout",
          "text": [
            "Enter the Array: 1,3,4,5,7\n",
            "The sum of(1, 3, 4, 5, 7) is 20\n"
          ]
        }
      ],
      "source": [
        "def sumOfArrey():\n",
        "  in_arr = eval(input(\"Enter the Array: \"))\n",
        "  print(f'The sum of{in_arr} is {sum(in_arr)}')\n",
        "\n",
        "sumOfArrey()\n"
      ]
    },
    {
      "cell_type": "markdown",
      "source": [
        "\n",
        "\n",
        "---\n",
        "\n"
      ],
      "metadata": {
        "id": "JV6AVj4MBYjF"
      }
    },
    {
      "cell_type": "markdown",
      "source": [
        "###Q2. Write a Python Program to find largest element in an array?"
      ],
      "metadata": {
        "id": "lEhCuT9nBafc"
      }
    },
    {
      "cell_type": "markdown",
      "source": [
        "###Ans.\n"
      ],
      "metadata": {
        "id": "gvjUsazFBgyk"
      }
    },
    {
      "cell_type": "code",
      "source": [
        "a = [10,455,28,98,76]\n",
        "a.sort()\n",
        "print(a[-1])\n"
      ],
      "metadata": {
        "colab": {
          "base_uri": "https://localhost:8080/"
        },
        "id": "uI2c0dZTBiBi",
        "outputId": "81f76b67-438b-4041-834c-6a69fb9b61d0"
      },
      "execution_count": 5,
      "outputs": [
        {
          "output_type": "stream",
          "name": "stdout",
          "text": [
            "455\n"
          ]
        }
      ]
    },
    {
      "cell_type": "markdown",
      "source": [
        "\n",
        "\n",
        "---\n",
        "\n"
      ],
      "metadata": {
        "id": "zlA6KCjfCE-M"
      }
    },
    {
      "cell_type": "markdown",
      "source": [
        "###Q3. Write a Python Program for array rotation?"
      ],
      "metadata": {
        "id": "NWj4kUXDCGLH"
      }
    },
    {
      "cell_type": "markdown",
      "source": [
        "###Ans."
      ],
      "metadata": {
        "id": "UFXwwXEaCGUy"
      }
    },
    {
      "cell_type": "code",
      "source": [
        "def rotateList(arr,d,n):\n",
        "  arr[:] = arr[d:n] + arr[0:d]\n",
        "  return arr\n",
        "arr = [1,2,3,4,5,6]\n",
        "print(arr)\n",
        "print(\"Rotated list is\")\n",
        "print(rotateList(arr,2,len(arr)))\n"
      ],
      "metadata": {
        "colab": {
          "base_uri": "https://localhost:8080/"
        },
        "id": "Dhe1Eo8aCOia",
        "outputId": "170c0ebc-1a5c-4b26-81bd-5eae580dc8eb"
      },
      "execution_count": 8,
      "outputs": [
        {
          "output_type": "stream",
          "name": "stdout",
          "text": [
            "[1, 2, 3, 4, 5, 6]\n",
            "Rotated list is\n",
            "[3, 4, 5, 6, 1, 2]\n"
          ]
        }
      ]
    },
    {
      "cell_type": "markdown",
      "source": [
        "\n",
        "\n",
        "---\n",
        "\n"
      ],
      "metadata": {
        "id": "b9oIw3JJDQvs"
      }
    },
    {
      "cell_type": "markdown",
      "source": [
        "###Q4. Write a Python Program to Split the array and add the first part to the end?"
      ],
      "metadata": {
        "id": "KIopeyOLDR3m"
      }
    },
    {
      "cell_type": "markdown",
      "source": [
        "###Ans."
      ],
      "metadata": {
        "id": "XECW171yDYl6"
      }
    },
    {
      "cell_type": "code",
      "source": [
        "def sumOfSplits():\n",
        "    in_arr = eval(input(\"Enter the Array: \"))\n",
        "    print(f\"The Sum of First and Last Elements of Array {in_arr} is {in_arr[0]+in_arr[-1]}\")\n",
        "\n",
        "sumOfSplits()"
      ],
      "metadata": {
        "colab": {
          "base_uri": "https://localhost:8080/"
        },
        "id": "GG7m7xVQDaiw",
        "outputId": "02775bb6-379f-4d5b-f07d-434f82361803"
      },
      "execution_count": 9,
      "outputs": [
        {
          "output_type": "stream",
          "name": "stdout",
          "text": [
            "Enter the Array: 35,8,98,89,67\n",
            "The Sum of First and Last Elements of Array (35, 8, 98, 89, 67) is 102\n"
          ]
        }
      ]
    },
    {
      "cell_type": "markdown",
      "source": [
        "\n",
        "\n",
        "---\n",
        "\n"
      ],
      "metadata": {
        "id": "xQ2kZI_bGk4q"
      }
    },
    {
      "cell_type": "markdown",
      "source": [
        "###Q5. Write a Python Program to check if given array is Monotonic?"
      ],
      "metadata": {
        "id": "19GRFRbBGlnc"
      }
    },
    {
      "cell_type": "markdown",
      "source": [
        "###Ans."
      ],
      "metadata": {
        "id": "-7r-vYSeGrx5"
      }
    },
    {
      "cell_type": "code",
      "source": [
        "def checkMonotonic():\n",
        "    in_arr = eval(input(\"Enter the Array: \"))\n",
        "    if(all(in_arr[i]<=in_arr[i+1] for i in range(len(in_arr)-1)) or all(in_arr[i]>=in_arr[i+1] for i in range(len(in_arr)-1))):\n",
        "        print(f'Array {in_arr} is Monotonic')\n",
        "    else:\n",
        "        print(f'Array {in_arr} is Not Monotonic')\n",
        "\n",
        "checkMonotonic()"
      ],
      "metadata": {
        "colab": {
          "base_uri": "https://localhost:8080/"
        },
        "id": "NVB3MsHXG2BI",
        "outputId": "18a4c678-2730-4490-cf27-9b9a05f6d63d"
      },
      "execution_count": 10,
      "outputs": [
        {
          "output_type": "stream",
          "name": "stdout",
          "text": [
            "Enter the Array: 1,4,6,7,8,8\n",
            "Array (1, 4, 6, 7, 8, 8) is Monotonic\n"
          ]
        }
      ]
    },
    {
      "cell_type": "markdown",
      "source": [
        "-------------------------------------------------------------------End---------------------------------------------------------------------"
      ],
      "metadata": {
        "id": "E4NEJ-09G_aR"
      }
    }
  ]
}