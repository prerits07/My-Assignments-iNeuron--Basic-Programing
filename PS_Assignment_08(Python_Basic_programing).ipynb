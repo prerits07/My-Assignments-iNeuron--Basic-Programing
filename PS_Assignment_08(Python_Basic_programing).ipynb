{
  "nbformat": 4,
  "nbformat_minor": 0,
  "metadata": {
    "colab": {
      "provenance": []
    },
    "kernelspec": {
      "name": "python3",
      "display_name": "Python 3"
    },
    "language_info": {
      "name": "python"
    }
  },
  "cells": [
    {
      "cell_type": "markdown",
      "source": [
        "### Python (Basic programing) Assignment No. 08\n",
        "1 Batch - Full Stack Data Science Bootcamp 2.0\n",
        "\n",
        "2 Name - **Prerit Sharma**\n",
        "\n",
        "3 Email ID - **praritsharma7@gmail.com**"
      ],
      "metadata": {
        "id": "kecdRmXxIhTu"
      }
    },
    {
      "cell_type": "markdown",
      "source": [
        "\n",
        "\n",
        "---\n",
        "\n"
      ],
      "metadata": {
        "id": "7MdBp6AuIrJf"
      }
    },
    {
      "cell_type": "markdown",
      "source": [
        "###Q1. Write a Python Program to Add Two Matrices?\n"
      ],
      "metadata": {
        "id": "GGyGrE3OIr91"
      }
    },
    {
      "cell_type": "markdown",
      "source": [
        "###Ans.\n"
      ],
      "metadata": {
        "id": "mJqcubuKI3wx"
      }
    },
    {
      "cell_type": "code",
      "execution_count": 4,
      "metadata": {
        "id": "A55HH4QzIeun",
        "colab": {
          "base_uri": "https://localhost:8080/"
        },
        "outputId": "91159674-3203-4e50-d2a1-e34e414695a9"
      },
      "outputs": [
        {
          "output_type": "stream",
          "name": "stdout",
          "text": [
            "[9, 8, 8]\n",
            "[9, 9, 15]\n",
            "[9, 8, 8]\n"
          ]
        }
      ],
      "source": [
        "X = [[2,3,4],[7,5,7],[8,5,3]]\n",
        "Y = [[7,5,4],[2,4,8],[1,3,5]]\n",
        "result = [[0,0,0],[0,0,0],[0,0,0]]\n",
        "for i in range(len(X)):\n",
        "    for j in range(len(X[0])):\n",
        "        result[i][j] = x[i][j] + Y[i][j]\n",
        "for r in result:\n",
        "  print(r)"
      ]
    },
    {
      "cell_type": "markdown",
      "source": [
        "\n",
        "\n",
        "---\n",
        "\n"
      ],
      "metadata": {
        "id": "UKX8sNvpJAjH"
      }
    },
    {
      "cell_type": "markdown",
      "source": [
        "###Q2. Write a Python Program to Multiply Two Matrices?"
      ],
      "metadata": {
        "id": "g3gLZNiwJCga"
      }
    },
    {
      "cell_type": "markdown",
      "source": [
        "###Ans."
      ],
      "metadata": {
        "id": "SdeXThLjJEGQ"
      }
    },
    {
      "cell_type": "code",
      "source": [
        "X = [[2,3,4],[7,5,7],[8,5,3]]\n",
        "Y = [[7,5,4],[2,4,8],[1,3,5]]\n",
        "result = [[0,0,0],[0,0,0],[0,0,0]]\n",
        "for i in range(len(X)):\n",
        "    for j in range(len(Y[0])):\n",
        "                   for k in range(len(Y)):\n",
        "                         result[i][j] += X[i][k] * Y[k][j]\n",
        "for r in result:\n",
        "    print(r)"
      ],
      "metadata": {
        "id": "3nLs4demJFWn",
        "colab": {
          "base_uri": "https://localhost:8080/"
        },
        "outputId": "10e6cddd-f1f6-4c54-baef-4233ccfb1959"
      },
      "execution_count": 5,
      "outputs": [
        {
          "output_type": "stream",
          "name": "stdout",
          "text": [
            "[24, 34, 52]\n",
            "[66, 76, 103]\n",
            "[69, 69, 87]\n"
          ]
        }
      ]
    },
    {
      "cell_type": "markdown",
      "source": [
        "\n",
        "\n",
        "---\n",
        "\n"
      ],
      "metadata": {
        "id": "j-NJ_LVVJFrK"
      }
    },
    {
      "cell_type": "markdown",
      "source": [
        "###Q3. Write a Python Program to Transpose a Matrix?"
      ],
      "metadata": {
        "id": "1OweDN-rJIzO"
      }
    },
    {
      "cell_type": "markdown",
      "source": [
        "###Ans."
      ],
      "metadata": {
        "id": "PqsA_CsWJNUA"
      }
    },
    {
      "cell_type": "code",
      "source": [
        "X = [[2,3,4],[7,5,7],[8,5,3]]\n",
        "Y = [[7,5,4],[2,4,8],[1,3,5]]\n",
        "result = [[0,0,0],[0,0,0],[0,0,0]]\n",
        "for i in range(len(X)):\n",
        "    for j in range(len(Y[0])):\n",
        "                   for k in range(len(Y)):\n",
        "                         result[i][j] += X[i][k] * Y[k][j]\n",
        "for r in result:\n",
        "    print(r)"
      ],
      "metadata": {
        "id": "E-yWN81_JQHj",
        "colab": {
          "base_uri": "https://localhost:8080/"
        },
        "outputId": "f612448d-8065-4329-e0d8-96979262b513"
      },
      "execution_count": 6,
      "outputs": [
        {
          "output_type": "stream",
          "name": "stdout",
          "text": [
            "[24, 34, 52]\n",
            "[66, 76, 103]\n",
            "[69, 69, 87]\n"
          ]
        }
      ]
    },
    {
      "cell_type": "markdown",
      "source": [
        "\n",
        "\n",
        "---\n",
        "\n"
      ],
      "metadata": {
        "id": "RiJtVJ9zJPGe"
      }
    },
    {
      "cell_type": "markdown",
      "source": [
        "###Q4. Write a Python Program to Sort Words in Alphabetic Order?"
      ],
      "metadata": {
        "id": "zOSVDfWqJSM0"
      }
    },
    {
      "cell_type": "markdown",
      "source": [
        "###Ans."
      ],
      "metadata": {
        "id": "69hwmSeJJavg"
      }
    },
    {
      "cell_type": "code",
      "source": [
        "s = input(\"Enter a string\")\n",
        "words = s.split()\n",
        "words.sort()\n",
        "for word in words:\n",
        "    print(word)"
      ],
      "metadata": {
        "id": "p2G-QxypJcuy",
        "colab": {
          "base_uri": "https://localhost:8080/"
        },
        "outputId": "c1bb73fc-cae1-4129-ba8e-4f914fb73f3c"
      },
      "execution_count": 7,
      "outputs": [
        {
          "output_type": "stream",
          "name": "stdout",
          "text": [
            "Enter a stringHello this is Prerit Sharma\n",
            "Hello\n",
            "Prerit\n",
            "Sharma\n",
            "is\n",
            "this\n"
          ]
        }
      ]
    },
    {
      "cell_type": "markdown",
      "source": [
        "\n",
        "\n",
        "---\n",
        "\n"
      ],
      "metadata": {
        "id": "LMIUjCzsJdFJ"
      }
    },
    {
      "cell_type": "markdown",
      "source": [
        "###Q5. Write a Python Program to Remove Punctuation From a String?"
      ],
      "metadata": {
        "id": "OMYn2CpUJeK6"
      }
    },
    {
      "cell_type": "markdown",
      "source": [
        "###Ans."
      ],
      "metadata": {
        "id": "ZxM32njnJiOs"
      }
    },
    {
      "cell_type": "code",
      "source": [
        "def removePunctuations():\n",
        "    Punctuations = '''!()-[]{};:'\"\\,<>./?@#$%^&*_~'''\n",
        "    in_string = input('Enter a String: ')\n",
        "    out_string = ''\n",
        "    for ele in in_string:\n",
        "        if ele not in Punctuations:\n",
        "            out_string += ele\n",
        "    print(out_string)"
      ],
      "metadata": {
        "id": "pwQzLxPkJkjN"
      },
      "execution_count": 16,
      "outputs": []
    },
    {
      "cell_type": "code",
      "source": [
        "removePunctuations()\n"
      ],
      "metadata": {
        "colab": {
          "base_uri": "https://localhost:8080/"
        },
        "id": "b7-3L62l5bMK",
        "outputId": "ea9712d8-5dcc-4afc-97c0-8c0887a7d333"
      },
      "execution_count": 17,
      "outputs": [
        {
          "output_type": "stream",
          "name": "stdout",
          "text": [
            "Enter a String: Hello!! my name is Prerit Sharma\n",
            "Hello my name is Prerit Sharma\n"
          ]
        }
      ]
    },
    {
      "cell_type": "markdown",
      "source": [
        "------------------------------------------------------------------------------------------End-----------------------------------------------------------------------------"
      ],
      "metadata": {
        "id": "V6JNZimmJk59"
      }
    }
  ]
}