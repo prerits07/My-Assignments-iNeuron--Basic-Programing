{
  "nbformat": 4,
  "nbformat_minor": 0,
  "metadata": {
    "colab": {
      "provenance": []
    },
    "kernelspec": {
      "name": "python3",
      "display_name": "Python 3"
    },
    "language_info": {
      "name": "python"
    }
  },
  "cells": [
    {
      "cell_type": "markdown",
      "source": [
        "### Python (Basic programing) Assignment No. 09\n",
        "1 Batch - Full Stack Data Science Bootcamp 2.0\n",
        "\n",
        "2 Name - **Prerit Sharma**\n",
        "\n",
        "3 Email ID - **praritsharma7@gmail.com**"
      ],
      "metadata": {
        "id": "QYgneSdOJIwT"
      }
    },
    {
      "cell_type": "markdown",
      "source": [
        "\n",
        "\n",
        "---\n",
        "\n"
      ],
      "metadata": {
        "id": "LKSbSXvrJRBa"
      }
    },
    {
      "cell_type": "markdown",
      "source": [
        "###Q1. Write a Python program to check if the given number is a Disarium Number?"
      ],
      "metadata": {
        "id": "qLd8BNGiJR0Q"
      }
    },
    {
      "cell_type": "markdown",
      "source": [
        "###Ans.\n",
        "A number whose sum of its digits powered with its respective position equals to the number itself is called a disarium number."
      ],
      "metadata": {
        "id": "UN3MNz8NJXGn"
      }
    },
    {
      "cell_type": "code",
      "execution_count": null,
      "metadata": {
        "colab": {
          "base_uri": "https://localhost:8080/"
        },
        "id": "WgI6JUpcJGc1",
        "outputId": "231b803f-f200-42bb-8e92-2b624d8440a4"
      },
      "outputs": [
        {
          "output_type": "stream",
          "name": "stdout",
          "text": [
            "Enter your number to check whether it's Disarium or not : 100\n",
            "Your Entered no. is : 100\n",
            "This is not a Disarium Number.\n"
          ]
        }
      ],
      "source": [
        "no = input(\"Enter your number to check whether it's Disarium or not : \")\n",
        "result = 0\n",
        "print(f\"Your Entered no. is : {no}\")\n",
        "\n",
        "for j, i in enumerate(no):\n",
        "  result += int(i) ** (j+1)\n",
        "\n",
        "if result == int(no):\n",
        "  print(\"This is a Disarium Number.\")\n",
        "else:\n",
        "  print(\"This is not a Disarium Number.\")"
      ]
    },
    {
      "cell_type": "markdown",
      "source": [
        "\n",
        "\n",
        "---\n",
        "\n"
      ],
      "metadata": {
        "id": "f7F9jF_PKrRJ"
      }
    },
    {
      "cell_type": "markdown",
      "source": [
        "###Q2. Write a Python program to print all disarium numbers between 1 to 100?"
      ],
      "metadata": {
        "id": "yAGpIeGNKsdb"
      }
    },
    {
      "cell_type": "markdown",
      "source": [
        "###Ans."
      ],
      "metadata": {
        "id": "mURQMGTSK2aF"
      }
    },
    {
      "cell_type": "code",
      "source": [
        "\n",
        "def no(start=0,end=100):\n",
        "\n",
        "    output_num = []\n",
        "\n",
        "    for i in range(start,end+1):\n",
        "        sum = 0\n",
        "        for j in range(len(str(i))):\n",
        "            sum += int(str(i)[j])**(j+1)\n",
        "        if sum == i:\n",
        "            output_num.append(i)\n",
        "\n",
        "    return print(\"Disarium Numbers b/w 1 to 100 is : \", output_num)\n",
        "\n",
        "\n",
        "no(1,100)"
      ],
      "metadata": {
        "colab": {
          "base_uri": "https://localhost:8080/"
        },
        "id": "VKFQhSYmK3oc",
        "outputId": "7cb2fd3e-19ed-48c4-a240-0ca94ffe5e71"
      },
      "execution_count": null,
      "outputs": [
        {
          "output_type": "stream",
          "name": "stdout",
          "text": [
            "Disarium Numbers b/w 1 to 100 is :  [1, 2, 3, 4, 5, 6, 7, 8, 9, 89]\n"
          ]
        }
      ]
    },
    {
      "cell_type": "markdown",
      "source": [],
      "metadata": {
        "id": "6OOIQhcALA4q"
      }
    },
    {
      "cell_type": "markdown",
      "source": [
        "----"
      ],
      "metadata": {
        "id": "UcgCC3XKLBRx"
      }
    },
    {
      "cell_type": "markdown",
      "source": [
        "###Q3. Write a Python program to check if the given number is Happy Number?"
      ],
      "metadata": {
        "id": "E2jTs5M1LB2H"
      }
    },
    {
      "cell_type": "markdown",
      "source": [
        "###Ans.\n",
        "A happy number is defined as a number that can be replaced by the sum of the squares of its digit repeatedly and after some repetitions, it will yield the number 1."
      ],
      "metadata": {
        "id": "8vfK2RJcLG5z"
      }
    },
    {
      "cell_type": "code",
      "source": [
        "def Happy(num):\n",
        "    sum = 0\n",
        "    while(num>0):\n",
        "        digit = num % 10\n",
        "        sum = sum + digit**2\n",
        "        num = num//10\n",
        "    return sum\n",
        "\n",
        "num = int(input(\"Enter your no to check whether it is a Happy No. or Not : \"))\n",
        "result = num\n",
        "\n",
        "while (result != 1 and result != 4):\n",
        "    result = Happy(result)\n",
        "\n",
        "if result == 1:\n",
        "    print(num,\"is a Happy Number.\")\n",
        "else:\n",
        "    print(num,\" is an Unhappy Number.\")"
      ],
      "metadata": {
        "id": "MzqzEBn6LIqr",
        "colab": {
          "base_uri": "https://localhost:8080/"
        },
        "outputId": "79429b08-b383-4304-92df-efc368db3ced"
      },
      "execution_count": 1,
      "outputs": [
        {
          "output_type": "stream",
          "name": "stdout",
          "text": [
            "Enter your no to check whether it is a Happy No. or Not : 90\n",
            "90  is an Unhappy Number.\n"
          ]
        }
      ]
    },
    {
      "cell_type": "markdown",
      "source": [
        "\n",
        "\n",
        "---\n",
        "\n"
      ],
      "metadata": {
        "id": "3hURb7hBo-DG"
      }
    },
    {
      "cell_type": "markdown",
      "source": [
        "###Q4. Write a Python program to print all happy numbers between 1 and 100?"
      ],
      "metadata": {
        "id": "EFnRe6mno-2d"
      }
    },
    {
      "cell_type": "markdown",
      "source": [
        "###Ans."
      ],
      "metadata": {
        "id": "St3kFCV9pK9U"
      }
    },
    {
      "cell_type": "code",
      "source": [
        "def Happy(num):\n",
        "    sum = 0\n",
        "    while(num>0):\n",
        "        digit = num % 10\n",
        "        sum = sum + (digit**2)\n",
        "        num = num//10\n",
        "    return sum\n",
        "\n",
        "print(\"Happy numbers in range of 1 to 100 is : \")\n",
        "\n",
        "result = num = i = 0\n",
        "\n",
        "happyNo = []\n",
        "\n",
        "for i in range(1,101):\n",
        "    result = i\n",
        "    while (result != 1 and result != 4):\n",
        "        result = Happy(result)\n",
        "    if result == 1:\n",
        "        happyNo.append(i)\n",
        "print(happyNo)"
      ],
      "metadata": {
        "colab": {
          "base_uri": "https://localhost:8080/"
        },
        "id": "DUDZFrwipSVc",
        "outputId": "f99a6c38-a2bb-4a54-e77c-cd1ad8167214"
      },
      "execution_count": 2,
      "outputs": [
        {
          "output_type": "stream",
          "name": "stdout",
          "text": [
            "Happy numbers in range of 1 to 100 is : \n",
            "[1, 7, 10, 13, 19, 23, 28, 31, 32, 44, 49, 68, 70, 79, 82, 86, 91, 94, 97, 100]\n"
          ]
        }
      ]
    },
    {
      "cell_type": "markdown",
      "source": [
        "---"
      ],
      "metadata": {
        "id": "0WRg1wYApV9Q"
      }
    },
    {
      "cell_type": "markdown",
      "source": [
        "###Q5. Write a Python program to determine whether the given number is a Harshad Number?"
      ],
      "metadata": {
        "id": "IlAIWKx7pXAI"
      }
    },
    {
      "cell_type": "markdown",
      "source": [
        "###Ans.\n",
        " A Harshad Number (also known as a Niven number) is an integer that is divisible by the sum of its digits in a given base. A harshad number in base n is called an n-harshad number.\n"
      ],
      "metadata": {
        "id": "0PHQCf4qpdFs"
      }
    },
    {
      "cell_type": "code",
      "source": [
        "num = int(input(\"Enter your no to check whether it is a Harshad No. or Not : \"))\n",
        "x = num\n",
        "sum = 0\n",
        "\n",
        "while x>0:\n",
        "  rem = x % 10\n",
        "  sum = sum + rem\n",
        "  x = x // 10\n",
        "\n",
        "if num % sum == 0:\n",
        "  print(num, \"is a Harshad Number.\")\n",
        "else:\n",
        "  print(num, \"is not a Harshad Number.\")"
      ],
      "metadata": {
        "colab": {
          "base_uri": "https://localhost:8080/"
        },
        "id": "G8eROvjNpezE",
        "outputId": "d182b115-8b68-4732-df57-188d42d8e899"
      },
      "execution_count": 3,
      "outputs": [
        {
          "output_type": "stream",
          "name": "stdout",
          "text": [
            "Enter your no to check whether it is a Harshad No. or Not : 98\n",
            "98 is not a Harshad Number.\n"
          ]
        }
      ]
    },
    {
      "cell_type": "markdown",
      "source": [
        "\n",
        "\n",
        "---\n",
        "\n"
      ],
      "metadata": {
        "id": "94bLzIEhpxpY"
      }
    },
    {
      "cell_type": "markdown",
      "source": [
        "###Q6. Write a Python program to print all pronic numbers between 1 and 100?"
      ],
      "metadata": {
        "id": "2UXEfCnDpyuP"
      }
    },
    {
      "cell_type": "markdown",
      "source": [
        "###Ans.\n",
        "A Pronic Number is a number which is the product of two consecutive integers, that is, a number of the form n(n + 1)."
      ],
      "metadata": {
        "id": "jSKxQia6p3jG"
      }
    },
    {
      "cell_type": "code",
      "source": [
        "def Pronic(num):\n",
        "  flag = 0\n",
        "  for i in range(1, num+1):\n",
        "    if (i*(i+1)==num):\n",
        "      flag = 1\n",
        "      break\n",
        "  return flag\n",
        "\n",
        "\n",
        "print(\"Pronic Numbers b/w range 1 to 100 is : \")\n",
        "\n",
        "pronicno = []\n",
        "\n",
        "for i in range(1,101):\n",
        "    if Pronic(i):\n",
        "        pronicno.append(i)\n",
        "print(pronicno)"
      ],
      "metadata": {
        "colab": {
          "base_uri": "https://localhost:8080/"
        },
        "id": "Pv01Q8OVp5EC",
        "outputId": "2bca6e6c-2d00-44a8-d16a-31c01b79f03a"
      },
      "execution_count": 4,
      "outputs": [
        {
          "output_type": "stream",
          "name": "stdout",
          "text": [
            "Pronic Numbers b/w range 1 to 100 is : \n",
            "[2, 6, 12, 20, 30, 42, 56, 72, 90]\n"
          ]
        }
      ]
    },
    {
      "cell_type": "markdown",
      "source": [
        "-------------------------------------------------------------------------------------End-----------------------------------------------------------------------------------------------------------------"
      ],
      "metadata": {
        "id": "shOqqC6kqFD9"
      }
    }
  ]
}