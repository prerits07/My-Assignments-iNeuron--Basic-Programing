{
  "nbformat": 4,
  "nbformat_minor": 0,
  "metadata": {
    "colab": {
      "provenance": []
    },
    "kernelspec": {
      "name": "python3",
      "display_name": "Python 3"
    },
    "language_info": {
      "name": "python"
    }
  },
  "cells": [
    {
      "cell_type": "markdown",
      "source": [
        "### Python (Basic programing) Assignment No. 10\n",
        "1 Batch - Full Stack Data Science Bootcamp 2.0\n",
        "\n",
        "2 Name - **Prerit Sharma**\n",
        "\n",
        "3 Email ID - **praritsharma7@gmail.com**"
      ],
      "metadata": {
        "id": "tplNu6hCqsI6"
      }
    },
    {
      "cell_type": "markdown",
      "source": [
        "\n",
        "\n",
        "---\n",
        "\n"
      ],
      "metadata": {
        "id": "ZDfBG5O8q2H7"
      }
    },
    {
      "cell_type": "markdown",
      "source": [
        "###Q1. Write a Python program to find sum of elements in list?"
      ],
      "metadata": {
        "id": "C2IGNs2-q3NQ"
      }
    },
    {
      "cell_type": "markdown",
      "source": [
        "###Ans."
      ],
      "metadata": {
        "id": "KmKXQqJ0q--A"
      }
    },
    {
      "cell_type": "code",
      "execution_count": 7,
      "metadata": {
        "colab": {
          "base_uri": "https://localhost:8080/"
        },
        "id": "I8haR9miqn0n",
        "outputId": "20febac3-8355-416d-8587-d7f8721ce326"
      },
      "outputs": [
        {
          "output_type": "stream",
          "name": "stdout",
          "text": [
            "Enter the range of number you want in the list : 8\n",
            "Enter your numbers to be added into the list : 6\n",
            "Enter your numbers to be added into the list : 4\n",
            "Enter your numbers to be added into the list : 9\n",
            "Enter your numbers to be added into the list : 3\n",
            "Enter your numbers to be added into the list : 2\n",
            "Enter your numbers to be added into the list : 6\n",
            "Enter your numbers to be added into the list : 9\n",
            "Enter your numbers to be added into the list : 7\n",
            "List is : [6, 4, 9, 3, 2, 6, 9, 7]\n",
            "Sum of elements in List is : 46\n"
          ]
        }
      ],
      "source": [
        "def list():\n",
        "  sum = 0\n",
        "  li = []\n",
        "  no = int(input(\"Enter the range of number you want in the list : \"))\n",
        "\n",
        "  for i in range(no):\n",
        "    n = int(input(\"Enter your numbers to be added into the list : \"))\n",
        "    li.append(n)\n",
        "  print(f\"List is : {li}\")\n",
        "\n",
        "  for j in li:\n",
        "    sum += j\n",
        "  print(f\"Sum of elements in List is : {sum}\")\n",
        "\n",
        "list()"
      ]
    },
    {
      "cell_type": "markdown",
      "source": [
        "\n",
        "\n",
        "---\n",
        "\n"
      ],
      "metadata": {
        "id": "tVQw5dIKrKhq"
      }
    },
    {
      "cell_type": "markdown",
      "source": [
        "###Q2. Write a Python program to Multiply all numbers in the list?"
      ],
      "metadata": {
        "id": "XI4F-wisrLj2"
      }
    },
    {
      "cell_type": "markdown",
      "source": [
        "###Ans."
      ],
      "metadata": {
        "id": "0N66l3EcsKj9"
      }
    },
    {
      "cell_type": "code",
      "source": [
        "def list():\n",
        "  multiply = 1\n",
        "  li = []\n",
        "  no = int(input(\"Enter the range of number you want in the list : \"))\n",
        "\n",
        "  for i in range(no):\n",
        "    n = int(input(\"Enter your numbers to be added into the list : \"))\n",
        "    li.append(n)\n",
        "  print(f\"List is : {li}\")\n",
        "\n",
        "  for j in li:\n",
        "    multiply = multiply * j\n",
        "  print(f\"Multiplication of elements in List is : {multiply}\")\n",
        "\n",
        "list()"
      ],
      "metadata": {
        "colab": {
          "base_uri": "https://localhost:8080/"
        },
        "id": "CoYnzJxysSvx",
        "outputId": "c0704cdf-4d68-4725-e7d2-ffd41abaf5e1"
      },
      "execution_count": 9,
      "outputs": [
        {
          "output_type": "stream",
          "name": "stdout",
          "text": [
            "Enter the range of number you want in the list : 10\n",
            "Enter your numbers to be added into the list : 20\n",
            "Enter your numbers to be added into the list : 8\n",
            "Enter your numbers to be added into the list : 7\n",
            "Enter your numbers to be added into the list : 5\n",
            "Enter your numbers to be added into the list : 3\n",
            "Enter your numbers to be added into the list : 8\n",
            "Enter your numbers to be added into the list : 4\n",
            "Enter your numbers to be added into the list : 9\n",
            "Enter your numbers to be added into the list : 11\n",
            "Enter your numbers to be added into the list : 67\n",
            "List is : [20, 8, 7, 5, 3, 8, 4, 9, 11, 67]\n",
            "Multiplication of elements in List is : 3565900800\n"
          ]
        }
      ]
    },
    {
      "cell_type": "markdown",
      "source": [
        "\n",
        "\n",
        "---\n",
        "\n"
      ],
      "metadata": {
        "id": "GRYdt5PqspMD"
      }
    },
    {
      "cell_type": "markdown",
      "source": [
        "###Q3. Write a Python program to find smallest number in a list?"
      ],
      "metadata": {
        "id": "zh-6pC6gsqEh"
      }
    },
    {
      "cell_type": "markdown",
      "source": [
        "###Ans."
      ],
      "metadata": {
        "id": "bgnvUUfCswFf"
      }
    },
    {
      "cell_type": "code",
      "source": [
        "def list():\n",
        "  li = []\n",
        "  no = int(input(\"Enter the range of number you want in the list : \"))\n",
        "\n",
        "  for i in range(no):\n",
        "    n = int(input(\"Enter your numbers to be added into the list : \"))\n",
        "    li.append(n)\n",
        "  print(f\"List is : {li}\")\n",
        "\n",
        "  print(f'The Smallest Element in List is : {sorted(li)[0]}')\n",
        "\n",
        "list()"
      ],
      "metadata": {
        "colab": {
          "base_uri": "https://localhost:8080/"
        },
        "id": "r0SCEwEss6tY",
        "outputId": "b374954d-f5a6-4121-c54d-ac465dff3e09"
      },
      "execution_count": 10,
      "outputs": [
        {
          "output_type": "stream",
          "name": "stdout",
          "text": [
            "Enter the range of number you want in the list : 8\n",
            "Enter your numbers to be added into the list : 2\n",
            "Enter your numbers to be added into the list : 4\n",
            "Enter your numbers to be added into the list : 6\n",
            "Enter your numbers to be added into the list : 7\n",
            "Enter your numbers to be added into the list : 9\n",
            "Enter your numbers to be added into the list : 3\n",
            "Enter your numbers to be added into the list : 1\n",
            "Enter your numbers to be added into the list : 9\n",
            "List is : [2, 4, 6, 7, 9, 3, 1, 9]\n",
            "The Smallest Element in List is : 1\n"
          ]
        }
      ]
    },
    {
      "cell_type": "markdown",
      "source": [
        "\n",
        "\n",
        "---\n",
        "\n"
      ],
      "metadata": {
        "id": "lInzoELMtCs1"
      }
    },
    {
      "cell_type": "markdown",
      "source": [
        "###Q4. Write a Python program to find largest number in a list?"
      ],
      "metadata": {
        "id": "RYbBZCR1tDk3"
      }
    },
    {
      "cell_type": "markdown",
      "source": [
        "###Ans."
      ],
      "metadata": {
        "id": "tAGsB04ltM7E"
      }
    },
    {
      "cell_type": "code",
      "source": [
        "def list():\n",
        "  li = []\n",
        "  no = int(input(\"Enter the range of number you want in the list : \"))\n",
        "\n",
        "  for i in range(no):\n",
        "    n = int(input(\"Enter your numbers to be added into the list : \"))\n",
        "    li.append(n)\n",
        "  print(f\"List is : {li}\")\n",
        "\n",
        "  print(f'The Largest Element in List is : {sorted(li, reverse = True)[0]}')\n",
        "\n",
        "list()\n"
      ],
      "metadata": {
        "colab": {
          "base_uri": "https://localhost:8080/"
        },
        "id": "yzGOU5wQtL1B",
        "outputId": "337d745c-cf4e-4de2-ceb3-7d65b7db4089"
      },
      "execution_count": 14,
      "outputs": [
        {
          "output_type": "stream",
          "name": "stdout",
          "text": [
            "Enter the range of number you want in the list : 8\n",
            "Enter your numbers to be added into the list : 6\n",
            "Enter your numbers to be added into the list : 9\n",
            "Enter your numbers to be added into the list : 5\n",
            "Enter your numbers to be added into the list : 4\n",
            "Enter your numbers to be added into the list : 7\n",
            "Enter your numbers to be added into the list : 9\n",
            "Enter your numbers to be added into the list : 4\n",
            "Enter your numbers to be added into the list : 2\n",
            "List is : [6, 9, 5, 4, 7, 9, 4, 2]\n",
            "The Largest Element in List is : 9\n"
          ]
        }
      ]
    },
    {
      "cell_type": "markdown",
      "source": [
        "\n",
        "\n",
        "---\n",
        "\n"
      ],
      "metadata": {
        "id": "PWQOn08Ps8H_"
      }
    },
    {
      "cell_type": "markdown",
      "source": [
        "###Q5. Write a Python program to find second largest number in a list?"
      ],
      "metadata": {
        "id": "VHIbsggOtmDt"
      }
    },
    {
      "cell_type": "markdown",
      "source": [
        "###Ans."
      ],
      "metadata": {
        "id": "zJYphp97tqgy"
      }
    },
    {
      "cell_type": "code",
      "source": [
        "\n",
        "def list():\n",
        "  li = []\n",
        "  no = int(input(\"Enter the range of number you want in the list : \"))\n",
        "\n",
        "  for i in range(no):\n",
        "    n = int(input(\"Enter your numbers to be added into the list : \"))\n",
        "    li.append(n)\n",
        "  print(f\"List is : {li}\")\n",
        "\n",
        "  print(f'The 2nd Largest Element in List is : {sorted(li, reverse = True)[1]}')\n",
        "\n",
        "list()"
      ],
      "metadata": {
        "colab": {
          "base_uri": "https://localhost:8080/"
        },
        "id": "TwzLWrsetrv0",
        "outputId": "84b6cb99-310e-40ae-c337-9e506ef54451"
      },
      "execution_count": 17,
      "outputs": [
        {
          "output_type": "stream",
          "name": "stdout",
          "text": [
            "Enter the range of number you want in the list : 4\n",
            "Enter your numbers to be added into the list : 5\n",
            "Enter your numbers to be added into the list : 2\n",
            "Enter your numbers to be added into the list : 6\n",
            "Enter your numbers to be added into the list : 6\n",
            "List is : [5, 2, 6, 6]\n",
            "The 2nd Largest Element in List is : 6\n"
          ]
        }
      ]
    },
    {
      "cell_type": "markdown",
      "source": [
        "\n",
        "\n",
        "---\n",
        "\n"
      ],
      "metadata": {
        "id": "KmR-r_8yuC22"
      }
    },
    {
      "cell_type": "markdown",
      "source": [
        "###Q6. Write a Python program to find N largest elements from a list?"
      ],
      "metadata": {
        "id": "92LorIf1uDnR"
      }
    },
    {
      "cell_type": "markdown",
      "source": [
        "###Ans."
      ],
      "metadata": {
        "id": "K4yz4J-NuIrs"
      }
    },
    {
      "cell_type": "code",
      "source": [
        "def list(k):\n",
        "  li = []\n",
        "  no = int(input(\"Enter the range of number you want in the list : \"))\n",
        "\n",
        "  for i in range(no):\n",
        "    n = int(input(\"Enter your numbers to be added into the list : \"))\n",
        "    li.append(n)\n",
        "  print(f\"List is : {li}\")\n",
        "\n",
        "  print(f'The {k} Largest Elements in List is : {sorted(li, reverse = True)[0:k]}')\n",
        "\n",
        "list(4)"
      ],
      "metadata": {
        "colab": {
          "base_uri": "https://localhost:8080/"
        },
        "id": "V7b7i7nFuKRI",
        "outputId": "99c5af59-6672-4724-c102-44a649490cf5"
      },
      "execution_count": 18,
      "outputs": [
        {
          "output_type": "stream",
          "name": "stdout",
          "text": [
            "Enter the range of number you want in the list : 4\n",
            "Enter your numbers to be added into the list : 3\n",
            "Enter your numbers to be added into the list : 3\n",
            "Enter your numbers to be added into the list : 1\n",
            "Enter your numbers to be added into the list : 5\n",
            "List is : [3, 3, 1, 5]\n",
            "The 4 Largest Elements in List is : [5, 3, 3, 1]\n"
          ]
        }
      ]
    },
    {
      "cell_type": "markdown",
      "source": [
        "\n",
        "\n",
        "---\n",
        "\n"
      ],
      "metadata": {
        "id": "D3v43LQKud9X"
      }
    },
    {
      "cell_type": "markdown",
      "source": [
        "###Q7. Write a Python program to print even numbers in a list?"
      ],
      "metadata": {
        "id": "N8e2HGufuU6L"
      }
    },
    {
      "cell_type": "markdown",
      "source": [
        "###Ans."
      ],
      "metadata": {
        "id": "Z689Ei5iua6k"
      }
    },
    {
      "cell_type": "code",
      "source": [
        "def list():\n",
        "  li = []\n",
        "  no = int(input(\"Enter the range of number you want in the list : \"))\n",
        "\n",
        "  for i in range(no):\n",
        "    n = int(input(\"Enter your numbers to be added into the list : \"))\n",
        "    li.append(n)\n",
        "  print(f\"List is : {li}\")\n",
        "\n",
        "  even = []\n",
        "  for j in li:\n",
        "    if j % 2 == 0:\n",
        "      even.append(j)\n",
        "\n",
        "  print(f\"Even numbers in the List are : {even}\")\n",
        "\n",
        "list()"
      ],
      "metadata": {
        "colab": {
          "base_uri": "https://localhost:8080/"
        },
        "id": "uQ2zQimkuc4F",
        "outputId": "03c1aeca-3d23-4f7c-c988-4aaa52b3bdde"
      },
      "execution_count": 19,
      "outputs": [
        {
          "output_type": "stream",
          "name": "stdout",
          "text": [
            "Enter the range of number you want in the list : 2\n",
            "Enter your numbers to be added into the list : 5\n",
            "Enter your numbers to be added into the list : 6\n",
            "List is : [5, 6]\n",
            "Even numbers in the List are : [6]\n"
          ]
        }
      ]
    },
    {
      "cell_type": "markdown",
      "source": [
        "\n",
        "\n",
        "---\n",
        "\n"
      ],
      "metadata": {
        "id": "aDTn6eSGutnX"
      }
    },
    {
      "cell_type": "markdown",
      "source": [
        "###Q8. Write a Python program to print odd numbers in a List?"
      ],
      "metadata": {
        "id": "Z7Dx-4WSu1WU"
      }
    },
    {
      "cell_type": "markdown",
      "source": [
        "###Ans."
      ],
      "metadata": {
        "id": "HcPRARUbu5hx"
      }
    },
    {
      "cell_type": "code",
      "source": [
        "def list():\n",
        "  li = []\n",
        "  no = int(input(\"Enter the range of number you want in the list : \"))\n",
        "\n",
        "  for i in range(no):\n",
        "    n = int(input(\"Enter your numbers to be added into the list : \"))\n",
        "    li.append(n)\n",
        "  print(f\"List is : {li}\")\n",
        "\n",
        "  odd = []\n",
        "  for j in li:\n",
        "    if j % 2 != 0:\n",
        "      odd.append(j)\n",
        "\n",
        "  print(f\"Odd numbers in the List are : {odd}\")\n",
        "\n",
        "list()\n",
        ""
      ],
      "metadata": {
        "colab": {
          "base_uri": "https://localhost:8080/"
        },
        "id": "nNYry4FLu60s",
        "outputId": "a73adc98-ffe7-46fd-ce22-3b4cfd6f8fe2"
      },
      "execution_count": 20,
      "outputs": [
        {
          "output_type": "stream",
          "name": "stdout",
          "text": [
            "Enter the range of number you want in the list : 3\n",
            "Enter your numbers to be added into the list : 2\n",
            "Enter your numbers to be added into the list : 6\n",
            "Enter your numbers to be added into the list : 7\n",
            "List is : [2, 6, 7]\n",
            "Odd numbers in the List are : [7]\n"
          ]
        }
      ]
    },
    {
      "cell_type": "markdown",
      "source": [
        "\n",
        "\n",
        "---\n",
        "\n"
      ],
      "metadata": {
        "id": "hu2jpD_tuUGf"
      }
    },
    {
      "cell_type": "markdown",
      "source": [
        "###Q9. Write a Python program to Remove empty List from List?"
      ],
      "metadata": {
        "id": "3HrxsJMZvC8M"
      }
    },
    {
      "cell_type": "markdown",
      "source": [
        "###Ans.\n"
      ],
      "metadata": {
        "id": "cQ-cDfzEvGvK"
      }
    },
    {
      "cell_type": "code",
      "source": [
        "def check_empty_lists():\n",
        "  li = []\n",
        "  no = int(input(\"Enter the range of numbers you want in the list: \"))\n",
        "\n",
        "  for i in range(no):\n",
        "    n = input(\"Enter your numbers to be added to the list: \")\n",
        "    li.append(n)\n",
        "\n",
        "  print(f\"List is: {li}\")\n",
        "\n",
        "  empty_list_found = False     # Flag variable to track if empty list is found\n",
        "\n",
        "  for j in li:\n",
        "    if j == \"[]\":\n",
        "      empty_list_found = True     # Set the flag variable to True\n",
        "      print(f\"There is an empty list in the list at position : {li.index(j)}\")\n",
        "      li.remove(j)\n",
        "\n",
        "  if empty_list_found:\n",
        "    print(f\"The List after removing the empty list is : {li}\")\n",
        "  else:\n",
        "    print(\"No Empty list found!\")\n",
        "\n",
        "check_empty_lists()"
      ],
      "metadata": {
        "colab": {
          "base_uri": "https://localhost:8080/"
        },
        "id": "sirxyFuFvIWA",
        "outputId": "c0e18948-1608-428a-d8b9-5f4a1999b70f"
      },
      "execution_count": 21,
      "outputs": [
        {
          "output_type": "stream",
          "name": "stdout",
          "text": [
            "Enter the range of numbers you want in the list: 5\n",
            "Enter your numbers to be added to the list: 4\n",
            "Enter your numbers to be added to the list: 7\n",
            "Enter your numbers to be added to the list: 8\n",
            "Enter your numbers to be added to the list: 9\n",
            "Enter your numbers to be added to the list: 2\n",
            "List is: ['4', '7', '8', '9', '2']\n",
            "No Empty list found!\n"
          ]
        }
      ]
    },
    {
      "cell_type": "markdown",
      "source": [
        "\n",
        "\n",
        "---\n",
        "\n"
      ],
      "metadata": {
        "id": "402QEZZOvMfM"
      }
    },
    {
      "cell_type": "markdown",
      "source": [
        "###Q10. Write a Python program to Cloning or Copying a list?"
      ],
      "metadata": {
        "id": "yqKeH1kGvUAj"
      }
    },
    {
      "cell_type": "markdown",
      "source": [
        "###Ans."
      ],
      "metadata": {
        "id": "xkPU8tIsvaCI"
      }
    },
    {
      "cell_type": "code",
      "source": [
        "d2ef list():\n",
        "  li1 = []\n",
        "  li2 = []\n",
        "  no = int(input(\"Enter the range of number you want in the list : \"))\n",
        "\n",
        "  for i in range(no):\n",
        "    n = int(input(\"Enter your numbers to be added into the list : \"))\n",
        "    li1.append(n)\n",
        "  print(f\"Original List is : {li1}\")\n",
        "\n",
        "  for j in li1:\n",
        "    li2.append(j)\n",
        "  print(f\"\\nCopied List is : {li2}\")\n",
        "\n",
        "\n",
        "list()\n",
        ""
      ],
      "metadata": {
        "colab": {
          "base_uri": "https://localhost:8080/"
        },
        "id": "k_tmULT9vbqF",
        "outputId": "3597477c-ae45-4c9c-a17b-f9aeca6005d3"
      },
      "execution_count": 23,
      "outputs": [
        {
          "output_type": "stream",
          "name": "stdout",
          "text": [
            "Enter the range of number you want in the list : 4\n",
            "Enter your numbers to be added into the list : 3\n",
            "Enter your numbers to be added into the list : 6\n",
            "Enter your numbers to be added into the list : 8\n",
            "Enter your numbers to be added into the list : 6\n",
            "Original List is : [3, 6, 8, 6]\n",
            "\n",
            "Copied List is : [3, 6, 8, 6]\n"
          ]
        }
      ]
    },
    {
      "cell_type": "markdown",
      "source": [
        "\n",
        "\n",
        "---\n",
        "\n"
      ],
      "metadata": {
        "id": "26E_9S9gwRni"
      }
    },
    {
      "cell_type": "markdown",
      "source": [
        "###Q11. Write a Python program to Count occurrences of an element in a list?"
      ],
      "metadata": {
        "id": "5x_MvPF9wdDL"
      }
    },
    {
      "cell_type": "markdown",
      "source": [
        "###Ans."
      ],
      "metadata": {
        "id": "aogeiBUTwg9x"
      }
    },
    {
      "cell_type": "code",
      "source": [
        "def list():\n",
        "  li = []\n",
        "  count = 0\n",
        "  no = int(input(\"Enter the range of number you want in the list : \"))\n",
        "\n",
        "  for i in range(no):\n",
        "    n = input(\"Enter your numbers to be added into the list : \")\n",
        "    li.append(n)\n",
        "  print(f\"List is : {li}\")\n",
        "\n",
        "  find = input(\"Enter element to find : \")\n",
        "\n",
        "  for j in li:\n",
        "    if j == find:\n",
        "      count += 1\n",
        "\n",
        "  print(f\"Total occurrences of searched element is : {count}\")\n",
        "\n",
        "list()\n",
        ""
      ],
      "metadata": {
        "colab": {
          "base_uri": "https://localhost:8080/"
        },
        "id": "pgMwyqaXwiNQ",
        "outputId": "fb3b4759-cb68-4caf-e73a-f9a5f1c75c37"
      },
      "execution_count": 25,
      "outputs": [
        {
          "output_type": "stream",
          "name": "stdout",
          "text": [
            "Enter the range of number you want in the list : 5\n",
            "Enter your numbers to be added into the list : 3\n",
            "Enter your numbers to be added into the list : 4\n",
            "Enter your numbers to be added into the list : 2\n",
            "Enter your numbers to be added into the list : 7\n",
            "Enter your numbers to be added into the list : 8\n",
            "List is : ['3', '4', '2', '7', '8']\n",
            "Enter element to find : 3\n",
            "Total occurrences of searched element is : 1\n"
          ]
        }
      ]
    },
    {
      "cell_type": "markdown",
      "source": [
        "-------------------------------------------------------------------------------------------End-----------------------------------------------------------------------------------------"
      ],
      "metadata": {
        "id": "C5xvhz_iwxig"
      }
    }
  ]
}