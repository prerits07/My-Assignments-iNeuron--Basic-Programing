{
  "nbformat": 4,
  "nbformat_minor": 0,
  "metadata": {
    "colab": {
      "provenance": []
    },
    "kernelspec": {
      "name": "python3",
      "display_name": "Python 3"
    },
    "language_info": {
      "name": "python"
    }
  },
  "cells": [
    {
      "cell_type": "markdown",
      "source": [
        "### Python (Basic programing) Assignment No. 11\n",
        "1 Batch - Full Stack Data Science Bootcamp 2.0\n",
        "\n",
        "2 Name - **Prerit Sharma**\n",
        "\n",
        "3 Email ID - **praritsharma7@gmail.com**"
      ],
      "metadata": {
        "id": "1ND_keN9xM5e"
      }
    },
    {
      "cell_type": "markdown",
      "source": [
        "\n",
        "\n",
        "---\n",
        "\n"
      ],
      "metadata": {
        "id": "xc_DrQ0xxUg9"
      }
    },
    {
      "cell_type": "markdown",
      "source": [
        "###Q1. Write a Python program to find words which are greater than given length k?"
      ],
      "metadata": {
        "id": "Rai1vGVSxVV-"
      }
    },
    {
      "cell_type": "markdown",
      "source": [
        "###Ans."
      ],
      "metadata": {
        "id": "dKb6ZRdmzssP"
      }
    },
    {
      "cell_type": "code",
      "execution_count": 1,
      "metadata": {
        "colab": {
          "base_uri": "https://localhost:8080/"
        },
        "id": "-t3Z15ThxK5k",
        "outputId": "3b9505e0-2dbc-45f3-ae8f-57ff7ab749a3"
      },
      "outputs": [
        {
          "output_type": "stream",
          "name": "stdout",
          "text": [
            "interpreted\n",
            "general\n",
            "purpose\n",
            "programming\n",
            "language\n"
          ]
        }
      ],
      "source": [
        "def word_k(k, s):\n",
        "    word = s.split(\" \")\n",
        "    for x in word:\n",
        "        if len(x)>k:\n",
        "            print(x)\n",
        "\n",
        "k = 6\n",
        "s = \"Python is a high level interpreted general purpose programming language\"\n",
        "word_k(k,s)\n"
      ]
    },
    {
      "cell_type": "markdown",
      "source": [
        "\n",
        "\n",
        "---\n",
        "\n"
      ],
      "metadata": {
        "id": "qRMuDL1Qz8Zv"
      }
    },
    {
      "cell_type": "markdown",
      "source": [
        "###2. Write a Python program for removing i-th character from a string?"
      ],
      "metadata": {
        "id": "5GWVmXtv0CcM"
      }
    },
    {
      "cell_type": "markdown",
      "source": [
        "###Ans."
      ],
      "metadata": {
        "id": "LSf_4ocT0EM9"
      }
    },
    {
      "cell_type": "code",
      "source": [
        "s = \"Python\"\n",
        "i = 4\n",
        "def remove_char(s, i):\n",
        "    a = s[ : i]\n",
        "    b = s[i+1: ]\n",
        "    return a+b\n",
        "print(remove_char(s,i-1))"
      ],
      "metadata": {
        "colab": {
          "base_uri": "https://localhost:8080/"
        },
        "id": "BKhEjLfb0Ffn",
        "outputId": "ebeacafa-210d-4b99-f3c7-f4ee8c6aa9a4"
      },
      "execution_count": 2,
      "outputs": [
        {
          "output_type": "stream",
          "name": "stdout",
          "text": [
            "Pyton\n"
          ]
        }
      ]
    },
    {
      "cell_type": "markdown",
      "source": [
        "\n",
        "\n",
        "---\n",
        "\n"
      ],
      "metadata": {
        "id": "8-eAxBSP0SVE"
      }
    },
    {
      "cell_type": "markdown",
      "source": [
        "###Q3. Write a Python program to split and join a string?"
      ],
      "metadata": {
        "id": "VUX-JmE00Tf-"
      }
    },
    {
      "cell_type": "markdown",
      "source": [
        "###Ans."
      ],
      "metadata": {
        "id": "4mudZtwB06Rk"
      }
    },
    {
      "cell_type": "code",
      "source": [
        "def splitJoinString():\n",
        "    in_string = input('Enter the string: ')\n",
        "    print(f\"Split String: {in_string.split(' ')}\")\n",
        "    print(f\"Join String: {' '.join(in_string.split(' '))}\")\n",
        "\n",
        "splitJoinString()"
      ],
      "metadata": {
        "colab": {
          "base_uri": "https://localhost:8080/"
        },
        "id": "hjsU4hN407s9",
        "outputId": "27690b08-6cbd-4935-91b1-f708b0f8abef"
      },
      "execution_count": 3,
      "outputs": [
        {
          "output_type": "stream",
          "name": "stdout",
          "text": [
            "Enter the string:  Python is a high level interpreted general purpose programming language\n",
            "Split String: ['', 'Python', 'is', 'a', 'high', 'level', 'interpreted', 'general', 'purpose', 'programming', 'language']\n",
            "Join String:  Python is a high level interpreted general purpose programming language\n"
          ]
        }
      ]
    },
    {
      "cell_type": "markdown",
      "source": [
        "\n",
        "\n",
        "---\n",
        "\n"
      ],
      "metadata": {
        "id": "wWk2C4251DiN"
      }
    },
    {
      "cell_type": "markdown",
      "source": [
        "###Q4. Write a Python to check if a given string is binary string or not?"
      ],
      "metadata": {
        "id": "Hj-igRrW1E7A"
      }
    },
    {
      "cell_type": "markdown",
      "source": [
        "###Ans."
      ],
      "metadata": {
        "id": "QufKRFEx1H29"
      }
    },
    {
      "cell_type": "code",
      "source": [
        "def checkbinary(string):\n",
        "    b = set(string)\n",
        "    s = {'0','1'}\n",
        "    if s == b or b == {'0'} or b == {'1'}:\n",
        "        print(\"Binary String\")\n",
        "    else:\n",
        "        print(\"Non Binary String\")\n",
        "\n",
        "s1 = \"00100110\"\n",
        "checkbinary(s1)\n",
        "s2 = \"001020012\"\n",
        "checkbinary(s2)"
      ],
      "metadata": {
        "colab": {
          "base_uri": "https://localhost:8080/"
        },
        "id": "uHASp9Nz1MBJ",
        "outputId": "75bb99b4-ebd8-40d3-869f-ea058496faae"
      },
      "execution_count": 4,
      "outputs": [
        {
          "output_type": "stream",
          "name": "stdout",
          "text": [
            "Binary String\n",
            "Non Binary String\n"
          ]
        }
      ]
    },
    {
      "cell_type": "markdown",
      "source": [
        "\n",
        "\n",
        "---\n",
        "\n"
      ],
      "metadata": {
        "id": "D_JbNsZf1QQD"
      }
    },
    {
      "cell_type": "markdown",
      "source": [
        "###Q5. Write a Python program to find uncommon words from two Strings?"
      ],
      "metadata": {
        "id": "9Y6yuxoz1RKI"
      }
    },
    {
      "cell_type": "markdown",
      "source": [
        "###Ans."
      ],
      "metadata": {
        "id": "r52qe2iX1TyI"
      }
    },
    {
      "cell_type": "code",
      "source": [
        "def uncommon(s1,s2):\n",
        "  s1=s1.split()\n",
        "  s2=s2.split()\n",
        "  k=set(s1).symmetric_difference(set(s2))\n",
        "  return k\n",
        "\n",
        "a = \"ineuron data science\"\n",
        "b = \"data science jobs\"\n",
        "print(list(uncommon(a,b)))"
      ],
      "metadata": {
        "colab": {
          "base_uri": "https://localhost:8080/"
        },
        "id": "uL631jEY1VUA",
        "outputId": "80d44016-6f5e-4e36-d92c-e2471720dd82"
      },
      "execution_count": 5,
      "outputs": [
        {
          "output_type": "stream",
          "name": "stdout",
          "text": [
            "['jobs', 'ineuron']\n"
          ]
        }
      ]
    },
    {
      "cell_type": "markdown",
      "source": [
        "\n",
        "\n",
        "---\n",
        "\n"
      ],
      "metadata": {
        "id": "v_PBdSPM1ac7"
      }
    },
    {
      "cell_type": "markdown",
      "source": [
        "###Q6. Write a Python to find all duplicate characters in string?"
      ],
      "metadata": {
        "id": "Pz_KtVmF1a-j"
      }
    },
    {
      "cell_type": "markdown",
      "source": [
        "###Ans.\n"
      ],
      "metadata": {
        "id": "BEhsY4Ki1eAz"
      }
    },
    {
      "cell_type": "code",
      "source": [
        "from collections import Counter\n",
        "def find_dup_char(input):\n",
        "    WC = Counter(input)\n",
        "    for letters, count in WC.items():\n",
        "        if (count>1):\n",
        "            print(letters)\n",
        "if __name__ == \"__main__\":\n",
        "    input = \"svajauvavcay\"\n",
        "    find_dup_char(input)"
      ],
      "metadata": {
        "colab": {
          "base_uri": "https://localhost:8080/"
        },
        "id": "PW5EruW21fh9",
        "outputId": "b18d13d9-3dc2-4374-88fe-cd2a1d8f408e"
      },
      "execution_count": 6,
      "outputs": [
        {
          "output_type": "stream",
          "name": "stdout",
          "text": [
            "v\n",
            "a\n"
          ]
        }
      ]
    },
    {
      "cell_type": "markdown",
      "source": [
        "\n",
        "\n",
        "---\n",
        "\n"
      ],
      "metadata": {
        "id": "8JYZMH6s1mGG"
      }
    },
    {
      "cell_type": "markdown",
      "source": [
        "###Q7. Write a Python Program to check if a string contains any special character?"
      ],
      "metadata": {
        "id": "w9YweeN51mxW"
      }
    },
    {
      "cell_type": "markdown",
      "source": [
        "###Ans."
      ],
      "metadata": {
        "id": "AYcrZTuq1qO-"
      }
    },
    {
      "cell_type": "code",
      "source": [
        "import re\n",
        "string = 'Hell0!! I am Prerit.'\n",
        "spl_chars =re.compile('[@_!#$%^&*()<>?/\\|}{~:]')\n",
        "if (spl_chars.search(string) == None):\n",
        "    print('String does not contain any special characters.')\n",
        "else:\n",
        "    print('String contains special characters.')"
      ],
      "metadata": {
        "colab": {
          "base_uri": "https://localhost:8080/"
        },
        "id": "TtgSs84o1rie",
        "outputId": "df61f1f4-9d72-4cd5-db97-869d4c0722b0"
      },
      "execution_count": 7,
      "outputs": [
        {
          "output_type": "stream",
          "name": "stdout",
          "text": [
            "String contains special characters.\n"
          ]
        }
      ]
    },
    {
      "cell_type": "markdown",
      "source": [
        "\n",
        "\n",
        "----------------------------------------------------------------------------------------------------------End------------------------------------------------------------\n",
        "\n"
      ],
      "metadata": {
        "id": "dFcPooVZ1y4_"
      }
    }
  ]
}