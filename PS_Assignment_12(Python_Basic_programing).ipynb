{
  "nbformat": 4,
  "nbformat_minor": 0,
  "metadata": {
    "colab": {
      "provenance": []
    },
    "kernelspec": {
      "name": "python3",
      "display_name": "Python 3"
    },
    "language_info": {
      "name": "python"
    }
  },
  "cells": [
    {
      "cell_type": "markdown",
      "source": [
        "### Python (Basic programing) Assignment No. 12\n",
        "1 Batch - Full Stack Data Science Bootcamp 2.0\n",
        "\n",
        "2 Name - **Prerit Sharma**\n",
        "\n",
        "3 Email ID - **praritsharma7@gmail.com**"
      ],
      "metadata": {
        "id": "92GgDMmz27Ct"
      }
    },
    {
      "cell_type": "markdown",
      "source": [
        "\n",
        "\n",
        "---\n",
        "\n"
      ],
      "metadata": {
        "id": "0VJUyt962-13"
      }
    },
    {
      "cell_type": "markdown",
      "source": [
        "###Q1. Write a Python program to Extract Unique values dictionary values?"
      ],
      "metadata": {
        "id": "ei8QzUAc3BFf"
      }
    },
    {
      "cell_type": "markdown",
      "source": [
        "###Ans."
      ],
      "metadata": {
        "id": "KVxhSAJG3Npr"
      }
    },
    {
      "cell_type": "code",
      "source": [
        "from itertools import chain\n",
        "d = {'A' : [1, 3, 5, 4], 'B' : [4, 6, 8, 10], 'C' : [6, 12, 4 ,8], 'D' : [5, 7, 2]}\n",
        "print(\"The original dictionary is:\", d)\n",
        "res = list(sorted(set(chain(*d.values()))))\n",
        "print(\"The unique values list is:\" ,res)"
      ],
      "metadata": {
        "colab": {
          "base_uri": "https://localhost:8080/"
        },
        "id": "cUaZB0yJ2_Sx",
        "outputId": "65188a2d-2871-43b2-a64a-7f28a96739b8"
      },
      "execution_count": 1,
      "outputs": [
        {
          "output_type": "stream",
          "name": "stdout",
          "text": [
            "The original dictionary is: {'A': [1, 3, 5, 4], 'B': [4, 6, 8, 10], 'C': [6, 12, 4, 8], 'D': [5, 7, 2]}\n",
            "The unique values list is: [1, 2, 3, 4, 5, 6, 7, 8, 10, 12]\n"
          ]
        }
      ]
    },
    {
      "cell_type": "markdown",
      "source": [
        "\n",
        "\n",
        "---\n",
        "\n"
      ],
      "metadata": {
        "id": "H1X1ICdy3nvu"
      }
    },
    {
      "cell_type": "markdown",
      "source": [
        "###Q2. Write a Python program to find the sum of all items in a dictionary?"
      ],
      "metadata": {
        "id": "MUbfrjC03cXX"
      }
    },
    {
      "cell_type": "markdown",
      "source": [
        "###Ans."
      ],
      "metadata": {
        "id": "Gcwu5GzM3i41"
      }
    },
    {
      "cell_type": "code",
      "source": [
        "d = {'A' : 26, 'B' : 78, 'C' : 13, 'D' : 90}\n",
        "print('Sum of all items:',sum(d.values()))"
      ],
      "metadata": {
        "colab": {
          "base_uri": "https://localhost:8080/"
        },
        "id": "YcKoTWbF3iOu",
        "outputId": "046d0f1b-b4ec-4a09-dafd-bd1b6d9ff70a"
      },
      "execution_count": 2,
      "outputs": [
        {
          "output_type": "stream",
          "name": "stdout",
          "text": [
            "Sum of all items: 207\n"
          ]
        }
      ]
    },
    {
      "cell_type": "markdown",
      "source": [
        "\n",
        "\n",
        "---\n",
        "\n"
      ],
      "metadata": {
        "id": "27imSFmr3o7O"
      }
    },
    {
      "cell_type": "markdown",
      "source": [
        "###Q3. Write a Python program to Merging two Dictionaries?"
      ],
      "metadata": {
        "id": "PdrUmjt_3peG"
      }
    },
    {
      "cell_type": "markdown",
      "source": [
        "###Ans."
      ],
      "metadata": {
        "id": "gHPRCbxp3srK"
      }
    },
    {
      "cell_type": "code",
      "source": [
        "dict_1 = {1: 'a', 2: 'b'}\n",
        "dict_2 = {3: 'c', 4: 'd'}\n",
        "print(dict_1 | dict_2)"
      ],
      "metadata": {
        "colab": {
          "base_uri": "https://localhost:8080/"
        },
        "id": "D8QG2bBj3vB5",
        "outputId": "695e0725-42db-4c8b-dabc-7e0f931dfdf1"
      },
      "execution_count": 3,
      "outputs": [
        {
          "output_type": "stream",
          "name": "stdout",
          "text": [
            "{1: 'a', 2: 'b', 3: 'c', 4: 'd'}\n"
          ]
        }
      ]
    },
    {
      "cell_type": "markdown",
      "source": [
        "------------------------"
      ],
      "metadata": {
        "id": "84kQMekG3y2R"
      }
    },
    {
      "cell_type": "markdown",
      "source": [
        "###Q4. Write a Python program to convert key-values list to flat dictionary?"
      ],
      "metadata": {
        "id": "yb7LOLNh30YA"
      }
    },
    {
      "cell_type": "markdown",
      "source": [
        "###Ans."
      ],
      "metadata": {
        "id": "txRdjodL36iE"
      }
    },
    {
      "cell_type": "code",
      "source": [
        "l = [('A',26), ('B',78), ('C',13), ('D',90)]\n",
        "dict(l)"
      ],
      "metadata": {
        "colab": {
          "base_uri": "https://localhost:8080/"
        },
        "id": "h8clZRgK3777",
        "outputId": "815f6a91-42ef-4e4e-a933-3e8de5347b78"
      },
      "execution_count": 4,
      "outputs": [
        {
          "output_type": "execute_result",
          "data": {
            "text/plain": [
              "{'A': 26, 'B': 78, 'C': 13, 'D': 90}"
            ]
          },
          "metadata": {},
          "execution_count": 4
        }
      ]
    },
    {
      "cell_type": "markdown",
      "source": [
        "\n",
        "\n",
        "---\n",
        "\n"
      ],
      "metadata": {
        "id": "0eTKmlUz3-kV"
      }
    },
    {
      "cell_type": "markdown",
      "source": [
        "###Q5. Write a Python program to insertion at the beginning in OrderedDict?"
      ],
      "metadata": {
        "id": "V-C57Dq43_Jc"
      }
    },
    {
      "cell_type": "markdown",
      "source": [
        "###Ans."
      ],
      "metadata": {
        "id": "GHkF7AAV4Cmj"
      }
    },
    {
      "cell_type": "code",
      "source": [
        "from collections import OrderedDict\n",
        "dict_1 = OrderedDict([('A',26), ('B',78), ('C',13)])\n",
        "insrt = OrderedDict([('D',90)])\n",
        "final = OrderedDict(list(insrt.items()) + list(dict_1.items()))\n",
        "\n",
        "print(\"Resultant Dictionary:\", final)"
      ],
      "metadata": {
        "colab": {
          "base_uri": "https://localhost:8080/"
        },
        "id": "hO4z_ZU94EED",
        "outputId": "d9194c55-9ad7-4969-8e0d-1b4dcea895ec"
      },
      "execution_count": 5,
      "outputs": [
        {
          "output_type": "stream",
          "name": "stdout",
          "text": [
            "Resultant Dictionary: OrderedDict([('D', 90), ('A', 26), ('B', 78), ('C', 13)])\n"
          ]
        }
      ]
    },
    {
      "cell_type": "markdown",
      "source": [
        "\n",
        "\n",
        "---\n",
        "\n"
      ],
      "metadata": {
        "id": "TMlf3Txd4IJY"
      }
    },
    {
      "cell_type": "markdown",
      "source": [
        "###Q6. Write a Python program to check order of character in string using OrderedDict()?"
      ],
      "metadata": {
        "id": "1wZYSFUq4I2w"
      }
    },
    {
      "cell_type": "markdown",
      "source": [
        "###Ans."
      ],
      "metadata": {
        "id": "wmngE1a44JP6"
      }
    },
    {
      "cell_type": "code",
      "source": [
        "from collections import OrderedDict\n",
        "\n",
        "initial_list = {'a': 1000, 'f': 200, 'd': 300, 'c': 400, 'b': 500, 'e': 600}\n",
        "print(initial_list)\n",
        "\n",
        "final_list = OrderedDict(dict(sorted(initial_list.items())))\n",
        "print(final_list)"
      ],
      "metadata": {
        "colab": {
          "base_uri": "https://localhost:8080/"
        },
        "id": "hC8ZJrN54UrB",
        "outputId": "c4d38bd1-c3bf-4d39-c6ac-16b05ecd4231"
      },
      "execution_count": 7,
      "outputs": [
        {
          "output_type": "stream",
          "name": "stdout",
          "text": [
            "{'a': 1000, 'f': 200, 'd': 300, 'c': 400, 'b': 500, 'e': 600}\n",
            "OrderedDict([('a', 1000), ('b', 500), ('c', 400), ('d', 300), ('e', 600), ('f', 200)])\n"
          ]
        }
      ]
    },
    {
      "cell_type": "markdown",
      "source": [
        "\n",
        "\n",
        "---\n",
        "\n"
      ],
      "metadata": {
        "id": "EAyntxfk4Xv0"
      }
    },
    {
      "cell_type": "markdown",
      "source": [
        "###Q7. Write a Python program to sort Python Dictionaries by Key or Value?"
      ],
      "metadata": {
        "id": "efoN9L1G4cTt"
      }
    },
    {
      "cell_type": "markdown",
      "source": [
        "###Ans."
      ],
      "metadata": {
        "id": "quGDt3w54fhE"
      }
    },
    {
      "cell_type": "code",
      "source": [
        "m = {1:11,3:22,2:33,4:55,6:44,5:66}\n",
        "print(f\"Dictionary : {sorted(m.items())}\")\n",
        "print(f\"Sort by Key : {sorted(m.keys())}\")\n",
        "print(f\"Sort by Value : {sorted(m.values())}\")"
      ],
      "metadata": {
        "colab": {
          "base_uri": "https://localhost:8080/"
        },
        "id": "wjqsj6uj4gps",
        "outputId": "bc3c39f5-746b-446d-87d9-7457214cc419"
      },
      "execution_count": 8,
      "outputs": [
        {
          "output_type": "stream",
          "name": "stdout",
          "text": [
            "Dictionary : [(1, 11), (2, 33), (3, 22), (4, 55), (5, 66), (6, 44)]\n",
            "Sort by Key : [1, 2, 3, 4, 5, 6]\n",
            "Sort by Value : [11, 22, 33, 44, 55, 66]\n"
          ]
        }
      ]
    },
    {
      "cell_type": "markdown",
      "source": [
        "\n",
        "\n",
        "------------------------------------------------------------------------------------------End---------------------------------------------------------------------------------------------\n",
        "\n"
      ],
      "metadata": {
        "id": "e7NFZkwo5cYd"
      }
    }
  ]
}