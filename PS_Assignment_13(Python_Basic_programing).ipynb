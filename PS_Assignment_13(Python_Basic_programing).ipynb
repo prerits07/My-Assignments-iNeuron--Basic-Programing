{
  "nbformat": 4,
  "nbformat_minor": 0,
  "metadata": {
    "colab": {
      "provenance": []
    },
    "kernelspec": {
      "name": "python3",
      "display_name": "Python 3"
    },
    "language_info": {
      "name": "python"
    }
  },
  "cells": [
    {
      "cell_type": "markdown",
      "source": [
        "### Python (Basic programing) Assignment No. 13\n",
        "1 Batch - Full Stack Data Science Bootcamp 2.0\n",
        "\n",
        "2 Name - **Prerit Sharma**\n",
        "\n",
        "3 Email ID - **praritsharma7@gmail.com**"
      ],
      "metadata": {
        "id": "fNS6qQpX6NZ6"
      }
    },
    {
      "cell_type": "markdown",
      "source": [
        "###Q1 Write a program that calculates and prints the value according to the given formula:\n",
        "Q = Square root of [(2 * C * D)/H]\n",
        "Following are the fixed values of C and H:\n",
        "C is 50. H is 30.\n",
        "D is the variable whose values should be input to your program in a comma-separated\n",
        "sequence.\n",
        "Example\n",
        "Let us assume the following comma separated input sequence is given to the program:\n",
        "100,150,180\n",
        "The output of the program should be:\n",
        "18,22,24"
      ],
      "metadata": {
        "id": "8oPgL2u957H2"
      }
    },
    {
      "cell_type": "markdown",
      "source": [
        "###Ans."
      ],
      "metadata": {
        "id": "5z8UNmQ_6Lrz"
      }
    },
    {
      "cell_type": "code",
      "source": [
        "from math import sqrt\n",
        "def calculate():\n",
        "    number = eval(input('Enter the Input:'))\n",
        "    result_list = []\n",
        "    C = 50\n",
        "    H = 30\n",
        "    for ele in number:\n",
        "        Q = str(int(sqrt(2*C*ele/H)))\n",
        "        result_list.append(Q)\n",
        "    print(\"Output: {}\".format(','.join(result_list)))\n",
        "\n",
        "calculate()"
      ],
      "metadata": {
        "colab": {
          "base_uri": "https://localhost:8080/"
        },
        "id": "pBEHw8HJ6ZN5",
        "outputId": "f090a1c0-d369-45e6-de39-7493b483038b"
      },
      "execution_count": 4,
      "outputs": [
        {
          "output_type": "stream",
          "name": "stdout",
          "text": [
            "Enter the Input:50,90,89\n",
            "Output: 12,17,17\n"
          ]
        }
      ]
    },
    {
      "cell_type": "markdown",
      "source": [
        "\n",
        "\n",
        "---\n",
        "\n"
      ],
      "metadata": {
        "id": "_7eQYdbm6Yq3"
      }
    },
    {
      "cell_type": "markdown",
      "source": [
        "###Q2Write a program which takes 2 digits, X,Y as input and generates a 2-dimensional array. The element value in the i-th row and j-th column of the array should be i*j.\n",
        "Note: i=0,1.., X-1; j=0,1,¡Y-1.\n",
        "Example\n",
        "Suppose the following inputs are given to the program:\n",
        "3,5\n",
        "Then, the output of the program should be:\n",
        "[[0, 0, 0, 0, 0], [0, 1, 2, 3, 4], [0, 2, 4, 6, 8]]"
      ],
      "metadata": {
        "id": "xdFmoca7AuVd"
      }
    },
    {
      "cell_type": "markdown",
      "source": [
        "###Ans."
      ],
      "metadata": {
        "id": "LUDYuc7vAyWa"
      }
    },
    {
      "cell_type": "code",
      "source": [
        "\n",
        "def array_generation():\n",
        "  inp1 = int(input(\"Enter no. of Rows : \"))\n",
        "  inp2 = int(input(\"Enter no. of Coloumns : \"))\n",
        "  output_array = []\n",
        "\n",
        "  for i in range(inp1):\n",
        "    output_array.insert(inp1,[])\n",
        "    for j in range(inp2):\n",
        "      output_array[i].append(i*j)\n",
        "  print(output_array)\n",
        "\n",
        "array_generation()"
      ],
      "metadata": {
        "colab": {
          "base_uri": "https://localhost:8080/"
        },
        "id": "eVqBK0b2A6DT",
        "outputId": "64ac9103-5819-4fc4-c0a8-a4fd643652d4"
      },
      "execution_count": 5,
      "outputs": [
        {
          "output_type": "stream",
          "name": "stdout",
          "text": [
            "Enter no. of Rows : 3\n",
            "Enter no. of Coloumns : 2\n",
            "[[0, 0], [0, 1], [0, 2]]\n"
          ]
        }
      ]
    },
    {
      "cell_type": "markdown",
      "source": [
        "\n",
        "\n",
        "---\n",
        "\n"
      ],
      "metadata": {
        "id": "5kNu7BAHA5Rj"
      }
    },
    {
      "cell_type": "markdown",
      "source": [
        "###Q3 Write a program that accepts a comma separated sequence of words as input and prints thewords in a comma-separated sequence after sorting them alphabetically.\n",
        "Suppose the following input is supplied to the program:\n",
        "without,hello,bag,world\n",
        "Then, the output should be:\n",
        "bag,hello,without,world"
      ],
      "metadata": {
        "id": "DQJRVh1WBFnx"
      }
    },
    {
      "cell_type": "markdown",
      "source": [
        "###Ans.\n"
      ],
      "metadata": {
        "id": "MUWoyF8IBMqZ"
      }
    },
    {
      "cell_type": "code",
      "source": [
        "def sortString():\n",
        "    in_string = input(\"Enter the Input String:\")\n",
        "    out_string = ','.join(sorted(in_string.split(',')))\n",
        "    print(f'Output:{out_string}')\n",
        "\n",
        "sortString()"
      ],
      "metadata": {
        "colab": {
          "base_uri": "https://localhost:8080/"
        },
        "id": "34olMKPPBOQ4",
        "outputId": "c678312a-5834-4947-9287-1300377d5f9a"
      },
      "execution_count": 7,
      "outputs": [
        {
          "output_type": "stream",
          "name": "stdout",
          "text": [
            "Enter the Input String:without,hello,bag,world\n",
            "Output:bag,hello,without,world\n"
          ]
        }
      ]
    },
    {
      "cell_type": "markdown",
      "source": [
        "\n",
        "\n",
        "---\n",
        "\n"
      ],
      "metadata": {
        "id": "N8U_6EYJBR6v"
      }
    },
    {
      "cell_type": "markdown",
      "source": [
        "###Q4 Write a program that accepts a sequence of whitespace separated words as input and printsthe words after removing all duplicate words and sorting them alphanumerically.\n",
        "Suppose the following input is supplied to the program:\n",
        "hello world and practice makes perfect and hello world again\n",
        "Then, the output should be:\n",
        "again and hello makes perfect practice world"
      ],
      "metadata": {
        "id": "pGSxx2U3BSz3"
      }
    },
    {
      "cell_type": "markdown",
      "source": [
        "###Ans."
      ],
      "metadata": {
        "id": "Pm5S73A1BdtN"
      }
    },
    {
      "cell_type": "code",
      "source": [
        "phrase = input(\"Type in:\")\n",
        "phrase_splited = phrase.split(' ')\n",
        "\n",
        "word_list = []\n",
        "for i in phrase_splited:\n",
        "    if i not in word_list:\n",
        "        word_list.append(i)\n",
        "    else:\n",
        "        continue\n",
        "word_list.sort()\n",
        "print(\"Output:\",(' '.join(word_list)))"
      ],
      "metadata": {
        "colab": {
          "base_uri": "https://localhost:8080/"
        },
        "id": "OnZORS2DBnq1",
        "outputId": "ba631dbd-0d4b-4000-c9c6-5c3abc0145cd"
      },
      "execution_count": 8,
      "outputs": [
        {
          "output_type": "stream",
          "name": "stdout",
          "text": [
            "Type in: hello world and practice makes perfect and hello world again\n",
            "Output:  again and hello makes perfect practice world\n"
          ]
        }
      ]
    },
    {
      "cell_type": "markdown",
      "source": [
        "\n",
        "\n",
        "---\n",
        "\n"
      ],
      "metadata": {
        "id": "kR1cBgAKBrI1"
      }
    },
    {
      "cell_type": "markdown",
      "source": [
        "###Q5 Write a program that accepts a sentence and calculate the number of letters and digits.\n",
        "Suppose the following input is supplied to the program:\n",
        "hello world! 123\n",
        "Then, the output should be:\n",
        "LETTERS 10\n",
        "\n",
        "DIGITS 3"
      ],
      "metadata": {
        "id": "1o-VUk0bBvwT"
      }
    },
    {
      "cell_type": "markdown",
      "source": [
        "###Ans."
      ],
      "metadata": {
        "id": "qFcnoz8_B2ia"
      }
    },
    {
      "cell_type": "code",
      "source": [
        "phrase = input(\"Type in:\")\n",
        "phrase = list(phrase)\n",
        "\n",
        "l = 0\n",
        "d = 0\n",
        "for i in phrase:\n",
        "    if i.isalpha():\n",
        "        l = l+1\n",
        "    if i.isdigit():\n",
        "        d = d+1\n",
        "    else:\n",
        "        pass\n",
        "print(\"Letters:\",l)\n",
        "print(\"Digits:\",d)"
      ],
      "metadata": {
        "colab": {
          "base_uri": "https://localhost:8080/"
        },
        "id": "63bMn9LfB3zL",
        "outputId": "735b88eb-ea62-4480-f8ab-811e3e255e25"
      },
      "execution_count": 9,
      "outputs": [
        {
          "output_type": "stream",
          "name": "stdout",
          "text": [
            "Type in:hello world! 123\n",
            "Letters: 10\n",
            "Digits: 3\n"
          ]
        }
      ]
    },
    {
      "cell_type": "markdown",
      "source": [
        "\n",
        "\n",
        "---\n",
        "\n"
      ],
      "metadata": {
        "id": "C0Tudx2QCAYq"
      }
    },
    {
      "cell_type": "markdown",
      "source": [
        "###Q6 A website requires the users to input username and password to register. Write a program to\n",
        "check the validity of password input by users.\n",
        "Following are the criteria for checking the password:\n",
        "1. At least 1 letter between [a-z]\n",
        "2. At least 1 number between [0-9]\n",
        "1. At least 1 letter between [A-Z]\n",
        "3. At least 1 character from [$#@]\n",
        "4. Minimum length of transaction password: 6\n",
        "5. Maximum length of transaction password: 12\n",
        "Your program should accept a sequence of comma separated passwords and will check them\n",
        "according to the above criteria. Passwords that match the criteria are to be printed, each\n",
        "separated by a comma.\n",
        "Example\n",
        "If the following passwords are given as input to the program:\n",
        "ABd1234@1,a F1#,2w3E*,2We3345\n",
        "Then, the output of the program should be:\n",
        "ABd1234@1"
      ],
      "metadata": {
        "id": "eKR5OZERCBg5"
      }
    },
    {
      "cell_type": "markdown",
      "source": [
        "###Ans."
      ],
      "metadata": {
        "id": "Hx1mHe3VCHnx"
      }
    },
    {
      "cell_type": "code",
      "source": [
        "import re\n",
        "\n",
        "password = input(\"Type in:\")\n",
        "password = password.split(\",\")\n",
        "\n",
        "Accepted_pass = []\n",
        "for i in password:\n",
        "    if len(i)<6 or len(i)>12:\n",
        "        continue\n",
        "    elif not re.search(\"([a-z])+\", i):\n",
        "        continue\n",
        "    elif not re.search(\"([A-Z])+\",i):\n",
        "        continue\n",
        "    elif not re.search(\"([0-9])+\",i):\n",
        "        continue\n",
        "    elif not re.search(\"([!@$#%&])+\",i):\n",
        "        continue\n",
        "    else:\n",
        "        Accepted_pass.append(i)\n",
        "\n",
        "print((\" \").join(Accepted_pass))"
      ],
      "metadata": {
        "colab": {
          "base_uri": "https://localhost:8080/"
        },
        "id": "pgMBtnuNCLRv",
        "outputId": "ac2aacdd-30eb-4ba4-913e-9e5a6ee38138"
      },
      "execution_count": 10,
      "outputs": [
        {
          "output_type": "stream",
          "name": "stdout",
          "text": [
            "Type in:ABd1234@1,a F1#,2w3E*,2We3345\n",
            "ABd1234@1\n"
          ]
        }
      ]
    },
    {
      "cell_type": "markdown",
      "source": [
        "\n",
        "\n",
        "-----------------------------------------------------------------------------------------End---------------------------------------------------------------------------\n",
        "\n"
      ],
      "metadata": {
        "id": "ixAC_bPDCMSf"
      }
    }
  ]
}