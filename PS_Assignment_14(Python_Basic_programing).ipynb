{
  "nbformat": 4,
  "nbformat_minor": 0,
  "metadata": {
    "colab": {
      "provenance": []
    },
    "kernelspec": {
      "name": "python3",
      "display_name": "Python 3"
    },
    "language_info": {
      "name": "python"
    }
  },
  "cells": [
    {
      "cell_type": "markdown",
      "source": [
        "\n",
        "### Python (Basic programing) Assignment No. 14\n",
        "1 Batch - Full Stack Data Science Bootcamp 2.0\n",
        "\n",
        "2 Name - **Prerit Sharma**\n",
        "\n",
        "3 Email ID - **praritsharma7@gmail.com**"
      ],
      "metadata": {
        "id": "M0yQpUTh6xL3"
      }
    },
    {
      "cell_type": "markdown",
      "source": [
        "\n",
        "\n",
        "---\n",
        "\n"
      ],
      "metadata": {
        "id": "6KGcOWC767kr"
      }
    },
    {
      "cell_type": "markdown",
      "source": [
        "###Q1 Define a class with a generator which can iterate the numbers, which are divisible by 7, between a given range 0 and n."
      ],
      "metadata": {
        "id": "Xt77E1kf68Zk"
      }
    },
    {
      "cell_type": "markdown",
      "source": [
        "###Ans."
      ],
      "metadata": {
        "id": "zbCFWh287DdQ"
      }
    },
    {
      "cell_type": "code",
      "source": [
        "class div_gen:\n",
        "  def __init__(self,in_num):\n",
        "    self.in_num = in_num\n",
        "  def get_numbers(self):\n",
        "    for i in range(0,self.in_num+1):\n",
        "        if i%7 == 0:\n",
        "            yield i\n",
        "output = div_gen(200)\n",
        "for i in output.get_numbers():\n",
        "    print(i,end=' ')\n"
      ],
      "metadata": {
        "colab": {
          "base_uri": "https://localhost:8080/"
        },
        "id": "9zjLaXux7FJZ",
        "outputId": "d900fc7f-bbab-4bb8-ed15-1422bab7779f"
      },
      "execution_count": null,
      "outputs": [
        {
          "output_type": "stream",
          "name": "stdout",
          "text": [
            "0 7 14 21 28 35 42 49 56 63 70 77 84 91 98 105 112 119 126 133 140 147 154 161 168 175 182 189 196 "
          ]
        }
      ]
    },
    {
      "cell_type": "markdown",
      "source": [
        "\n",
        "\n",
        "---\n",
        "\n"
      ],
      "metadata": {
        "id": "D4NCfw5K8er0"
      }
    },
    {
      "cell_type": "markdown",
      "source": [
        "###Q2 Write a program to compute the frequency of the words from the input. The output\n",
        "should output after sorting the key alphanumerically.\n",
        "Suppose the following input is supplied to the program:\n",
        "New to Python or choosing between Python 2 and Python 3? Read Python 2 or\n",
        "Python 3.\n",
        "Then, the output should be:\n",
        "\n",
        "2:2\n",
        "\n",
        "\n",
        "3.:1\n",
        "\n",
        "3?:1\n",
        "\n",
        "New:1\n",
        "\n",
        "Python:5\n",
        "\n",
        "Read:1\n",
        "\n",
        "and:1\n",
        "\n",
        "between:1\n",
        "\n",
        "choosing:1\n",
        "\n",
        "or:2\n",
        "\n",
        "to:1"
      ],
      "metadata": {
        "id": "bKW5mPyA854X"
      }
    },
    {
      "cell_type": "markdown",
      "source": [
        "###Ans."
      ],
      "metadata": {
        "id": "EuCLUNxR9NF6"
      }
    },
    {
      "cell_type": "code",
      "source": [
        "def check_frequency():\n",
        "    in_string = input(\"Enter the Input String: \")\n",
        "    frequency = {}\n",
        "    for i in in_string.split(\" \"):\n",
        "        if(frequency.get(i) == None):\n",
        "            frequency[i] = 1\n",
        "        else:\n",
        "            frequency[i]+=1\n",
        "    for i in sorted(frequency):\n",
        "        print(f'{i}:{frequency[i]}',end = ' ')\n",
        "check_frequency()"
      ],
      "metadata": {
        "colab": {
          "base_uri": "https://localhost:8080/"
        },
        "id": "tbwn3zIp9Pye",
        "outputId": "0f30185f-50ab-4962-ba0d-a12628e82389"
      },
      "execution_count": null,
      "outputs": [
        {
          "output_type": "stream",
          "name": "stdout",
          "text": [
            "Enter the Input String: New to Python or choosing between Python 2 and Python 3? Read Python 2 or Python 3.\n",
            "2:2 3.:1 3?:1 New:1 Python:5 Read:1 and:1 between:1 choosing:1 or:2 to:1 "
          ]
        }
      ]
    },
    {
      "cell_type": "markdown",
      "source": [
        "\n",
        "\n",
        "---\n",
        "\n"
      ],
      "metadata": {
        "id": "T2bTqu2U_YQN"
      }
    },
    {
      "cell_type": "markdown",
      "source": [
        "###Q3 Define a class Person and its two child classes: Male and Female. All classes have amethod &quot;getGender&quot; which can print &quot;Male&quot; for Male class and &quot;Female&quot; for Female class."
      ],
      "metadata": {
        "id": "Ygg5FN2F_Zkl"
      }
    },
    {
      "cell_type": "markdown",
      "source": [
        "###Ans."
      ],
      "metadata": {
        "id": "F83Pjjfr_i6w"
      }
    },
    {
      "cell_type": "code",
      "source": [
        "class Person():\n",
        "    def getGender():\n",
        "        pass\n",
        "class Male(Person):\n",
        "    def getGender():\n",
        "        print(\"Male\")\n",
        "class Female(Person):\n",
        "    def getGender():\n",
        "        print(\"Female\")\n",
        "\n",
        "Male.getGender()\n",
        "Female.getGender()\n"
      ],
      "metadata": {
        "colab": {
          "base_uri": "https://localhost:8080/"
        },
        "id": "OdF6WDJd_lFn",
        "outputId": "6e44be85-85bc-4383-c5dd-243607a1b89d"
      },
      "execution_count": null,
      "outputs": [
        {
          "output_type": "stream",
          "name": "stdout",
          "text": [
            "Male\n",
            "Female\n"
          ]
        }
      ]
    },
    {
      "cell_type": "markdown",
      "source": [
        "\n",
        "\n",
        "---\n",
        "\n"
      ],
      "metadata": {
        "id": "QJ3_ExOO_vSM"
      }
    },
    {
      "cell_type": "markdown",
      "source": [
        "###Q4 Please write a program to generate all sentences where subject is in [&quot;I&quot;, &quot;You&quot;] and verb is in [&quot;Play&quot;, &quot;Love&quot;] and the object is in [&quot;Hockey&quot;,&quot;Football&quot;]."
      ],
      "metadata": {
        "id": "mAI8K4vM_v-V"
      }
    },
    {
      "cell_type": "markdown",
      "source": [
        "###Ans."
      ],
      "metadata": {
        "id": "gaSM085X_67Y"
      }
    },
    {
      "cell_type": "code",
      "source": [
        "def generateSentences():\n",
        "    subject = ['I','You']\n",
        "    verb = ['Play','Love']\n",
        "    object = ['Hockey','Football']\n",
        "    for s in subject:\n",
        "        for v in verb:\n",
        "            for o in object:\n",
        "                print(f'{s} {v} {o}')\n",
        "\n",
        "generateSentences()"
      ],
      "metadata": {
        "colab": {
          "base_uri": "https://localhost:8080/"
        },
        "id": "Wh-y06mj--9f",
        "outputId": "96e25ccc-cb0b-4468-c3f6-acebbb8501c9"
      },
      "execution_count": null,
      "outputs": [
        {
          "output_type": "stream",
          "name": "stdout",
          "text": [
            "I Play Hockey\n",
            "I Play Football\n",
            "I Love Hockey\n",
            "I Love Football\n",
            "You Play Hockey\n",
            "You Play Football\n",
            "You Love Hockey\n",
            "You Love Football\n"
          ]
        }
      ]
    },
    {
      "cell_type": "markdown",
      "source": [
        "---\n",
        "\n"
      ],
      "metadata": {
        "id": "uTGPf8RTADwj"
      }
    },
    {
      "cell_type": "markdown",
      "source": [
        "###Q5 Please write a program to compress and decompress the string &quot;hello world!hello world!hello world!hello world!&quot;."
      ],
      "metadata": {
        "id": "r4JPxjkFAILw"
      }
    },
    {
      "cell_type": "markdown",
      "source": [
        "###Ans.\n"
      ],
      "metadata": {
        "id": "uvxiEeSKARpJ"
      }
    },
    {
      "cell_type": "code",
      "source": [
        "import gzip\n",
        "s = b'hello world!hello world!hello world!hello world!'\n",
        "s = gzip.compress(s)\n",
        "print(s)\n",
        "\n",
        "t = gzip.decompress(s)\n",
        "print(t)"
      ],
      "metadata": {
        "colab": {
          "base_uri": "https://localhost:8080/"
        },
        "id": "6vBgYh83AVVz",
        "outputId": "767f260c-f692-4745-8291-8f87f0d930e7"
      },
      "execution_count": null,
      "outputs": [
        {
          "output_type": "stream",
          "name": "stdout",
          "text": [
            "b'\\x1f\\x8b\\x08\\x00\\xa7\\x89\\x01e\\x02\\xff\\xcbH\\xcd\\xc9\\xc9W(\\xcf/\\xcaIQ\\xcc \\x82\\r\\x00\\xd3\\xe6\\xcf\\xae0\\x00\\x00\\x00'\n",
            "b'hello world!hello world!hello world!hello world!'\n"
          ]
        }
      ]
    },
    {
      "cell_type": "markdown",
      "source": [
        "----"
      ],
      "metadata": {
        "id": "c4qft5miAT2j"
      }
    },
    {
      "cell_type": "markdown",
      "source": [
        "###Q6 Please write a binary search function which searches an item in a sorted list. The function should return the index of element to be searched in the list."
      ],
      "metadata": {
        "id": "6zQ7Ox3PAe71"
      }
    },
    {
      "cell_type": "markdown",
      "source": [
        "###Ans."
      ],
      "metadata": {
        "id": "bJkPBn5GAoPE"
      }
    },
    {
      "cell_type": "code",
      "source": [
        "from bisect import bisect_left\n",
        "\n",
        "def BinarySearch(a, x):\n",
        "    i = bisect_left(a, x)\n",
        "    if i != len(a) and a[i] == x:\n",
        "        return i\n",
        "    else:\n",
        "        return -1\n",
        "\n",
        "a  = [1, 2, 4, 4, 8]\n",
        "x = int(4)\n",
        "res = BinarySearch(a, x)\n",
        "if res == -1:\n",
        "    print(x, \"is absent\")\n",
        "else:\n",
        "    print(\"First occurrence of\", x, \"is present at\", res)"
      ],
      "metadata": {
        "colab": {
          "base_uri": "https://localhost:8080/"
        },
        "id": "_ecKdX39A-ZN",
        "outputId": "dc9c336e-101e-4b00-ae7c-7152959ec189"
      },
      "execution_count": null,
      "outputs": [
        {
          "output_type": "stream",
          "name": "stdout",
          "text": [
            "First occurrence of 4 is present at 2\n"
          ]
        }
      ]
    },
    {
      "cell_type": "markdown",
      "source": [
        "-------------------------------------------------------------------------------------------End------------------------------------------------------------------------------------------------------------------------------------------------------------"
      ],
      "metadata": {
        "id": "gkO99xFOBGhN"
      }
    }
  ]
}