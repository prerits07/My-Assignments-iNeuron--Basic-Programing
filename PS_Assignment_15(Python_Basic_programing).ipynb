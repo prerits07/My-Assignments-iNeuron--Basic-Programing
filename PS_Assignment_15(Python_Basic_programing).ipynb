{
  "nbformat": 4,
  "nbformat_minor": 0,
  "metadata": {
    "colab": {
      "provenance": []
    },
    "kernelspec": {
      "name": "python3",
      "display_name": "Python 3"
    },
    "language_info": {
      "name": "python"
    }
  },
  "cells": [
    {
      "cell_type": "markdown",
      "source": [
        "\n",
        "### Python (Basic programing) Assignment No. 15\n",
        "1 Batch - Full Stack Data Science Bootcamp 2.0\n",
        "\n",
        "2 Name - **Prerit Sharma**\n",
        "\n",
        "3 Email ID - **praritsharma7@gmail.com**"
      ],
      "metadata": {
        "id": "aJfKrQWsJejL"
      }
    },
    {
      "cell_type": "markdown",
      "source": [
        "\n",
        "\n",
        "---\n",
        "\n"
      ],
      "metadata": {
        "id": "uW402ZvUJoQh"
      }
    },
    {
      "cell_type": "markdown",
      "source": [
        "###Q1 Please write a program using generator to print the numbers which can be divisible by 5 and 7 between 0 and n in comma separated form while n is input by console.\n",
        "Example:\n",
        "If the following n is given as input to the program:\n",
        "100\n",
        "Then, the output of the program should be:\n",
        "0,35,70"
      ],
      "metadata": {
        "id": "mI_4sqg5Jo7Z"
      }
    },
    {
      "cell_type": "markdown",
      "source": [
        "###Ans."
      ],
      "metadata": {
        "id": "Co_WfKF5KIL5"
      }
    },
    {
      "cell_type": "code",
      "execution_count": 2,
      "metadata": {
        "colab": {
          "base_uri": "https://localhost:8080/"
        },
        "id": "AQfWpUt4JVnP",
        "outputId": "d819fb86-ba44-465f-9377-0d2dafc4a5b4"
      },
      "outputs": [
        {
          "output_type": "stream",
          "name": "stdout",
          "text": [
            "0 35 70 "
          ]
        }
      ],
      "source": [
        "def showDivNum(in_num):\n",
        "    for i in range(0,in_num):\n",
        "        if(i%5 == 0) and (i%7 == 0):\n",
        "            yield i\n",
        "for i in showDivNum(100):\n",
        "    print(i,end = ' ')"
      ]
    },
    {
      "cell_type": "markdown",
      "source": [
        "\n",
        "\n",
        "---\n",
        "\n"
      ],
      "metadata": {
        "id": "LuHK0K6XKVlh"
      }
    },
    {
      "cell_type": "markdown",
      "source": [
        "###Q2 Please write a program using generator to print the even numbers between 0 and n in comma separated form while n is input by console.\n",
        "Example:\n",
        "If the following n is given as input to the program:\n",
        "10\n",
        "Then, the output of the program should be:\n",
        "0,2,4,6,8,10"
      ],
      "metadata": {
        "id": "p45A3m8wKWSZ"
      }
    },
    {
      "cell_type": "markdown",
      "source": [
        "###Ans."
      ],
      "metadata": {
        "id": "TQkDbhsxKbRI"
      }
    },
    {
      "cell_type": "code",
      "source": [
        "def genEvenNum(in_num):\n",
        "    for i in range(in_num+1):\n",
        "        if i%2 == 0:\n",
        "            yield i\n",
        "for i in genEvenNum(10):\n",
        "    print(i, end = ' ')"
      ],
      "metadata": {
        "colab": {
          "base_uri": "https://localhost:8080/"
        },
        "id": "ESY8v1EQKeHY",
        "outputId": "ed842700-b4ef-487d-971d-181f68436a0a"
      },
      "execution_count": 3,
      "outputs": [
        {
          "output_type": "stream",
          "name": "stdout",
          "text": [
            "0 2 4 6 8 10 "
          ]
        }
      ]
    },
    {
      "cell_type": "markdown",
      "source": [
        "\n",
        "\n",
        "---\n",
        "\n"
      ],
      "metadata": {
        "id": "35pO2oAwKliB"
      }
    },
    {
      "cell_type": "markdown",
      "source": [
        "###Q3 The Fibonacci Sequence is computed based on the following formula:\n",
        "f(n)=0 if n=0\n",
        "f(n)=1 if n=1\n",
        "f(n)=f(n-1)+f(n-2) if n&gt;1\n",
        "Please write a program using list comprehension to print the Fibonacci Sequence in comma\n",
        "separated form with a given n input by console.\n",
        "Example:\n",
        "If the following n is given as input to the program:\n",
        "7\n",
        "\n",
        "Then, the output of the program should be:\n",
        "0,1,1,2,3,5,8,13"
      ],
      "metadata": {
        "id": "7eIUBKCvKmHJ"
      }
    },
    {
      "cell_type": "markdown",
      "source": [
        "###Ans."
      ],
      "metadata": {
        "id": "AdagmQkfKvFm"
      }
    },
    {
      "cell_type": "code",
      "source": [
        "def genFibnacci(in_num):\n",
        "    if in_num == 0:\n",
        "        return 0\n",
        "    elif in_num == 1:\n",
        "        return 1\n",
        "    else:\n",
        "        return genFibnacci(in_num-1)+genFibnacci(in_num-2)\n",
        "\n",
        "print([genFibnacci(x) for x in range(20)])"
      ],
      "metadata": {
        "colab": {
          "base_uri": "https://localhost:8080/"
        },
        "id": "zFFYHyIXKxR2",
        "outputId": "28723384-72a8-4c48-fec7-1a6dbe396f75"
      },
      "execution_count": 4,
      "outputs": [
        {
          "output_type": "stream",
          "name": "stdout",
          "text": [
            "[0, 1, 1, 2, 3, 5, 8, 13, 21, 34, 55, 89, 144, 233, 377, 610, 987, 1597, 2584, 4181]\n"
          ]
        }
      ]
    },
    {
      "cell_type": "markdown",
      "source": [
        "\n",
        "\n",
        "---\n",
        "\n"
      ],
      "metadata": {
        "id": "qLiGOnmPKwfO"
      }
    },
    {
      "cell_type": "markdown",
      "source": [
        "###Q4 Assuming that we have some email addresses in the &quot;username@companyname.com&quot; format, please write program to print the user name of a given email address. Both user names and company names are composed of letters only.\n",
        "Example:\n",
        "If the following email address is given as input to the program:\n",
        "john@google.com\n",
        "Then, the output of the program should be:\n",
        "john"
      ],
      "metadata": {
        "id": "NP5h_nPqTh2E"
      }
    },
    {
      "cell_type": "markdown",
      "source": [
        "###Ans."
      ],
      "metadata": {
        "id": "guwyDsk8TwmE"
      }
    },
    {
      "cell_type": "code",
      "source": [
        "def getUsernames():\n",
        "    in_string = input('Enter Email Address:')\n",
        "    out_string = in_string.split('@')\n",
        "    print(f'Username of {in_string} is {out_string[0]}')\n",
        "\n",
        "getUsernames()"
      ],
      "metadata": {
        "colab": {
          "base_uri": "https://localhost:8080/"
        },
        "id": "Z3o0qM0mTyF4",
        "outputId": "b7fa2aa3-01d8-4644-dba5-8dd279e69094"
      },
      "execution_count": 5,
      "outputs": [
        {
          "output_type": "stream",
          "name": "stdout",
          "text": [
            "Enter Email Address:john@google.com\n",
            "Username of john@google.com is john\n"
          ]
        }
      ]
    },
    {
      "cell_type": "markdown",
      "source": [
        "\n",
        "\n",
        "---\n",
        "\n"
      ],
      "metadata": {
        "id": "Qg0ar4jFT_b8"
      }
    },
    {
      "cell_type": "markdown",
      "source": [
        "###Q5 Define a class named Shape and its subclass Square. The Square class has an init function which takes a length as argument. Both classes have a area function which can print the area of the shape where Shape&#39;s area is 0 by default."
      ],
      "metadata": {
        "id": "RQ3NZ3fbUAYF"
      }
    },
    {
      "cell_type": "markdown",
      "source": [
        "###Ans."
      ],
      "metadata": {
        "id": "MkOMpd44UJLb"
      }
    },
    {
      "cell_type": "code",
      "source": [
        "class Shape:\n",
        "    def area(self):\n",
        "        return 0\n",
        "class Square(Shape):\n",
        "    def __init__(self, length):\n",
        "        self.length = length\n",
        "    def area(self):\n",
        "        return self.length*self.length\n",
        "\n",
        "square = Square(10)\n",
        "print(square.area())"
      ],
      "metadata": {
        "colab": {
          "base_uri": "https://localhost:8080/"
        },
        "id": "KRTZWxveUKzh",
        "outputId": "5f2c3222-25fb-4374-8d1a-0cf3c0e93d54"
      },
      "execution_count": 6,
      "outputs": [
        {
          "output_type": "stream",
          "name": "stdout",
          "text": [
            "100\n"
          ]
        }
      ]
    },
    {
      "cell_type": "markdown",
      "source": [
        "\n",
        "\n",
        "------------------------------------------------------------End-----------------------------------------------------------------------------------------\n"
      ],
      "metadata": {
        "id": "BR__CKyrURRO"
      }
    }
  ]
}