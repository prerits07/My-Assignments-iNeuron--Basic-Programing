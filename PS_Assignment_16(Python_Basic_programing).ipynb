{
  "nbformat": 4,
  "nbformat_minor": 0,
  "metadata": {
    "colab": {
      "provenance": []
    },
    "kernelspec": {
      "name": "python3",
      "display_name": "Python 3"
    },
    "language_info": {
      "name": "python"
    }
  },
  "cells": [
    {
      "cell_type": "markdown",
      "source": [
        "\n",
        "### Python (Basic programing) Assignment No. 16\n",
        "1 Batch - Full Stack Data Science Bootcamp 2.0\n",
        "\n",
        "2 Name - **Prerit Sharma**\n",
        "\n",
        "3 Email ID - **praritsharma7@gmail.com**"
      ],
      "metadata": {
        "id": "PaCkDEHSUs-Z"
      }
    },
    {
      "cell_type": "markdown",
      "source": [
        "\n",
        "\n",
        "---\n",
        "\n"
      ],
      "metadata": {
        "id": "kixPnf7MU1Se"
      }
    },
    {
      "cell_type": "markdown",
      "source": [
        "###Q1 Write a function that stutters a word as if someone is struggling to read it. The first two letters are repeated twice with an ellipsis ... and space after each, and then the word is pronounced with a question mark ?.\n",
        "Examples\n",
        "stutter(&quot;incredible&quot;) ➞ &quot;in... in... incredible?&quot;\n",
        "stutter(&quot;enthusiastic&quot;) ➞ &quot;en... en... enthusiastic?&quot;\n",
        "stutter(&quot;outstanding&quot;) ➞ &quot;ou... ou... outstanding?&quot;\n",
        "\n",
        "Hint :- Assume all input is in lower case and at least two characters long."
      ],
      "metadata": {
        "id": "NjkCtgliU2Ce"
      }
    },
    {
      "cell_type": "markdown",
      "source": [
        "###Ans."
      ],
      "metadata": {
        "id": "eM2LjzddVAYR"
      }
    },
    {
      "cell_type": "code",
      "source": [
        "def stutterWord():\n",
        "    in_string = input('Enter the word:')\n",
        "    out_string = in_string.replace(in_string[0:2],((in_string[0:2]+'... ')*2)+ in_string[0:2])  +'?'\n",
        "    print(f'{in_string} ➞ {out_string}')\n",
        "\n",
        "for i in range(3):\n",
        "    stutterWord()"
      ],
      "metadata": {
        "colab": {
          "base_uri": "https://localhost:8080/"
        },
        "id": "oTL1bmv7VO6A",
        "outputId": "b508be6c-224e-4948-a508-6d729657602f"
      },
      "execution_count": 1,
      "outputs": [
        {
          "output_type": "stream",
          "name": "stdout",
          "text": [
            "Enter the word:incredible\n",
            "incredible ➞ in... in... incredible?\n",
            "Enter the word:enthusiastic\n",
            "enthusiastic ➞ en... en... enthusiastic?\n",
            "Enter the word:outstanding\n",
            "outstanding ➞ ou... ou... outstanding?\n"
          ]
        }
      ]
    },
    {
      "cell_type": "markdown",
      "source": [
        "\n",
        "\n",
        "---\n",
        "\n"
      ],
      "metadata": {
        "id": "EB38swVEVCOS"
      }
    },
    {
      "cell_type": "markdown",
      "source": [
        "###Q2 Create a function that takes an angle in radians and returns the corresponding angle in degrees rounded to one decimal place.\n",
        "Examples\n",
        "radians_to_degrees(1) ➞ 57.3\n",
        "radians_to_degrees(20) ➞ 1145.9\n",
        "radians_to_degrees(50) ➞ 2864.8"
      ],
      "metadata": {
        "id": "ddVQWQzMVSI1"
      }
    },
    {
      "cell_type": "markdown",
      "source": [
        "###Ans."
      ],
      "metadata": {
        "id": "t4cc7VzgVq4Y"
      }
    },
    {
      "cell_type": "code",
      "source": [
        "import math\n",
        "def radianToDegree():\n",
        "    in_num = int(input('Enter the angle in Radians: '))\n",
        "    out_num = (180/math.pi)*in_num\n",
        "    print(f'{in_num} radian(s) ➞ {out_num:.1f} degrees')\n",
        "\n",
        "for x in range(3):\n",
        "    radianToDegree()"
      ],
      "metadata": {
        "colab": {
          "base_uri": "https://localhost:8080/"
        },
        "id": "TKzi9xF0VsqJ",
        "outputId": "7c376bef-1c73-4ecf-c6e0-0a222806b77e"
      },
      "execution_count": 2,
      "outputs": [
        {
          "output_type": "stream",
          "name": "stdout",
          "text": [
            "Enter the angle in Radians: 1\n",
            "1 radian(s) ➞ 57.3 degrees\n",
            "Enter the angle in Radians: 20\n",
            "20 radian(s) ➞ 1145.9 degrees\n",
            "Enter the angle in Radians: 50\n",
            "50 radian(s) ➞ 2864.8 degrees\n"
          ]
        }
      ]
    },
    {
      "cell_type": "markdown",
      "source": [
        "\n",
        "\n",
        "---\n",
        "\n"
      ],
      "metadata": {
        "id": "gZPHwRn1V4nZ"
      }
    },
    {
      "cell_type": "markdown",
      "source": [
        "###Q3 In this challenge, establish if a given integer num is a Curzon number. If 1 plus 2 elevated to num is exactly divisible by 1 plus 2 multiplied by num, then num is a Curzon number.\n",
        "Given a non-negative integer num, implement a function that returns True if num is a Curzon\n",
        "number, or False otherwise.\n",
        "Examples\n",
        "is_curzon(5) ➞ True\n",
        "# 2 ** 5 + 1 = 33\n",
        "# 2 * 5 + 1 = 11\n",
        "# 33 is a multiple of 11\n",
        "is_curzon(10) ➞ False\n",
        "# 2 ** 10 + 1 = 1025\n",
        "# 2 * 10 + 1 = 21\n",
        "# 1025 is not a multiple of 21\n",
        "is_curzon(14) ➞ True\n",
        "# 2 ** 14 + 1 = 16385\n",
        "# 2 * 14 + 1 = 29\n",
        "# 16385 is a multiple of 29"
      ],
      "metadata": {
        "id": "88ANLkNDV5Gy"
      }
    },
    {
      "cell_type": "markdown",
      "source": [
        "###Ans."
      ],
      "metadata": {
        "id": "XI1H-Im6WEmd"
      }
    },
    {
      "cell_type": "code",
      "source": [
        "def check_curzon():\n",
        "    in_num = int(input('Enter a number: '))\n",
        "    if ((2**in_num)+1)%((2*in_num)+1) == 0:\n",
        "        print(f'{in_num} is a curzon number')\n",
        "    else:\n",
        "        print(f'{in_num} is not a curzon number')\n",
        "\n",
        "for i in range(3):\n",
        "    check_curzon()"
      ],
      "metadata": {
        "colab": {
          "base_uri": "https://localhost:8080/"
        },
        "id": "6oPbzpRCWLjL",
        "outputId": "b70f4e14-2683-44c9-e73f-15a9abd4c9d7"
      },
      "execution_count": 3,
      "outputs": [
        {
          "output_type": "stream",
          "name": "stdout",
          "text": [
            "Enter a number: 5\n",
            "5 is a curzon number\n",
            "Enter a number: 10\n",
            "10 is not a curzon number\n",
            "Enter a number: 14\n",
            "14 is a curzon number\n"
          ]
        }
      ]
    },
    {
      "cell_type": "markdown",
      "source": [
        "\n",
        "\n",
        "---\n",
        "\n"
      ],
      "metadata": {
        "id": "Yt4y5O3QWPSt"
      }
    },
    {
      "cell_type": "markdown",
      "source": [
        "###Q4 Question 4.Given the side length x find the area of a hexagon.\n",
        "![123.jpg](data:image/jpeg;base64,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)\n",
        "\n",
        "\n",
        "\n",
        "Examples\n",
        "\n",
        "\n",
        "area_of_hexagon(1) ➞ 2.6\n",
        "area_of_hexagon(2) ➞ 10.4\n",
        "area_of_hexagon(3) ➞ 23.4"
      ],
      "metadata": {
        "id": "lVgDw-tuWP81"
      }
    },
    {
      "cell_type": "markdown",
      "source": [
        "###Ans."
      ],
      "metadata": {
        "id": "M7aHB3HPWl-p"
      }
    },
    {
      "cell_type": "code",
      "source": [
        "import math\n",
        "def area_of_hexagon():\n",
        "    in_num = int(input('Enter the side lenght of a Hexagon: '))\n",
        "    out_num = ((3*math.sqrt(3)/2))*(pow(in_num,2))\n",
        "    print(f'Area for Hexagon of sidelenght {in_num} ➞ {out_num:.1f}')\n",
        "\n",
        "for i in range(3):\n",
        "    area_of_hexagon()"
      ],
      "metadata": {
        "colab": {
          "base_uri": "https://localhost:8080/"
        },
        "id": "HDnBgBWnWvwS",
        "outputId": "4434869e-5414-4ad7-a34a-a519de2e7b8c"
      },
      "execution_count": 4,
      "outputs": [
        {
          "output_type": "stream",
          "name": "stdout",
          "text": [
            "Enter the side lenght of a Hexagon: 1\n",
            "Area for Hexagon of sidelenght 1 ➞ 2.6\n",
            "Enter the side lenght of a Hexagon: 2\n",
            "Area for Hexagon of sidelenght 2 ➞ 10.4\n",
            "Enter the side lenght of a Hexagon: 3\n",
            "Area for Hexagon of sidelenght 3 ➞ 23.4\n"
          ]
        }
      ]
    },
    {
      "cell_type": "markdown",
      "source": [
        "\n",
        "\n",
        "---\n",
        "\n"
      ],
      "metadata": {
        "id": "NG9fp4F8W5BY"
      }
    },
    {
      "cell_type": "markdown",
      "source": [
        "###Q5 Create a function that returns a base-2 (binary) representation of a base-10 (decimal) string number. To convert is simple: ((2) means base-2 and (10) means base-10) 010101001(2) = 1 + 8 + 32 + 128.\n",
        "Going from right to left, the value of the most right bit is 1, now from that every bit to the left\n",
        "will be x2 the value, value of an 8 bit binary numbers are (256, 128, 64, 32, 16, 8, 4, 2, 1).\n",
        "\n",
        "Examples\n",
        "\n",
        "\n",
        "\n",
        "binary(1) ➞ &quot;1&quot;\n",
        "# 1*1 = 1\n",
        "binary(5) ➞ &quot;101&quot;\n",
        "# 1*1 + 1*4 = 5\n",
        "binary(10) ➞ &quot;1010&quot;\n",
        "# 1*2 + 1*8 = 10"
      ],
      "metadata": {
        "id": "NXUkozBAW5rq"
      }
    },
    {
      "cell_type": "markdown",
      "source": [
        "###Ans."
      ],
      "metadata": {
        "id": "NFwOxXCDXF3K"
      }
    },
    {
      "cell_type": "code",
      "source": [
        "def get_binary():\n",
        "    in_num = int(input(\"Enter a Number:\"))\n",
        "    out_num = bin(in_num).replace('0b','')\n",
        "    print(f'Binary of {in_num} ➞ {out_num}')\n",
        "\n",
        "for i in range(3):\n",
        "    get_binary()"
      ],
      "metadata": {
        "colab": {
          "base_uri": "https://localhost:8080/"
        },
        "id": "48zWClYwXHV7",
        "outputId": "50e071f2-1266-408b-f388-8596cf7ae528"
      },
      "execution_count": 5,
      "outputs": [
        {
          "output_type": "stream",
          "name": "stdout",
          "text": [
            "Enter a Number:1\n",
            "Binary of 1 ➞ 1\n",
            "Enter a Number:5\n",
            "Binary of 5 ➞ 101\n",
            "Enter a Number:10\n",
            "Binary of 10 ➞ 1010\n"
          ]
        }
      ]
    },
    {
      "cell_type": "markdown",
      "source": [
        "-------------------------------------------------------------------------------------------End------------------------------------------------------------------------------------"
      ],
      "metadata": {
        "id": "I6q8hUfsXO8b"
      }
    }
  ]
}