{
  "nbformat": 4,
  "nbformat_minor": 0,
  "metadata": {
    "colab": {
      "provenance": []
    },
    "kernelspec": {
      "name": "python3",
      "display_name": "Python 3"
    },
    "language_info": {
      "name": "python"
    }
  },
  "cells": [
    {
      "cell_type": "markdown",
      "source": [
        "\n",
        "### Python (Basic programing) Assignment No. 17\n",
        "1 Batch - Full Stack Data Science Bootcamp 2.0\n",
        "\n",
        "2 Name - **Prerit Sharma**\n",
        "\n",
        "3 Email ID - **praritsharma7@gmail.com**"
      ],
      "metadata": {
        "id": "J3n-wfr3YU41"
      }
    },
    {
      "cell_type": "markdown",
      "source": [
        "\n",
        "\n",
        "---\n",
        "\n"
      ],
      "metadata": {
        "id": "c0fD6AyLYY9E"
      }
    },
    {
      "cell_type": "markdown",
      "source": [
        "###Q1 Create a function that takes three arguments a, b, c and returns the sum of thenumbers that are evenly divided by c from the range a, b inclusive.\n",
        "\n",
        "Examples\n",
        "\n",
        "evenly_divisible(1, 10, 20) ➞ 0\n",
        "# No number between 1 and 10 can be evenly divided by 20.\n",
        "evenly_divisible(1, 10, 2) ➞ 30\n",
        "# 2 + 4 + 6 + 8 + 10 = 30\n",
        "evenly_divisible(1, 10, 3) ➞ 18\n",
        "# 3 + 6 + 9 = 18"
      ],
      "metadata": {
        "id": "mxRIL2JiYZpM"
      }
    },
    {
      "cell_type": "markdown",
      "source": [
        "###Ans."
      ],
      "metadata": {
        "id": "UHcBgt_QYlKY"
      }
    },
    {
      "cell_type": "code",
      "source": [
        "def evenly_divisible(a,b,c):\n",
        "    divlist = []\n",
        "    for i in range(a,b+1):\n",
        "        if i%c == 0:\n",
        "            divlist.append(i)\n",
        "    print(f'{a,b,c} ➞ {sum(divlist)}')\n",
        "\n",
        "evenly_divisible(1,10,20)\n",
        "evenly_divisible(1,10,2)\n",
        "evenly_divisible(1,10,3)"
      ],
      "metadata": {
        "colab": {
          "base_uri": "https://localhost:8080/"
        },
        "id": "SQMrxQo2Ym7u",
        "outputId": "b7c939d0-919e-4eb1-86ca-637db3a87f28"
      },
      "execution_count": 1,
      "outputs": [
        {
          "output_type": "stream",
          "name": "stdout",
          "text": [
            "(1, 10, 20) ➞ 0\n",
            "(1, 10, 2) ➞ 30\n",
            "(1, 10, 3) ➞ 18\n"
          ]
        }
      ]
    },
    {
      "cell_type": "markdown",
      "source": [
        "\n",
        "\n",
        "---\n",
        "\n"
      ],
      "metadata": {
        "id": "2z8JT0rAYt_3"
      }
    },
    {
      "cell_type": "markdown",
      "source": [
        "###Q2 Create a function that returns True if a given inequality expression is correct and False otherwise.\n",
        "\n",
        "Examples\n",
        "\n",
        "\n",
        "correct_signs(&quot;3 &lt; 7 &lt; 11&quot;) ➞ True\n",
        "\n",
        "correct_signs(&quot;13 &gt; 44 &gt; 33 &gt; 1&quot;) ➞ False\n",
        "\n",
        "correct_signs(&quot;1 &lt; 2 &lt; 6 &lt; 9 &gt; 3&quot;) ➞ True"
      ],
      "metadata": {
        "id": "FdHGBugrYug-"
      }
    },
    {
      "cell_type": "markdown",
      "source": [
        "###Ans."
      ],
      "metadata": {
        "id": "g0SvEwYlY4t5"
      }
    },
    {
      "cell_type": "code",
      "source": [
        "def check_equality(s):\n",
        "    regrex = eval(s)\n",
        "    if regrex :\n",
        "        return True\n",
        "    else:\n",
        "        return False\n",
        "\n",
        "print(check_equality(\"3 < 7 < 11\"))\n",
        "print(check_equality(\"13 > 44 > 33 > 1\"))\n",
        "print(check_equality(\"1 < 2 < 6 < 9 > 3\"))"
      ],
      "metadata": {
        "colab": {
          "base_uri": "https://localhost:8080/"
        },
        "id": "nDfg6gzuY6vQ",
        "outputId": "bbf0cd57-8581-4d45-b981-174f91f810e5"
      },
      "execution_count": 2,
      "outputs": [
        {
          "output_type": "stream",
          "name": "stdout",
          "text": [
            "True\n",
            "False\n",
            "True\n"
          ]
        }
      ]
    },
    {
      "cell_type": "markdown",
      "source": [
        "---"
      ],
      "metadata": {
        "id": "2vtSHj9UY_g7"
      }
    },
    {
      "cell_type": "markdown",
      "source": [
        "###Q3 Create a function that replaces all the vowels in a string with a specified character.\n",
        "\n",
        "\n",
        "Examples\n",
        "\n",
        "replace_vowels(&quot;the aardvark&quot;, &quot;#&quot;) ➞ &quot;th# ##rdv#rk&quot;\n",
        "\n",
        "replace_vowels(&quot;minnie mouse&quot;, &quot;?&quot;) ➞ &quot;m?nn?? m??s?&quot;\n",
        "\n",
        "replace_vowels(&quot;shakespeare&quot;, &quot;*&quot;) ➞ &quot;sh*k*sp**r*&quot;"
      ],
      "metadata": {
        "id": "-a8qqbNWZAUq"
      }
    },
    {
      "cell_type": "markdown",
      "source": [
        "###Ans."
      ],
      "metadata": {
        "id": "PNjCeRnCZH5C"
      }
    },
    {
      "cell_type": "code",
      "source": [
        "def replace_vowels_with_char(string,char):\n",
        "    vowels = ['a','e','i','o','u','A','E','I','O','U']\n",
        "    for i in vowels:\n",
        "        string = string.replace(i, char)\n",
        "    return string\n",
        "\n",
        "for i in range(3):\n",
        "    string = input(\"String: \")\n",
        "    char = input(\"Enter a replacement character: \")\n",
        "    print(\"After replacing vowels with the specified character:\", replace_vowels_with_char(string,char))"
      ],
      "metadata": {
        "colab": {
          "base_uri": "https://localhost:8080/"
        },
        "id": "pd6W6Ko6ZKBj",
        "outputId": "488b110e-1ea3-4dbd-d542-1b93ea2f5282"
      },
      "execution_count": 3,
      "outputs": [
        {
          "output_type": "stream",
          "name": "stdout",
          "text": [
            "String: the aardvark\n",
            "Enter a replacement character: #\n",
            "After replacing vowels with the specified character: th# ##rdv#rk\n",
            "String:  minnie mouse\n",
            "Enter a replacement character: ?\n",
            "After replacing vowels with the specified character:  m?nn?? m??s?\n",
            "String: shakespeare\n",
            "Enter a replacement character: *\n",
            "After replacing vowels with the specified character: sh*k*sp**r*\n"
          ]
        }
      ]
    },
    {
      "cell_type": "markdown",
      "source": [
        "\n",
        "\n",
        "---\n",
        "\n"
      ],
      "metadata": {
        "id": "prqOnRZFZJFq"
      }
    },
    {
      "cell_type": "markdown",
      "source": [
        "###Q4 Write a function that calculates the factorial of a number recursively.\n",
        "\n",
        "Examples\n",
        "\n",
        "factorial(5) ➞ 120\n",
        "\n",
        "factorial(3) ➞ 6\n",
        "\n",
        "factorial(1) ➞ 1\n",
        "\n",
        "factorial(0) ➞ 1"
      ],
      "metadata": {
        "id": "6S8UOBSdZkWx"
      }
    },
    {
      "cell_type": "markdown",
      "source": [
        "###Ans."
      ],
      "metadata": {
        "id": "S66nnqTgZrCr"
      }
    },
    {
      "cell_type": "code",
      "source": [
        "def factorial(n):\n",
        "    if n==0:\n",
        "        return 1\n",
        "    return n*factorial(n-1)\n",
        "\n",
        "for i in range(4):\n",
        "    n = int(input('Enter a factorial number:'))\n",
        "    print(f'factorial(n) ➞ {factorial(n)}')"
      ],
      "metadata": {
        "colab": {
          "base_uri": "https://localhost:8080/"
        },
        "id": "2XGDGz9bZsk9",
        "outputId": "fcade650-b2cd-44eb-96b3-6c47c96a1504"
      },
      "execution_count": 5,
      "outputs": [
        {
          "output_type": "stream",
          "name": "stdout",
          "text": [
            "Enter a factorial number:5\n",
            "factorial(n) ➞ 120\n",
            "Enter a factorial number:3\n",
            "factorial(n) ➞ 6\n",
            "Enter a factorial number:1\n",
            "factorial(n) ➞ 1\n",
            "Enter a factorial number:0\n",
            "factorial(n) ➞ 1\n"
          ]
        }
      ]
    },
    {
      "cell_type": "markdown",
      "source": [
        "\n",
        "\n",
        "---\n",
        "\n"
      ],
      "metadata": {
        "id": "mraeRGrRZvXg"
      }
    },
    {
      "cell_type": "markdown",
      "source": [
        "###Q5 Hamming distance is the number of characters that differ between two strings.\n",
        "\n",
        "To illustrate:\n",
        "\n",
        "String1: &quot;abcbba&quot;\n",
        "\n",
        "String2: &quot;abcbda&quot;\n",
        "\n",
        "Hamming Distance: 1 - &quot;b&quot; vs. &quot;d&quot; is the only difference.\n",
        "\n",
        "Create a function that computes the hamming distance between two strings.\n",
        "\n",
        "Examples\n",
        "\n",
        "hamming_distance(&quot;abcde&quot;, &quot;bcdef&quot;) ➞ 5\n",
        "\n",
        "hamming_distance(&quot;abcde&quot;, &quot;abcde&quot;) ➞ 0\n",
        "\n",
        "hamming_distance(&quot;strong&quot;, &quot;strung&quot;) ➞ 1"
      ],
      "metadata": {
        "id": "EACJOopCZ51E"
      }
    },
    {
      "cell_type": "markdown",
      "source": [
        "###Ans."
      ],
      "metadata": {
        "id": "GnFjudBwaDzg"
      }
    },
    {
      "cell_type": "code",
      "source": [
        "def hamming_distance():\n",
        "    s1 = input('Enter String_1:')\n",
        "    s2 = input('Enter String_2')\n",
        "    if len(s1) == len(s2):\n",
        "        count = 0\n",
        "        for i in range(len(s1)):\n",
        "            if s1[i] != s2[i]:\n",
        "                count = count+1\n",
        "        print(f'Hamming Distance between {s1} and {s2} ➞ {count}')\n",
        "    else:\n",
        "        print('Both String must be of same lenght.')\n",
        "\n",
        "for i in range(3):\n",
        "    hamming_distance()"
      ],
      "metadata": {
        "colab": {
          "base_uri": "https://localhost:8080/"
        },
        "id": "6Bo-qbAcaFPa",
        "outputId": "e06530bd-9c80-443c-cab9-de5b729973c4"
      },
      "execution_count": 7,
      "outputs": [
        {
          "output_type": "stream",
          "name": "stdout",
          "text": [
            "Enter String_1:abcde\n",
            "Enter String_2bcdef\n",
            "Hamming Distance between abcde and bcdef ➞ 5\n",
            "Enter String_1:abcde\n",
            "Enter String_2abcde\n",
            "Hamming Distance between abcde and abcde ➞ 0\n",
            "Enter String_1:strong\n",
            "Enter String_2strung\n",
            "Hamming Distance between strong and strung ➞ 1\n"
          ]
        }
      ]
    },
    {
      "cell_type": "markdown",
      "source": [
        "\n",
        "\n",
        "\n",
        "\n",
        "----------------------------------------------------------------------------------------------------------------------------------------End------------------------------------------------------------------------------------------------------------------------\n",
        "\n"
      ],
      "metadata": {
        "id": "JrVdZ4WzaiPI"
      }
    }
  ]
}