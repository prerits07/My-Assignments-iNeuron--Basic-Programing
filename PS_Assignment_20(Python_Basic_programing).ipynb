{
  "nbformat": 4,
  "nbformat_minor": 0,
  "metadata": {
    "colab": {
      "provenance": []
    },
    "kernelspec": {
      "name": "python3",
      "display_name": "Python 3"
    },
    "language_info": {
      "name": "python"
    }
  },
  "cells": [
    {
      "cell_type": "markdown",
      "source": [
        "### Python (Basic programing) Assignment No.20\n",
        "1 Batch - Full Stack Data Science Bootcamp 2.0\n",
        "\n",
        "2 Name - **Prerit Sharma**\n",
        "\n",
        "3 Email ID - **praritsharma7@gmail.com**"
      ],
      "metadata": {
        "id": "WT-JD4V4y0sI"
      }
    },
    {
      "cell_type": "markdown",
      "source": [
        "\n",
        "\n",
        "---\n",
        "\n"
      ],
      "metadata": {
        "id": "5SbOf9wSy_qO"
      }
    },
    {
      "cell_type": "markdown",
      "source": [
        "###Q1 Create a function that takes a list of strings and integers, and filters out the list so that it returns a list of integers only.\n",
        "\n",
        "Examples\n",
        "\n",
        "filter_list([1, 2, 3, &quot;a&quot;, &quot;b&quot;, 4]) ➞ [1, 2, 3, 4]\n",
        "\n",
        "filter_list([&quot;A&quot;, 0, &quot;Edabit&quot;, 1729, &quot;Python&quot;, &quot;1729&quot;]) ➞ [0, 1729]\n",
        "\n",
        "filter_list([&quot;Nothing&quot;, &quot;here&quot;]) ➞ []"
      ],
      "metadata": {
        "id": "hb2eOr6SzAVu"
      }
    },
    {
      "cell_type": "markdown",
      "source": [
        "###Ans."
      ],
      "metadata": {
        "id": "WC8BiGHLzKQG"
      }
    },
    {
      "cell_type": "code",
      "source": [
        "def filter_list(list):\n",
        "    out_list = []\n",
        "    for i in list:\n",
        "        if type(i) == int:\n",
        "            out_list.append(i)\n",
        "    print(f'Output ➞ {out_list}')\n",
        "\n",
        "filter_list([1, 2, 3, \"a\", \"b\", 4])\n",
        "filter_list([\"A\", 0, \"Edabit\", 1729, \"Python\", \"1729\"])\n",
        "filter_list([\"Nothing\", \"here\"])"
      ],
      "metadata": {
        "colab": {
          "base_uri": "https://localhost:8080/"
        },
        "id": "RpWYaYdJzLxE",
        "outputId": "11231ad0-cf58-4340-c47b-631805a0aa40"
      },
      "execution_count": 1,
      "outputs": [
        {
          "output_type": "stream",
          "name": "stdout",
          "text": [
            "Output ➞ [1, 2, 3, 4]\n",
            "Output ➞ [0, 1729]\n",
            "Output ➞ []\n"
          ]
        }
      ]
    },
    {
      "cell_type": "markdown",
      "source": [
        "\n",
        "\n",
        "---\n",
        "\n"
      ],
      "metadata": {
        "id": "cvVFJ-lHzWJ9"
      }
    },
    {
      "cell_type": "markdown",
      "source": [
        "###Q2 Given a list of numbers, create a function which returns the list but with each element&#39;s index in the list added to itself. This means you add 0 to the number at index 0, add 1 to the number at index 1, etc...\n",
        "\n",
        "Examples\n",
        "\n",
        "add_indexes([0, 0, 0, 0, 0]) ➞ [0, 1, 2, 3, 4]\n",
        "\n",
        "add_indexes([1, 2, 3, 4, 5]) ➞ [1, 3, 5, 7, 9]\n",
        "\n",
        "add_indexes([5, 4, 3, 2, 1]) ➞ [5, 5, 5, 5, 5]"
      ],
      "metadata": {
        "id": "FxLmejmTzW_d"
      }
    },
    {
      "cell_type": "markdown",
      "source": [
        "###Ans."
      ],
      "metadata": {
        "id": "trlg3PRtzdcJ"
      }
    },
    {
      "cell_type": "code",
      "source": [
        "def add_indexes(list):\n",
        "    out_list = []\n",
        "    for i in range(len(list)):\n",
        "        out_list.append(i+list[i])\n",
        "    print(f'{list} ➞ {out_list}')\n",
        "\n",
        "add_indexes([0, 0, 0, 0, 0])\n",
        "add_indexes([1, 2, 3, 4, 5])\n",
        "add_indexes([5, 4, 3, 2, 1])"
      ],
      "metadata": {
        "colab": {
          "base_uri": "https://localhost:8080/"
        },
        "id": "Wyr2zCi0zgET",
        "outputId": "d65bdeb5-b34a-43af-e674-366ab74e832a"
      },
      "execution_count": 2,
      "outputs": [
        {
          "output_type": "stream",
          "name": "stdout",
          "text": [
            "[0, 0, 0, 0, 0] ➞ [0, 1, 2, 3, 4]\n",
            "[1, 2, 3, 4, 5] ➞ [1, 3, 5, 7, 9]\n",
            "[5, 4, 3, 2, 1] ➞ [5, 5, 5, 5, 5]\n"
          ]
        }
      ]
    },
    {
      "cell_type": "markdown",
      "source": [
        "\n",
        "\n",
        "---\n",
        "\n"
      ],
      "metadata": {
        "id": "uoWaDL9Jzs_g"
      }
    },
    {
      "cell_type": "markdown",
      "source": [
        "###Q3 Create a function that takes the height and radius of a cone as arguments and returns the volume of the cone rounded to the nearest hundredth. See the resources tab for the formula.\n",
        "\n",
        "![43.jpg](data:image/jpeg;base64,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)\n",
        "\n",
        "\n",
        "Examples\n",
        "\n",
        "\n",
        "cone_volume(3, 2) ➞ 12.57\n",
        "\n",
        "\n",
        "cone_volume(15, 6) ➞ 565.49\n",
        "\n",
        "\n",
        "cone_volume(18, 0) ➞ 0"
      ],
      "metadata": {
        "id": "PXDNk9nXzuxm"
      }
    },
    {
      "cell_type": "markdown",
      "source": [
        "###Ans."
      ],
      "metadata": {
        "id": "GCXYaQyL0FPU"
      }
    },
    {
      "cell_type": "code",
      "source": [
        "import math\n",
        "\n",
        "def cube_volume(height, radius):\n",
        "    output = ((math.pi)*pow(radius,2)*height/3)\n",
        "    print(f'Output ➞ {output:.2f}')\n",
        "\n",
        "cube_volume(3,2)\n",
        "cube_volume(15,6)\n",
        "cube_volume(18,0)"
      ],
      "metadata": {
        "colab": {
          "base_uri": "https://localhost:8080/"
        },
        "id": "nfvExnxB0JDU",
        "outputId": "bc8a415d-87c6-4aae-a4c0-5979a9ca5bc7"
      },
      "execution_count": 3,
      "outputs": [
        {
          "output_type": "stream",
          "name": "stdout",
          "text": [
            "Output ➞ 12.57\n",
            "Output ➞ 565.49\n",
            "Output ➞ 0.00\n"
          ]
        }
      ]
    },
    {
      "cell_type": "markdown",
      "source": [
        "\n",
        "\n",
        "---\n",
        "\n"
      ],
      "metadata": {
        "id": "_IIs6Mri0O6c"
      }
    },
    {
      "cell_type": "markdown",
      "source": [
        "###Q4 This Triangular Number Sequence is generated from a pattern of dots that form a triangle.\n",
        "The first 5 numbers of the sequence, or dots, are:\n",
        "1, 3, 6, 10, 15\n",
        "This means that the first triangle has just one dot, the second one has three dots, the third one has 6 dots and so on.\n",
        "Write a function that gives the number of dots with its corresponding triangle number of the sequence.\n",
        "\n",
        "Examples\n",
        "\n",
        "triangle(1) ➞ 1\n",
        "\n",
        "triangle(6) ➞ 21\n",
        "\n",
        "triangle(215) ➞ 23220"
      ],
      "metadata": {
        "id": "6hnCAWCb0PsB"
      }
    },
    {
      "cell_type": "markdown",
      "source": [
        "###Ans."
      ],
      "metadata": {
        "id": "0EEn0xi50cZz"
      }
    },
    {
      "cell_type": "code",
      "source": [
        "def triangle(in_num):\n",
        "    print(f'Output ➞ {int(in_num)*((in_num+1)/2)}')\n",
        "\n",
        "triangle(1)\n",
        "triangle(6)\n",
        "triangle(215)"
      ],
      "metadata": {
        "colab": {
          "base_uri": "https://localhost:8080/"
        },
        "id": "VYD3c3a60eal",
        "outputId": "24835dd8-1387-44ff-b9f8-f7b76263a543"
      },
      "execution_count": 4,
      "outputs": [
        {
          "output_type": "stream",
          "name": "stdout",
          "text": [
            "Output ➞ 1.0\n",
            "Output ➞ 21.0\n",
            "Output ➞ 23220.0\n"
          ]
        }
      ]
    },
    {
      "cell_type": "markdown",
      "source": [
        "\n",
        "\n",
        "---\n",
        "\n"
      ],
      "metadata": {
        "id": "f3n8eypS0kGR"
      }
    },
    {
      "cell_type": "markdown",
      "source": [
        "###Q5 Create a function that takes a list of numbers between 1 and 10 (excluding one number) and returns the missing number.\n",
        "\n",
        "Examples\n",
        "\n",
        "missing_num([1, 2, 3, 4, 6, 7, 8, 9, 10]) ➞ 5\n",
        "\n",
        "missing_num([7, 2, 3, 6, 5, 9, 1, 4, 8]) ➞ 10\n",
        "\n",
        "missing_num([10, 5, 1, 2, 4, 6, 8, 3, 9]) ➞ 7"
      ],
      "metadata": {
        "id": "iKYNqsQs0kYm"
      }
    },
    {
      "cell_type": "markdown",
      "source": [
        "###Ans.\n"
      ],
      "metadata": {
        "id": "hzoaSsxR0xys"
      }
    },
    {
      "cell_type": "code",
      "source": [
        "def missing_num(list):\n",
        "    for i in range(1,11):\n",
        "        if i not in list:\n",
        "            print(f'missing_num{list} ➞ {i}')\n",
        "\n",
        "missing_num([1, 2, 3, 4, 6, 7, 8, 9, 10])\n",
        "missing_num([7, 2, 3, 6, 5, 9, 1, 4, 8])\n",
        "missing_num([10, 5, 1, 2, 4, 6, 8, 3, 9])"
      ],
      "metadata": {
        "colab": {
          "base_uri": "https://localhost:8080/"
        },
        "id": "6XEaRb2N0zwK",
        "outputId": "d7d26b8b-b27c-41b7-c667-1abe0e3d8f1d"
      },
      "execution_count": 5,
      "outputs": [
        {
          "output_type": "stream",
          "name": "stdout",
          "text": [
            "missing_num[1, 2, 3, 4, 6, 7, 8, 9, 10] ➞ 5\n",
            "missing_num[7, 2, 3, 6, 5, 9, 1, 4, 8] ➞ 10\n",
            "missing_num[10, 5, 1, 2, 4, 6, 8, 3, 9] ➞ 7\n"
          ]
        }
      ]
    },
    {
      "cell_type": "markdown",
      "source": [
        "\n",
        "\n",
        "--------------------------------------------------------------------------------------------------------------End----------------------------------------------------------------------------------------------------------------\n",
        "\n"
      ],
      "metadata": {
        "id": "G7LOt7uh05-F"
      }
    }
  ]
}