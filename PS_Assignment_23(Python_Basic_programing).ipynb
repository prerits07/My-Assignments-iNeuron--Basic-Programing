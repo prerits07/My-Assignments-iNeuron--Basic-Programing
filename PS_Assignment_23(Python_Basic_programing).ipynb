{
  "nbformat": 4,
  "nbformat_minor": 0,
  "metadata": {
    "colab": {
      "provenance": []
    },
    "kernelspec": {
      "name": "python3",
      "display_name": "Python 3"
    },
    "language_info": {
      "name": "python"
    }
  },
  "cells": [
    {
      "cell_type": "markdown",
      "source": [
        "### Python (Basic programing) Assignment No.23\n",
        "1 Batch - Full Stack Data Science Bootcamp 2.0\n",
        "\n",
        "2 Name - **Prerit Sharma**\n",
        "\n",
        "3 Email ID - **praritsharma7@gmail.com**"
      ],
      "metadata": {
        "id": "KxWR9_zaE8gu"
      }
    },
    {
      "cell_type": "markdown",
      "source": [
        "\n",
        "\n",
        "---\n",
        "\n"
      ],
      "metadata": {
        "id": "fmQEaihRFCq0"
      }
    },
    {
      "cell_type": "markdown",
      "source": [
        "###Q1 Create a function that takes a number as an argument and returns True or False depending on whether the number is symmetrical or not. A number is symmetrical when it is the same as its reverse.\n",
        "\n",
        "Examples\n",
        "\n",
        "is_symmetrical(7227) ➞ True\n",
        "\n",
        "is_symmetrical(12567) ➞ False\n",
        "\n",
        "is_symmetrical(44444444) ➞ True\n",
        "\n",
        "is_symmetrical(9939) ➞ False\n",
        "\n",
        "is_symmetrical(1112111) ➞ True"
      ],
      "metadata": {
        "id": "XvMuEDjaFDU5"
      }
    },
    {
      "cell_type": "markdown",
      "source": [
        "###Ans."
      ],
      "metadata": {
        "id": "BtuDHZwNFPJO"
      }
    },
    {
      "cell_type": "code",
      "source": [
        "def is_symmetrical(num):\n",
        "    if str(num) == str(num)[::-1]:\n",
        "        print(f'{num} ➞ {True}')\n",
        "    else:\n",
        "        print(f'{num} ➞ {False}')\n",
        "\n",
        "for i in range(5):\n",
        "    num = input('Enter a number')\n",
        "    is_symmetrical(num)\n"
      ],
      "metadata": {
        "colab": {
          "base_uri": "https://localhost:8080/"
        },
        "id": "e2-e_Vi8GQAK",
        "outputId": "51246416-4b64-4083-8191-7c91de2bf49d"
      },
      "execution_count": null,
      "outputs": [
        {
          "output_type": "stream",
          "name": "stdout",
          "text": [
            "Enter a number7227\n",
            "7227 ➞ True\n",
            "Enter a number12567\n",
            "12567 ➞ False\n",
            "Enter a number44444444\n",
            "44444444 ➞ True\n",
            "Enter a number9939\n",
            "9939 ➞ False\n",
            "Enter a number1112111\n",
            "1112111 ➞ True\n"
          ]
        }
      ]
    },
    {
      "cell_type": "markdown",
      "source": [
        "\n",
        "\n",
        "---\n",
        "\n"
      ],
      "metadata": {
        "id": "QwIDVR2bFQq1"
      }
    },
    {
      "cell_type": "markdown",
      "source": [
        "###Q2 Given a string of numbers separated by a comma and space, return the product of the numbers.\n",
        "\n",
        "Examples\n",
        "\n",
        "multiply_nums(&quot;2, 3&quot;) ➞ 6\n",
        "\n",
        "multiply_nums(&quot;1, 2, 3, 4&quot;) ➞ 24\n",
        "\n",
        "multiply_nums(&quot;54, 75, 453, 0&quot;) ➞ 0\n",
        "\n",
        "multiply_nums(&quot;10, -2&quot;) ➞ -20"
      ],
      "metadata": {
        "id": "NJAMV9mxGU-1"
      }
    },
    {
      "cell_type": "markdown",
      "source": [
        "###Ans."
      ],
      "metadata": {
        "id": "TXhhrJU-Gz1G"
      }
    },
    {
      "cell_type": "code",
      "source": [
        "def multiply_nums(in_string):\n",
        "    out_string = in_string.replace(' ','').split(',')\n",
        "    out_num = 1\n",
        "    for i in out_string:\n",
        "        out_num *= int(i)\n",
        "    print(f'{out_string} ➞ {out_num}')\n",
        "\n",
        "multiply_nums(\"2, 3\")\n",
        "multiply_nums(\"1, 2, 3, 4\")\n",
        "multiply_nums(\"54, 75, 453, 0\")\n",
        "multiply_nums(\"10, -2\")"
      ],
      "metadata": {
        "colab": {
          "base_uri": "https://localhost:8080/"
        },
        "id": "BkDCasVdG1DE",
        "outputId": "06c74ce6-ddc0-4f8a-d7fe-2a739c8586bb"
      },
      "execution_count": null,
      "outputs": [
        {
          "output_type": "stream",
          "name": "stdout",
          "text": [
            "['2', '3'] ➞ 6\n",
            "['1', '2', '3', '4'] ➞ 24\n",
            "['54', '75', '453', '0'] ➞ 0\n",
            "['10', '-2'] ➞ -20\n"
          ]
        }
      ]
    },
    {
      "cell_type": "markdown",
      "source": [
        "\n",
        "\n",
        "---\n",
        "\n"
      ],
      "metadata": {
        "id": "1nJMwd5cG7Vz"
      }
    },
    {
      "cell_type": "markdown",
      "source": [
        "###Q3 Create a function that squares every digit of a number.\n",
        "\n",
        "Examples\n",
        "\n",
        "square_digits(9119) ➞ 811181\n",
        "\n",
        "square_digits(2483) ➞ 416649\n",
        "\n",
        "square_digits(3212) ➞ 9414\n",
        "\n",
        "Notes\n",
        "\n",
        "The function receives an integer and must return an integer."
      ],
      "metadata": {
        "id": "FxwKQW70G8J5"
      }
    },
    {
      "cell_type": "markdown",
      "source": [
        "###Ans."
      ],
      "metadata": {
        "id": "uu71ObbCgCO1"
      }
    },
    {
      "cell_type": "code",
      "source": [
        "def square_digits(num):\n",
        "    list = [str(int(i)**2) for i in str(num)]\n",
        "    out_list = ''.join(list)\n",
        "    print(f'{num} ➞ {int(out_list)}')\n",
        "\n",
        "\n",
        "square_digits(9119)\n",
        "square_digits(2483)\n",
        "square_digits(3212)"
      ],
      "metadata": {
        "colab": {
          "base_uri": "https://localhost:8080/"
        },
        "id": "sTV9lW96gH-k",
        "outputId": "6b42fee6-dd97-4e1c-8074-6639b10d12d2"
      },
      "execution_count": 1,
      "outputs": [
        {
          "output_type": "stream",
          "name": "stdout",
          "text": [
            "9119 ➞ 811181\n",
            "2483 ➞ 416649\n",
            "3212 ➞ 9414\n"
          ]
        }
      ]
    },
    {
      "cell_type": "markdown",
      "source": [
        "\n",
        "\n",
        "---\n",
        "\n"
      ],
      "metadata": {
        "id": "PrUfXJmJgJR0"
      }
    },
    {
      "cell_type": "markdown",
      "source": [
        "###Q4 Create a function that sorts a list and removes all duplicate items from it.\n",
        "\n",
        "\n",
        "Examples\n",
        "\n",
        "setify([1, 3, 3, 5, 5]) ➞ [1, 3, 5]\n",
        "\n",
        "setify([4, 4, 4, 4]) ➞ [4]\n",
        "\n",
        "setify([5, 7, 8, 9, 10, 15]) ➞ [5, 7, 8, 9, 10, 15]\n",
        "\n",
        "setify([3, 3, 3, 2, 1]) ➞ [1, 2, 3]"
      ],
      "metadata": {
        "id": "TZySQ6g3gJ-t"
      }
    },
    {
      "cell_type": "markdown",
      "source": [
        "###Ans."
      ],
      "metadata": {
        "id": "SHYnQtS2gQis"
      }
    },
    {
      "cell_type": "code",
      "source": [
        "def setify(list):\n",
        "    out_list = sorted(set(list))\n",
        "    print(f'setify{list} ➞ {out_list}')\n",
        "\n",
        "setify([1, 3, 3, 5, 5])\n",
        "setify([4, 4, 4, 4])\n",
        "setify([5, 7, 8, 9, 10, 15])\n",
        "setify([3, 3, 3, 2, 1])"
      ],
      "metadata": {
        "colab": {
          "base_uri": "https://localhost:8080/"
        },
        "id": "CvUvJzCTgR6U",
        "outputId": "1d6a4bc6-222a-45f1-f27e-76a209ab16f9"
      },
      "execution_count": 2,
      "outputs": [
        {
          "output_type": "stream",
          "name": "stdout",
          "text": [
            "setify[1, 3, 3, 5, 5] ➞ [1, 3, 5]\n",
            "setify[4, 4, 4, 4] ➞ [4]\n",
            "setify[5, 7, 8, 9, 10, 15] ➞ [5, 7, 8, 9, 10, 15]\n",
            "setify[3, 3, 3, 2, 1] ➞ [1, 2, 3]\n"
          ]
        }
      ]
    },
    {
      "cell_type": "markdown",
      "source": [
        "\n",
        "\n",
        "---\n",
        "\n"
      ],
      "metadata": {
        "id": "BG3t-YEGgWHV"
      }
    },
    {
      "cell_type": "markdown",
      "source": [
        "###Q5 Create a function that returns the mean of all digits.\n",
        "\n",
        "Examples\n",
        "\n",
        "mean(42) ➞ 3\n",
        "\n",
        "mean(12345) ➞ 3\n",
        "\n",
        "mean(666) ➞ 6\n",
        "\n",
        "Notes\n",
        "\n",
        " The mean of all digits is the sum of digits / how many digits there are (e.g. mean of digits in 512 is (5+1+2)/3(number of digits) = 8/3=2).\n",
        "\n",
        " The mean will always be an integer."
      ],
      "metadata": {
        "id": "E2g60H19gW_O"
      }
    },
    {
      "cell_type": "markdown",
      "source": [
        "###Ans."
      ],
      "metadata": {
        "id": "8yUBfW-CgiE-"
      }
    },
    {
      "cell_type": "code",
      "source": [
        "def mean(num):\n",
        "    list = [int(i) for i in str(num)]\n",
        "    out_num = sum(list)/len(str(num))\n",
        "    print(f'Mean of {num} ➞ {out_num:.0f}')\n",
        "\n",
        "mean(42)\n",
        "mean(12345)\n",
        "mean(666)"
      ],
      "metadata": {
        "colab": {
          "base_uri": "https://localhost:8080/"
        },
        "id": "Y20Fh5L4gkej",
        "outputId": "e8ebc7be-88ff-42f1-bbb8-35333be3631c"
      },
      "execution_count": 3,
      "outputs": [
        {
          "output_type": "stream",
          "name": "stdout",
          "text": [
            "Mean of 42 ➞ 3\n",
            "Mean of 12345 ➞ 3\n",
            "Mean of 666 ➞ 6\n"
          ]
        }
      ]
    },
    {
      "cell_type": "markdown",
      "source": [
        "\n",
        "\n",
        "---------------------------------------------------------------------------------------------------------------------------------------End------------------------------------------------------------------------------------------\n",
        "\n"
      ],
      "metadata": {
        "id": "tTg_epsbgoMR"
      }
    }
  ]
}