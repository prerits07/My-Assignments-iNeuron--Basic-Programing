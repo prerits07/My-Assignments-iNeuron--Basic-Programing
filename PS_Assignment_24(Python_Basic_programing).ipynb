{
  "nbformat": 4,
  "nbformat_minor": 0,
  "metadata": {
    "colab": {
      "provenance": []
    },
    "kernelspec": {
      "name": "python3",
      "display_name": "Python 3"
    },
    "language_info": {
      "name": "python"
    }
  },
  "cells": [
    {
      "cell_type": "markdown",
      "source": [
        "### Python (Basic programing) Assignment No.24\n",
        "1 Batch - Full Stack Data Science Bootcamp 2.0\n",
        "\n",
        "2 Name - **Prerit Sharma**\n",
        "\n",
        "3 Email ID - **praritsharma7@gmail.com**"
      ],
      "metadata": {
        "id": "c3M46_a4hPPH"
      }
    },
    {
      "cell_type": "markdown",
      "source": [
        "\n",
        "\n",
        "---\n",
        "\n"
      ],
      "metadata": {
        "id": "p2y6YcrphVXd"
      }
    },
    {
      "cell_type": "markdown",
      "source": [
        "###Q1 Create a function that takes an integer and returns a list from 1 to the given number, where:\n",
        "\n",
        "1. If the number can be divided evenly by 4, amplify it by 10 (i.e. return 10 times the number).\n",
        "\n",
        "2. If the number cannot be divided evenly by 4, simply return the number.\n",
        "Examples\n",
        "\n",
        "amplify(4) ➞ [1, 2, 3, 40]\n",
        "\n",
        "amplify(3) ➞ [1, 2, 3]\n",
        "\n",
        "amplify(25) ➞ [1, 2, 3, 40, 5, 6, 7, 80, 9, 10, 11, 120, 13, 14, 15, 160,\n",
        "17, 18, 19, 200, 21, 22, 23, 240, 25]\n",
        "\n",
        "Notes\n",
        "\n",
        " The given integer will always be equal to or greater than 1.\n",
        "\n",
        " Include the number (see example above).\n",
        "\n",
        " To perform this problem with its intended purpose, try doing it with list\n",
        "comprehensions. If that&#39;s too difficult, just solve the challenge any way you can."
      ],
      "metadata": {
        "id": "101bTkRkhWGO"
      }
    },
    {
      "cell_type": "markdown",
      "source": [
        "###Ans."
      ],
      "metadata": {
        "id": "ryXWJz1zhgCM"
      }
    },
    {
      "cell_type": "code",
      "source": [
        "def amplify(num):\n",
        "    out_list = []\n",
        "    for i in range(1,num+1):\n",
        "      if i%4 == 0:\n",
        "          out_list.append(i*10)\n",
        "      else:\n",
        "          out_list.append(i)\n",
        "    print(f'amplify({num})  ➞ {out_list}')\n",
        "\n",
        "\n",
        "amplify(4)\n",
        "amplify(3)\n",
        "amplify(25)"
      ],
      "metadata": {
        "colab": {
          "base_uri": "https://localhost:8080/"
        },
        "id": "IbqqplnNhhY0",
        "outputId": "80a8a1f3-7870-4fb6-e549-1cbe75ae2eb2"
      },
      "execution_count": 2,
      "outputs": [
        {
          "output_type": "stream",
          "name": "stdout",
          "text": [
            "amplify(4)  ➞ [1, 2, 3, 40]\n",
            "amplify(3)  ➞ [1, 2, 3]\n",
            "amplify(25)  ➞ [1, 2, 3, 40, 5, 6, 7, 80, 9, 10, 11, 120, 13, 14, 15, 160, 17, 18, 19, 200, 21, 22, 23, 240, 25]\n"
          ]
        }
      ]
    },
    {
      "cell_type": "markdown",
      "source": [
        "\n",
        "\n",
        "---\n",
        "\n"
      ],
      "metadata": {
        "id": "q8aEIzkfinov"
      }
    },
    {
      "cell_type": "markdown",
      "source": [
        "###Q2 Create a function that takes a list of numbers and return the number that&#39;s unique.\n",
        "\n",
        "\n",
        "Examples\n",
        "\n",
        "unique([3, 3, 3, 7, 3, 3]) ➞ 7\n",
        "\n",
        "unique([0, 0, 0.77, 0, 0]) ➞ 0.77\n",
        "\n",
        "unique([0, 1, 1, 1, 1, 1, 1, 1]) ➞ 0\n",
        "\n",
        "Notes\n",
        "\n",
        "Test cases will always have exactly one unique number while all others are the same."
      ],
      "metadata": {
        "id": "pgcJKTTRiojW"
      }
    },
    {
      "cell_type": "markdown",
      "source": [
        "###Ans."
      ],
      "metadata": {
        "id": "F5v3pV9Yi2TX"
      }
    },
    {
      "cell_type": "code",
      "source": [
        "def unique(list):\n",
        "    out_num = ''\n",
        "    for i in set(list):\n",
        "        if list.count(i) == 1:\n",
        "            out_num = 1\n",
        "    print(f'unique({list})  ➞ {out_num}')\n",
        "\n",
        "unique([3, 3, 3, 7, 3, 3])\n",
        "unique([0, 0, 0.77, 0, 0])\n",
        "unique([0, 1, 1, 1, 1, 1, 1, 1])"
      ],
      "metadata": {
        "colab": {
          "base_uri": "https://localhost:8080/"
        },
        "id": "wpy0pxgoi3pl",
        "outputId": "f4382b54-146d-490c-f6a3-fe58831fc228"
      },
      "execution_count": 3,
      "outputs": [
        {
          "output_type": "stream",
          "name": "stdout",
          "text": [
            "unique([3, 3, 3, 7, 3, 3])  ➞ 1\n",
            "unique([0, 0, 0.77, 0, 0])  ➞ 1\n",
            "unique([0, 1, 1, 1, 1, 1, 1, 1])  ➞ 1\n"
          ]
        }
      ]
    },
    {
      "cell_type": "markdown",
      "source": [
        "\n",
        "\n",
        "---\n",
        "\n"
      ],
      "metadata": {
        "id": "E_fSHSjYjd6M"
      }
    },
    {
      "cell_type": "markdown",
      "source": [
        "###Q3 Your task is to create a Circle constructor that creates a circle with a radius provided by an argument. The circles constructed must have two getters getArea() (PIr^2) and\n",
        "getPerimeter() (2PI*r) which give both respective areas and perimeter (circumference).\n",
        "\n",
        "For help with this class, I have provided you with a Rectangle constructor which you can use\n",
        "as a base example.\n",
        "\n",
        "Examples\n",
        "\n",
        "\n",
        "circy = Circle(11)\n",
        "\n",
        "circy.getArea()\n",
        "\n",
        "# Should return 380.132711084365\n",
        "\n",
        "circy = Circle(4.44)\n",
        "\n",
        "circy.getPerimeter()\n",
        "\n",
        "# Should return 27.897342763877365\n",
        "\n",
        "Notes\n",
        "\n",
        "Round results up to the nearest integer."
      ],
      "metadata": {
        "id": "zNz-3gpFje_7"
      }
    },
    {
      "cell_type": "markdown",
      "source": [
        "###Ans."
      ],
      "metadata": {
        "id": "KdyFQ-NWjsVy"
      }
    },
    {
      "cell_type": "code",
      "source": [
        "import math\n",
        "\n",
        "class Circle:\n",
        "    def __init__(self,radius):\n",
        "        self.radius = radius\n",
        "    def getArea(self):\n",
        "        print(f'Radius ➞ {round(math.pi*self.radius*self.radius)}')\n",
        "    def getPerimeter(self):\n",
        "        print(f'Perimeter ➞ {round(2*math.pi*self.radius)}')\n",
        "\n",
        "circy = Circle(11)\n",
        "circy.getArea()\n",
        "\n",
        "circy = Circle(4.44)\n",
        "circy.getPerimeter()"
      ],
      "metadata": {
        "colab": {
          "base_uri": "https://localhost:8080/"
        },
        "id": "AI67elS1juij",
        "outputId": "ac04b233-2819-411b-92e2-ad9198e5d19a"
      },
      "execution_count": 4,
      "outputs": [
        {
          "output_type": "stream",
          "name": "stdout",
          "text": [
            "Radius ➞ 380\n",
            "Perimeter ➞ 28\n"
          ]
        }
      ]
    },
    {
      "cell_type": "markdown",
      "source": [
        "\n",
        "\n",
        "---\n",
        "\n"
      ],
      "metadata": {
        "id": "HEogtMq_jx8p"
      }
    },
    {
      "cell_type": "markdown",
      "source": [
        "###Q4 Create a function that takes a list of strings and return a list, sorted from shortest to longest.\n",
        "\n",
        "Examples\n",
        "\n",
        "sort_by_length([&quot;Google&quot;, &quot;Apple&quot;, &quot;Microsoft&quot;])\n",
        "➞ [&quot;Apple&quot;, &quot;Google&quot;, &quot;Microsoft&quot;]\n",
        "\n",
        "sort_by_length([&quot;Leonardo&quot;, &quot;Michelangelo&quot;, &quot;Raphael&quot;, &quot;Donatello&quot;])\n",
        "➞ [&quot;Raphael&quot;, &quot;Leonardo&quot;, &quot;Donatello&quot;, &quot;Michelangelo&quot;]\n",
        "\n",
        "sort_by_length([&quot;Turing&quot;, &quot;Einstein&quot;, &quot;Jung&quot;])\n",
        "➞ [&quot;Jung&quot;, &quot;Turing&quot;, &quot;Einstein&quot;]\n",
        "\n",
        "Notes\n",
        "\n",
        "All test cases contain lists with strings of different lengths, so you won&#39;t have to deal with multiple strings of the same length."
      ],
      "metadata": {
        "id": "w5s9F1PDjzl5"
      }
    },
    {
      "cell_type": "markdown",
      "source": [
        "###Ans."
      ],
      "metadata": {
        "id": "kbRBpyb0j_7D"
      }
    },
    {
      "cell_type": "code",
      "source": [
        "def sort_by_length(in_list):\n",
        "    print(sorted(in_list,key=len))\n",
        "\n",
        "sort_by_length([\"Google\", \"Apple\", \"Microsoft\"])\n",
        "sort_by_length([\"Leonardo\", \"Michelangelo\", \"Raphael\", \"Donatello\"])\n",
        "sort_by_length([\"Turing\", \"Einstein\", \"Jung\"])"
      ],
      "metadata": {
        "colab": {
          "base_uri": "https://localhost:8080/"
        },
        "id": "t4_XVRBlkEk4",
        "outputId": "a5d8505f-4af4-4e06-e0dc-26a5ac4dcedd"
      },
      "execution_count": 5,
      "outputs": [
        {
          "output_type": "stream",
          "name": "stdout",
          "text": [
            "['Apple', 'Google', 'Microsoft']\n",
            "['Raphael', 'Leonardo', 'Donatello', 'Michelangelo']\n",
            "['Jung', 'Turing', 'Einstein']\n"
          ]
        }
      ]
    },
    {
      "cell_type": "markdown",
      "source": [
        "\n",
        "\n",
        "---\n",
        "\n"
      ],
      "metadata": {
        "id": "mqTITt5-kGwo"
      }
    },
    {
      "cell_type": "markdown",
      "source": [
        "###Q5 Create a function that validates whether three given integers form a Pythagorean triplet. Thesum of the squares of the two smallest integers must equal the square of the largest number to be validated.\n",
        "\n",
        "Examples\n",
        "\n",
        "is_triplet(3, 4, 5) ➞ True\n",
        "# 3² + 4² = 25\n",
        "# 5² = 25\n",
        "\n",
        "is_triplet(13, 5, 12) ➞ True\n",
        "# 5² + 12² = 169\n",
        "# 13² = 169\n",
        "\n",
        "is_triplet(1, 2, 3) ➞ False\n",
        "# 1² + 2² = 5\n",
        "# 3² = 9\n",
        "\n",
        "Notes\n",
        "\n",
        "Numbers may not be given in a sorted order."
      ],
      "metadata": {
        "id": "fMPZN1YAkHtI"
      }
    },
    {
      "cell_type": "markdown",
      "source": [
        "###Ans."
      ],
      "metadata": {
        "id": "zzYveeb9kTgX"
      }
    },
    {
      "cell_type": "code",
      "source": [
        "def is_triplet(a,b,c):\n",
        "    if ((a**2 + b**2)) == (c**2):\n",
        "        print(f'is_triplet{a,b,c} ➞ {True}')\n",
        "    else:\n",
        "        print(f'is_triplet{a,b,c} ➞ {True}')\n",
        "\n",
        "is_triplet(3, 4, 5)\n",
        "is_triplet(3, 4, 5)\n",
        "is_triplet(1, 2, 3)"
      ],
      "metadata": {
        "colab": {
          "base_uri": "https://localhost:8080/"
        },
        "id": "uGuIRW9LkVAX",
        "outputId": "9f77aa24-316b-4a0b-dba1-7da7ff141a88"
      },
      "execution_count": 6,
      "outputs": [
        {
          "output_type": "stream",
          "name": "stdout",
          "text": [
            "is_triplet(3, 4, 5) ➞ True\n",
            "is_triplet(3, 4, 5) ➞ True\n",
            "is_triplet(1, 2, 3) ➞ True\n"
          ]
        }
      ]
    },
    {
      "cell_type": "markdown",
      "source": [
        "---------------------------------------------------------------------------------------------------End------------------------------------------------------------------------------------------------------------------------------------------"
      ],
      "metadata": {
        "id": "yUDYT876kYxv"
      }
    }
  ]
}