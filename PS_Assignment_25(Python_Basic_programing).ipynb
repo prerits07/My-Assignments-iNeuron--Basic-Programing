{
  "nbformat": 4,
  "nbformat_minor": 0,
  "metadata": {
    "colab": {
      "provenance": []
    },
    "kernelspec": {
      "name": "python3",
      "display_name": "Python 3"
    },
    "language_info": {
      "name": "python"
    }
  },
  "cells": [
    {
      "cell_type": "markdown",
      "source": [
        "### Python (Basic programing) Assignment No.25\n",
        "1 Batch - Full Stack Data Science Bootcamp 2.0\n",
        "\n",
        "2 Name - **Prerit Sharma**\n",
        "\n",
        "3 Email ID - **praritsharma7@gmail.com**"
      ],
      "metadata": {
        "id": "zLM69EOyk2Fl"
      }
    },
    {
      "cell_type": "markdown",
      "source": [
        "\n",
        "\n",
        "---\n",
        "\n"
      ],
      "metadata": {
        "id": "zTbpR2sok6qF"
      }
    },
    {
      "cell_type": "markdown",
      "source": [
        "###Q1 Create a function that takes three integer arguments (a, b, c) and returns the amount of integers which are of equal value.\n",
        "\n",
        "Examples\n",
        "\n",
        "\n",
        "equal(3, 4, 3) ➞ 2\n",
        "\n",
        "equal(1, 1, 1) ➞ 3\n",
        "\n",
        "equal(3, 4, 1) ➞ 0\n",
        "\n",
        "Notes\n",
        "\n",
        "Your function must return 0, 2 or 3."
      ],
      "metadata": {
        "id": "vYghtXzIk7Gr"
      }
    },
    {
      "cell_type": "markdown",
      "source": [
        "###Ans."
      ],
      "metadata": {
        "id": "4IpI86VIlBYb"
      }
    },
    {
      "cell_type": "code",
      "source": [
        "def equal(a,b,c):\n",
        "    if a==b==c:\n",
        "        print(f'{a,b,c} ➞ {3}')\n",
        "    elif a==b or b==c or a==c:\n",
        "        print(f'{a,b,c} ➞ {2}')\n",
        "    else:\n",
        "        print(f'{a,b,c} ➞ {0}')\n",
        "\n",
        "equal(3, 4, 3)\n",
        "equal(1, 1, 1)\n",
        "equal(3, 4, 1)"
      ],
      "metadata": {
        "colab": {
          "base_uri": "https://localhost:8080/"
        },
        "id": "KYaIewGVlDQk",
        "outputId": "5b4c5c5c-90ad-47a2-f24d-486d2b450778"
      },
      "execution_count": 1,
      "outputs": [
        {
          "output_type": "stream",
          "name": "stdout",
          "text": [
            "(3, 4, 3) ➞ 2\n",
            "(1, 1, 1) ➞ 3\n",
            "(3, 4, 1) ➞ 0\n"
          ]
        }
      ]
    },
    {
      "cell_type": "markdown",
      "source": [
        "\n",
        "\n",
        "---\n",
        "\n"
      ],
      "metadata": {
        "id": "LuP1y67LlJQj"
      }
    },
    {
      "cell_type": "markdown",
      "source": [
        "###Q2 Write a function that converts a dictionary into a list of keys-values tuples.\n",
        "\n",
        "\n",
        "Examples\n",
        "\n",
        "dict_to_list({\n",
        "&quot;D&quot;: 1,\n",
        "&quot;B&quot;: 2,\n",
        "&quot;C&quot;: 3\n",
        "}) ➞ [(&quot;B&quot;, 2), (&quot;C&quot;, 3), (&quot;D&quot;, 1)]\n",
        "\n",
        "dict_to_list({\n",
        "&quot;likes&quot;: 2,\n",
        "&quot;dislikes&quot;: 3,\n",
        "&quot;followers&quot;: 10\n",
        "}) ➞ [(&quot;dislikes&quot;, 3), (&quot;followers&quot;, 10), (&quot;likes&quot;, 2)]\n",
        "\n",
        "Notes\n",
        "\n",
        "Return the elements in the list in alphabetical order."
      ],
      "metadata": {
        "id": "vLPD-801lJ6k"
      }
    },
    {
      "cell_type": "markdown",
      "source": [
        "###Ans.\n"
      ],
      "metadata": {
        "id": "0fzxKkV2lRCS"
      }
    },
    {
      "cell_type": "code",
      "source": [
        "def dict_to_list(dict):\n",
        "    list = []\n",
        "    for keys,values in dict.items():\n",
        "        list.append((keys,values))\n",
        "    print(f'dict_to_list({dict}) ➞ {list}')\n",
        "\n",
        "dict_to_list({\"D\": 1,\"B\": 2,\"C\": 3})\n",
        "dict_to_list({\"likes\": 2,\"dislikes\": 3,\"followers\": 10})"
      ],
      "metadata": {
        "colab": {
          "base_uri": "https://localhost:8080/"
        },
        "id": "lhPLse2BlSeU",
        "outputId": "9e67e391-321f-4718-9614-f5e7ad414988"
      },
      "execution_count": 2,
      "outputs": [
        {
          "output_type": "stream",
          "name": "stdout",
          "text": [
            "dict_to_list({'D': 1, 'B': 2, 'C': 3}) ➞ [('D', 1), ('B', 2), ('C', 3)]\n",
            "dict_to_list({'likes': 2, 'dislikes': 3, 'followers': 10}) ➞ [('likes', 2), ('dislikes', 3), ('followers', 10)]\n"
          ]
        }
      ]
    },
    {
      "cell_type": "markdown",
      "source": [
        "\n",
        "\n",
        "---\n",
        "\n"
      ],
      "metadata": {
        "id": "EDx8u_rWlYPi"
      }
    },
    {
      "cell_type": "markdown",
      "source": [
        "###Q3 Write a function that creates a dictionary with each (key, value) pair being the (lower case,upper case) versions of a letter, respectively.\n",
        "\n",
        "Examples\n",
        "\n",
        "mapping([&quot;p&quot;, &quot;s&quot;]) ➞ { &quot;p&quot;: &quot;P&quot;, &quot;s&quot;: &quot;S&quot; }\n",
        "\n",
        "\n",
        "mapping([&quot;a&quot;, &quot;b&quot;, &quot;c&quot;]) ➞ { &quot;a&quot;: &quot;A&quot;, &quot;b&quot;: &quot;B&quot;, &quot;c&quot;: &quot;C&quot; }\n",
        "\n",
        "mapping([&quot;a&quot;, &quot;v&quot;, &quot;y&quot;, &quot;z&quot;]) ➞ { &quot;a&quot;: &quot;A&quot;, &quot;v&quot;: &quot;V&quot;, &quot;y&quot;: &quot;Y&quot;, &quot;z&quot;: &quot;Z&quot; }\n",
        "\n",
        "Notes\n",
        "\n",
        "All of the letters in the input list will always be lowercase."
      ],
      "metadata": {
        "id": "3l8vvQZ2lY7D"
      }
    },
    {
      "cell_type": "markdown",
      "source": [
        "###Ans."
      ],
      "metadata": {
        "id": "bKhDlrgLli56"
      }
    },
    {
      "cell_type": "code",
      "source": [
        "def mapping(list):\n",
        "    out_dict = {}\n",
        "    for i in list:\n",
        "        out_dict[i] = i.upper()\n",
        "    print(f'mapping({list}) ➞ {out_dict}')\n",
        "\n",
        "mapping([\"p\", \"s\"])\n",
        "mapping([\"a\", \"b\", \"c\"])\n",
        "mapping([\"a\", \"v\", \"y\", \"z\"])"
      ],
      "metadata": {
        "colab": {
          "base_uri": "https://localhost:8080/"
        },
        "id": "-2wPk7vrlkf6",
        "outputId": "0cd6e41b-b1a6-4f43-dfde-a7f58e2523ab"
      },
      "execution_count": 3,
      "outputs": [
        {
          "output_type": "stream",
          "name": "stdout",
          "text": [
            "mapping(['p', 's']) ➞ {'p': 'P', 's': 'S'}\n",
            "mapping(['a', 'b', 'c']) ➞ {'a': 'A', 'b': 'B', 'c': 'C'}\n",
            "mapping(['a', 'v', 'y', 'z']) ➞ {'a': 'A', 'v': 'V', 'y': 'Y', 'z': 'Z'}\n"
          ]
        }
      ]
    },
    {
      "cell_type": "markdown",
      "source": [
        "\n",
        "\n",
        "---\n",
        "\n"
      ],
      "metadata": {
        "id": "IutQVfUklqPJ"
      }
    },
    {
      "cell_type": "markdown",
      "source": [
        "###Q4 Write a function, that replaces all vowels in a string with a specified vowel.\n",
        "\n",
        "\n",
        "Examples\n",
        "\n",
        "vow_replace(&quot;apples and bananas&quot;, &quot;u&quot;) ➞ &quot;upplus und bununus&quot;\n",
        "\n",
        "vow_replace(&quot;cheese casserole&quot;, &quot;o&quot;) ➞ &quot;chooso cossorolo&quot;\n",
        "\n",
        "vow_replace(&quot;stuffed jalapeno poppers&quot;, &quot;e&quot;) ➞ &quot;steffed jelepene peppers&quot;\n",
        "\n",
        "Notes\n",
        "\n",
        "All words will be lowercase. Y is not considered a vowel."
      ],
      "metadata": {
        "id": "gH0FmIKYlrCA"
      }
    },
    {
      "cell_type": "markdown",
      "source": [
        "###Ans."
      ],
      "metadata": {
        "id": "4j-iFeGQlyXB"
      }
    },
    {
      "cell_type": "code",
      "source": [
        "def vow_replace(in_string,vow_char):\n",
        "    vowels = ['a','e','i','o','u']\n",
        "    out_string = ''\n",
        "    for i in in_string:\n",
        "        if i in vowels:\n",
        "            out_string += vow_char\n",
        "        else:\n",
        "            out_string += i\n",
        "\n",
        "    print(f'vow_replace(\"{in_string}\") ➞ {out_string}')\n",
        "\n",
        "vow_replace(\"apples and bananas\", \"u\")\n",
        "vow_replace(\"cheese casserole\", \"o\")\n",
        "vow_replace(\"stuffed jalapeno poppers\", \"e\")"
      ],
      "metadata": {
        "colab": {
          "base_uri": "https://localhost:8080/"
        },
        "id": "3D7fyyP9lzkJ",
        "outputId": "52d243da-c3b6-47dc-c42f-f3231cd0f78f"
      },
      "execution_count": 4,
      "outputs": [
        {
          "output_type": "stream",
          "name": "stdout",
          "text": [
            "vow_replace(\"apples and bananas\") ➞ upplus und bununus\n",
            "vow_replace(\"cheese casserole\") ➞ chooso cossorolo\n",
            "vow_replace(\"stuffed jalapeno poppers\") ➞ steffed jelepene peppers\n"
          ]
        }
      ]
    },
    {
      "cell_type": "markdown",
      "source": [
        "\n",
        "\n",
        "---\n",
        "\n"
      ],
      "metadata": {
        "id": "GFpR8Uiyl4tR"
      }
    },
    {
      "cell_type": "markdown",
      "source": [
        "###Q5 Create a function that takes a string as input and capitalizes a letter if its ASCII code is even and returns its lower case version if its ASCII code is odd.\n",
        "\n",
        "\n",
        "Examples\n",
        "\n",
        "ascii_capitalize(&quot;to be or not to be!&quot;) ➞ &quot;To Be oR NoT To Be!&quot;\n",
        "\n",
        "ascii_capitalize(&quot;THE LITTLE MERMAID&quot;) ➞ &quot;THe LiTTLe meRmaiD&quot;\n",
        "\n",
        "ascii_capitalize(&quot;Oh what a beautiful morning.&quot;) ➞ &quot;oH wHaT a BeauTiFuL\n",
        "moRNiNg.&quot;"
      ],
      "metadata": {
        "id": "_g7i57Q0l5Qw"
      }
    },
    {
      "cell_type": "markdown",
      "source": [
        "###Ans.\n"
      ],
      "metadata": {
        "id": "zJuJj7s8mEh5"
      }
    },
    {
      "cell_type": "code",
      "source": [
        "def ascii_capitalize(in_string):\n",
        "    out_string = ''\n",
        "    for i in in_string.lower():\n",
        "        if (ord(i)%2 == 0):\n",
        "            out_string += i.upper()\n",
        "        else:\n",
        "            out_string += i\n",
        "    print(f'ascii_capitalize(\"{in_string}\") ➞ \"{out_string}\"')\n",
        "\n",
        "ascii_capitalize(\"to be or not to be!\")\n",
        "ascii_capitalize(\"THE LITTLE MERMAID\")\n",
        "ascii_capitalize(\"Oh what a beautiful morning.\")"
      ],
      "metadata": {
        "colab": {
          "base_uri": "https://localhost:8080/"
        },
        "id": "uH1N-y12mF93",
        "outputId": "81bbc8e9-c5a0-472d-e682-25205dcbeb2b"
      },
      "execution_count": 5,
      "outputs": [
        {
          "output_type": "stream",
          "name": "stdout",
          "text": [
            "ascii_capitalize(\"to be or not to be!\") ➞ \"To Be oR NoT To Be!\"\n",
            "ascii_capitalize(\"THE LITTLE MERMAID\") ➞ \"THe LiTTLe meRmaiD\"\n",
            "ascii_capitalize(\"Oh what a beautiful morning.\") ➞ \"oH wHaT a BeauTiFuL moRNiNg.\"\n"
          ]
        }
      ]
    },
    {
      "cell_type": "markdown",
      "source": [
        "---------------------------------------------------------------------------------------------------------End---------------------------------------------------------------------------------------------------------"
      ],
      "metadata": {
        "id": "BIrDYO3emJY3"
      }
    }
  ]
}